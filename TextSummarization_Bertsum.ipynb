{
  "nbformat": 4,
  "nbformat_minor": 0,
  "metadata": {
    "colab": {
      "name": "TextSummarization_Bertsum.ipynb",
      "provenance": [],
      "collapsed_sections": [],
      "machine_shape": "hm",
      "mount_file_id": "1ebJlzoaqHxJVO4OzrJEqaZ-6tKPdWduN",
      "authorship_tag": "ABX9TyNmF8/prOISXZ4U99hOvHyb",
      "include_colab_link": true
    },
    "kernelspec": {
      "name": "python3",
      "display_name": "Python 3"
    },
    "accelerator": "GPU"
  },
  "cells": [
    {
      "cell_type": "markdown",
      "metadata": {
        "id": "view-in-github",
        "colab_type": "text"
      },
      "source": [
        "<a href=\"https://colab.research.google.com/github/thangarani/project/blob/master/TextSummarization_Bertsum.ipynb\" target=\"_parent\"><img src=\"https://colab.research.google.com/assets/colab-badge.svg\" alt=\"Open In Colab\"/></a>"
      ]
    },
    {
      "cell_type": "markdown",
      "metadata": {
        "id": "mrUwWDpSzQUF",
        "colab_type": "text"
      },
      "source": [
        "BertSum Text Summarization\n",
        "\n",
        "\n",
        "---\n",
        "\n",
        "\n",
        "\n",
        "\n",
        "\n",
        "\n",
        "\n",
        "Clone [BertSum](https://github.com/nlpyang/BertSum) project"
      ]
    },
    {
      "cell_type": "code",
      "metadata": {
        "id": "V9VHyx-OPS7U",
        "colab_type": "code",
        "colab": {}
      },
      "source": [
        "!git clone https://github.com/nlpyang/BertSum.git"
      ],
      "execution_count": null,
      "outputs": []
    },
    {
      "cell_type": "code",
      "metadata": {
        "id": "EjgwQd89Z0VF",
        "colab_type": "code",
        "colab": {}
      },
      "source": [
        "cd /content/BertSum/"
      ],
      "execution_count": null,
      "outputs": []
    },
    {
      "cell_type": "markdown",
      "metadata": {
        "id": "ziwqqa3U0SH8",
        "colab_type": "text"
      },
      "source": [
        "To make it simpler and less time consuming. I Download and unziped the stories directories for both CNN and Daily Mail in my personnal pc. Put all .story files in one directory (e.g...BertSum/raw_stories) and uploaded it into my github account. You can directly clone the .story files."
      ]
    },
    {
      "cell_type": "code",
      "metadata": {
        "id": "dsg1Hm3ajrU1",
        "colab_type": "code",
        "colab": {}
      },
      "source": [
        "!git clone https://github.com/thangarani/raw_stories.git"
      ],
      "execution_count": null,
      "outputs": []
    },
    {
      "cell_type": "markdown",
      "metadata": {
        "id": "eegEXiAA16FB",
        "colab_type": "text"
      },
      "source": [
        "Download and Install Stanford Core NLP\n",
        "\n",
        "---\n",
        "\n"
      ]
    },
    {
      "cell_type": "markdown",
      "metadata": {
        "id": "d17ARaJk1c4y",
        "colab_type": "text"
      },
      "source": [
        "We will need Stanford CoreNLP to tokenize the data. Download it [here](https://stanfordnlp.github.io/CoreNLP/) and unzip it. Then add the following command:"
      ]
    },
    {
      "cell_type": "code",
      "metadata": {
        "id": "h6S_7apjb5BS",
        "colab_type": "code",
        "colab": {}
      },
      "source": [
        "!wget http://nlp.stanford.edu/software/stanford-corenlp-latest.zip"
      ],
      "execution_count": null,
      "outputs": []
    },
    {
      "cell_type": "code",
      "metadata": {
        "id": "EWWNxNacq1dZ",
        "colab_type": "code",
        "colab": {}
      },
      "source": [
        "!sudo apt install unzip"
      ],
      "execution_count": null,
      "outputs": []
    },
    {
      "cell_type": "code",
      "metadata": {
        "id": "JQK1y-gusgBX",
        "colab_type": "code",
        "colab": {}
      },
      "source": [
        "!unzip stanford-corenlp-latest.zip"
      ],
      "execution_count": null,
      "outputs": []
    },
    {
      "cell_type": "code",
      "metadata": {
        "id": "dXf2p8l1uhTe",
        "colab_type": "code",
        "colab": {}
      },
      "source": [
        "!jar -tvf /content/BertSum/stanford-corenlp-full-2020-07-31/stanford-corenlp-4.1.0.jar"
      ],
      "execution_count": null,
      "outputs": []
    },
    {
      "cell_type": "code",
      "metadata": {
        "id": "HDYAA0L8wxMA",
        "colab_type": "code",
        "colab": {}
      },
      "source": [
        "%env CLASSPATH=/content/BertSum/stanford-corenlp-full-2020-07-31/stanford-corenlp-4.1.0.jar"
      ],
      "execution_count": null,
      "outputs": []
    },
    {
      "cell_type": "markdown",
      "metadata": {
        "id": "gkQiu_uz2D4t",
        "colab_type": "text"
      },
      "source": [
        "Install pytorch_pretrained_bert, tensorboardX, multiprocess\n",
        "\n",
        "---\n",
        "\n"
      ]
    },
    {
      "cell_type": "code",
      "metadata": {
        "id": "Z5CRlBAy3ivl",
        "colab_type": "code",
        "colab": {}
      },
      "source": [
        "!pip3 install pytorch_pretrained_bert\n",
        "!pip install tensorboardX\n",
        "!pip install multiprocess"
      ],
      "execution_count": null,
      "outputs": []
    },
    {
      "cell_type": "markdown",
      "metadata": {
        "id": "UM1SASGo2U5v",
        "colab_type": "text"
      },
      "source": [
        "Pyrouge and Rouge and the corresponding supporting files\n",
        "\n",
        "---\n",
        "\n"
      ]
    },
    {
      "cell_type": "code",
      "metadata": {
        "id": "-NZtCi683-yG",
        "colab_type": "code",
        "colab": {}
      },
      "source": [
        "!git clone https://github.com/andersjo/pyrouge.git"
      ],
      "execution_count": null,
      "outputs": []
    },
    {
      "cell_type": "code",
      "metadata": {
        "id": "dMmd-7d34G4a",
        "colab_type": "code",
        "colab": {}
      },
      "source": [
        "cd pyrouge/tools/ROUGE-1.5.5"
      ],
      "execution_count": null,
      "outputs": []
    },
    {
      "cell_type": "code",
      "metadata": {
        "id": "J-dtmMBt4LHh",
        "colab_type": "code",
        "colab": {}
      },
      "source": [
        "pip install perl"
      ],
      "execution_count": null,
      "outputs": []
    },
    {
      "cell_type": "code",
      "metadata": {
        "id": "CLEg5H-34VfJ",
        "colab_type": "code",
        "colab": {}
      },
      "source": [
        "!export ROUGE_EVAL_HOME=\"/content/BertSum/pyrouge/tools/ROUGE-1.5.5/data/\""
      ],
      "execution_count": 15,
      "outputs": []
    },
    {
      "cell_type": "code",
      "metadata": {
        "id": "RBMRSbne4X0A",
        "colab_type": "code",
        "colab": {}
      },
      "source": [
        "cd data/WordNet-2.0-Exceptions/"
      ],
      "execution_count": null,
      "outputs": []
    },
    {
      "cell_type": "code",
      "metadata": {
        "id": "Eu28lPs_4d3L",
        "colab_type": "code",
        "colab": {}
      },
      "source": [
        "!apt-get install synaptic"
      ],
      "execution_count": null,
      "outputs": []
    },
    {
      "cell_type": "code",
      "metadata": {
        "id": "iPx95HQo4m0N",
        "colab_type": "code",
        "colab": {}
      },
      "source": [
        "!./buildExeptionDB.pl . exc WordNet-2.0.exc.db"
      ],
      "execution_count": null,
      "outputs": []
    },
    {
      "cell_type": "code",
      "metadata": {
        "id": "XLLxUKMW5TTi",
        "colab_type": "code",
        "colab": {}
      },
      "source": [
        "cd /content/BertSum/pyrouge/tools/ROUGE-1.5.5/data"
      ],
      "execution_count": null,
      "outputs": []
    },
    {
      "cell_type": "code",
      "metadata": {
        "id": "grGtQxS55ccw",
        "colab_type": "code",
        "colab": {}
      },
      "source": [
        "rm WordNet-2.0.exc.db"
      ],
      "execution_count": 20,
      "outputs": []
    },
    {
      "cell_type": "code",
      "metadata": {
        "id": "xNv67agJ5hDo",
        "colab_type": "code",
        "colab": {}
      },
      "source": [
        "!ln -s WordNet-2.0-Exceptions/WordNet-2.0.exc.db WordNet-2.0.exc.db"
      ],
      "execution_count": 21,
      "outputs": []
    },
    {
      "cell_type": "code",
      "metadata": {
        "id": "fr-uDxud58s1",
        "colab_type": "code",
        "colab": {}
      },
      "source": [
        "!apt-get install libxml-dom-perl"
      ],
      "execution_count": null,
      "outputs": []
    },
    {
      "cell_type": "code",
      "metadata": {
        "id": "gZJK7y8S6A8i",
        "colab_type": "code",
        "colab": {}
      },
      "source": [
        "!git clone https://github.com/bheinzerling/pyrouge.git"
      ],
      "execution_count": null,
      "outputs": []
    },
    {
      "cell_type": "code",
      "metadata": {
        "id": "zcq7Bg7Q6Lzq",
        "colab_type": "code",
        "colab": {}
      },
      "source": [
        "cd pyrouge"
      ],
      "execution_count": null,
      "outputs": []
    },
    {
      "cell_type": "code",
      "metadata": {
        "id": "QNcLabiN6RGf",
        "colab_type": "code",
        "colab": {}
      },
      "source": [
        "!python setup.py install"
      ],
      "execution_count": null,
      "outputs": []
    },
    {
      "cell_type": "code",
      "metadata": {
        "id": "fQomWkaD6URs",
        "colab_type": "code",
        "colab": {}
      },
      "source": [
        "!pyrouge_set_rouge_path /content/BertSum/pyrouge/tools/ROUGE-1.5.5/"
      ],
      "execution_count": null,
      "outputs": []
    },
    {
      "cell_type": "code",
      "metadata": {
        "id": "HtNEj7Cf6bYt",
        "colab_type": "code",
        "colab": {}
      },
      "source": [
        "!python -m pyrouge.test"
      ],
      "execution_count": null,
      "outputs": []
    },
    {
      "cell_type": "code",
      "metadata": {
        "id": "nEREfZ5n669a",
        "colab_type": "code",
        "colab": {}
      },
      "source": [
        "cd /content/BertSum/"
      ],
      "execution_count": null,
      "outputs": []
    },
    {
      "cell_type": "markdown",
      "metadata": {
        "id": "d5yWaomWAcgT",
        "colab_type": "text"
      },
      "source": [
        "Pre-process the data\n",
        "\n",
        "\n",
        "---\n",
        "\n"
      ]
    },
    {
      "cell_type": "code",
      "metadata": {
        "id": "4Oz4QIlRpr2c",
        "colab_type": "code",
        "colab": {}
      },
      "source": [
        "mkdir merged_stories_tokenized"
      ],
      "execution_count": 29,
      "outputs": []
    },
    {
      "cell_type": "code",
      "metadata": {
        "id": "DVXk0qPWp0bd",
        "colab_type": "code",
        "colab": {}
      },
      "source": [
        "cd /content/BertSum/src/"
      ],
      "execution_count": null,
      "outputs": []
    },
    {
      "cell_type": "markdown",
      "metadata": {
        "id": "a8QAdnUQApH9",
        "colab_type": "text"
      },
      "source": [
        "File \"/content/BertSum/src/models/data_loader.py\", line 31, in __init__\n",
        "    mask = 1 - (src == 0) -> change -> mask = ~ ( src == 0 )"
      ]
    },
    {
      "cell_type": "code",
      "metadata": {
        "id": "Aq08bu8_nPyn",
        "colab_type": "code",
        "colab": {}
      },
      "source": [
        "!python preprocess.py -mode tokenize -raw_path ../raw_stories -save_path ../merged_stories_tokenized -log_file ../logs/cnndm.log "
      ],
      "execution_count": null,
      "outputs": []
    },
    {
      "cell_type": "code",
      "metadata": {
        "id": "bTpRo9QGqCSq",
        "colab_type": "code",
        "colab": {}
      },
      "source": [
        "!python preprocess.py -mode format_to_lines -raw_path ../merged_stories_tokenized -save_path ../json_data/cnndm -map_path ../urls -lower -log_file ../logs/cnndm.log"
      ],
      "execution_count": null,
      "outputs": []
    },
    {
      "cell_type": "code",
      "metadata": {
        "id": "NbwE1PMrw8se",
        "colab_type": "code",
        "colab": {}
      },
      "source": [
        "!python preprocess.py -mode format_to_bert -raw_path ../json_data -save_path ../bert_data -oracle_mode greedy -n_cpus 4 -log_file ../logs/preprocess.log"
      ],
      "execution_count": null,
      "outputs": []
    },
    {
      "cell_type": "markdown",
      "metadata": {
        "id": "59N3QSPVfJJe",
        "colab_type": "text"
      },
      "source": [
        "Model Trainig using Bert RNN"
      ]
    },
    {
      "cell_type": "code",
      "metadata": {
        "id": "vExOsoYweVL_",
        "colab_type": "code",
        "colab": {}
      },
      "source": [
        "!python train.py -mode train -encoder rnn -dropout 0.1 -bert_data_path ../bert_data/cnndm -model_path ../models/bert_rnn -lr 2e-3 -visible_gpus 0 -gpu_ranks 0 -world_size 1 -report_every 5000 -save_checkpoint_steps 25000 -batch_size 3000 -decay_method noam -train_steps 50000 -accum_count 2 -log_file ../logs/bert_rnn -use_interval true -warmup_steps 10000 -rnn_size 768 -dropout 0.1"
      ],
      "execution_count": null,
      "outputs": []
    },
    {
      "cell_type": "markdown",
      "metadata": {
        "id": "-0sxlkPieWAZ",
        "colab_type": "text"
      },
      "source": [
        "Model Training Using Bert Transformer"
      ]
    },
    {
      "cell_type": "code",
      "metadata": {
        "id": "NjMtPQZuPNRe",
        "colab_type": "code",
        "colab": {}
      },
      "source": [
        "!python train.py -mode train -encoder transformer -dropout 0.1 -bert_data_path ../bert_data/cnndm -model_path ../models/bert_transformer -lr 2e-3 -visible_gpus 0 -gpu_ranks 0 -world_size 1 -report_every 5000 -save_checkpoint_steps 25000 -batch_size 3000 -decay_method noam -train_steps 50000 -accum_count 2 -log_file ../logs/bert_transformer -use_interval true -warmup_steps 10000 -ff_size 2048 -inter_layers 2 -heads 8"
      ],
      "execution_count": null,
      "outputs": []
    },
    {
      "cell_type": "markdown",
      "metadata": {
        "id": "FL19HUIvCIvU",
        "colab_type": "text"
      },
      "source": [
        "-mode can be {train, validate, test}, where validate will inspect the model directory and evaluate the model for each newly saved checkpoint, test need to be used with -test_from, indicating the checkpoint you want to use"
      ]
    },
    {
      "cell_type": "markdown",
      "metadata": {
        "id": "B0Ef8s_wCBgb",
        "colab_type": "text"
      },
      "source": [
        "Model Evaluation\n",
        "\n",
        "---\n",
        "\n"
      ]
    },
    {
      "cell_type": "markdown",
      "metadata": {
        "id": "S1H9jyUOCyod",
        "colab_type": "text"
      },
      "source": [
        "- Bert RNN"
      ]
    },
    {
      "cell_type": "code",
      "metadata": {
        "id": "oN9dx90uCFBt",
        "colab_type": "code",
        "colab": {}
      },
      "source": [
        "python train.py -mode validate -bert_data_path ../bert_data/cnndm -model_path ../models/bert_rnn  -visible_gpus 0  -gpu_ranks 0 -batch_size 30000  -log_file LOG_FILE  -result_path RESULT_PATH -test_all -block_trigram true"
      ],
      "execution_count": null,
      "outputs": []
    },
    {
      "cell_type": "markdown",
      "metadata": {
        "id": "u-WrPiyJCoDr",
        "colab_type": "text"
      },
      "source": [
        "- Bert Transformer"
      ]
    },
    {
      "cell_type": "code",
      "metadata": {
        "id": "Ob_q_l3WCXxu",
        "colab_type": "code",
        "colab": {}
      },
      "source": [
        "python train.py -mode validate -bert_data_path ../bert_data/cnndm -model_path ../models/bert_transformer  -visible_gpus 0  -gpu_ranks 0 -batch_size 30000  -log_file LOG_FILE  -result_path RESULT_PATH -test_all -block_trigram true"
      ],
      "execution_count": null,
      "outputs": []
    }
  ]
}
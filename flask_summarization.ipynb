{
  "nbformat": 4,
  "nbformat_minor": 0,
  "metadata": {
    "colab": {
      "name": "flask_summarization.ipynb",
      "provenance": [],
      "collapsed_sections": [],
      "mount_file_id": "1HADY1lCFigPz_wi3l_00vEMy9ySJkG2i",
      "authorship_tag": "ABX9TyMwm3EdWgbYdjOCFNc51xwr",
      "include_colab_link": true
    },
    "kernelspec": {
      "name": "python3",
      "display_name": "Python 3"
    },
    "accelerator": "GPU"
  },
  "cells": [
    {
      "cell_type": "markdown",
      "metadata": {
        "id": "view-in-github",
        "colab_type": "text"
      },
      "source": [
        "<a href=\"https://colab.research.google.com/github/thangarani/project/blob/master/flask_summarization.ipynb\" target=\"_parent\"><img src=\"https://colab.research.google.com/assets/colab-badge.svg\" alt=\"Open In Colab\"/></a>"
      ]
    },
    {
      "cell_type": "markdown",
      "metadata": {
        "id": "qQ-L10ZfurfD",
        "colab_type": "text"
      },
      "source": [
        "**Flask web app to do bert summ text summarization **"
      ]
    },
    {
      "cell_type": "markdown",
      "metadata": {
        "id": "huh8jWlavJoj",
        "colab_type": "text"
      },
      "source": [
        "Download the flask summary"
      ]
    },
    {
      "cell_type": "code",
      "metadata": {
        "id": "iXiT4HMgyguh",
        "colab_type": "code",
        "colab": {}
      },
      "source": [
        "!git clone https://github.com/thangarani/flask.git"
      ],
      "execution_count": null,
      "outputs": []
    },
    {
      "cell_type": "code",
      "metadata": {
        "id": "paNzWWn70Y-u",
        "colab_type": "code",
        "colab": {
          "base_uri": "https://localhost:8080/",
          "height": 34
        },
        "outputId": "1048be70-8e41-42b1-ca18-42263942fd87"
      },
      "source": [
        "cd flask/"
      ],
      "execution_count": 2,
      "outputs": [
        {
          "output_type": "stream",
          "text": [
            "/content/flask\n"
          ],
          "name": "stdout"
        }
      ]
    },
    {
      "cell_type": "code",
      "metadata": {
        "id": "cBfMWAE80e9u",
        "colab_type": "code",
        "colab": {}
      },
      "source": [
        "!git clone https://github.com/nlpyang/PreSumm.git"
      ],
      "execution_count": null,
      "outputs": []
    },
    {
      "cell_type": "markdown",
      "metadata": {
        "id": "A4VGVKzCapcS",
        "colab_type": "text"
      },
      "source": [
        "Put the model file inside PreSumm/models/"
      ]
    },
    {
      "cell_type": "code",
      "metadata": {
        "id": "FgTEs9jpFVVY",
        "colab_type": "code",
        "colab": {}
      },
      "source": [
        "cp /content/drive/My\\ Drive/Colab\\ Notebooks/model_step_148000.pt /content/flask/PreSumm/models/"
      ],
      "execution_count": 4,
      "outputs": []
    },
    {
      "cell_type": "markdown",
      "metadata": {
        "id": "jm9hFcnpbvZD",
        "colab_type": "text"
      },
      "source": [
        "cd into PreSumm folder and change the branch to dev\n"
      ]
    },
    {
      "cell_type": "code",
      "metadata": {
        "id": "taex0dnxGmeD",
        "colab_type": "code",
        "colab": {}
      },
      "source": [
        "cd /content/flask/PreSumm/"
      ],
      "execution_count": null,
      "outputs": []
    },
    {
      "cell_type": "code",
      "metadata": {
        "id": "JvXyCP1xHZEw",
        "colab_type": "code",
        "colab": {}
      },
      "source": [
        "!git checkout dev"
      ],
      "execution_count": null,
      "outputs": []
    },
    {
      "cell_type": "markdown",
      "metadata": {
        "id": "i2OzRFklcTZm",
        "colab_type": "text"
      },
      "source": [
        "Flask is in-built in Colab. Need to install ROUGE, pyrouge, pytorch-pretrained-bert, tensorboardX, pytorch-transformers. \n"
      ]
    },
    {
      "cell_type": "code",
      "metadata": {
        "id": "fUNBBbWOHjFI",
        "colab_type": "code",
        "colab": {
          "base_uri": "https://localhost:8080/",
          "height": 34
        },
        "outputId": "46d199fb-70b0-43bc-db49-ba0ea0b99c9f"
      },
      "source": [
        "import socket\n",
        "print(socket.gethostbyname(socket.getfqdn(socket.gethostname())))\n",
        "\n",
        "from flask import Flask"
      ],
      "execution_count": 7,
      "outputs": [
        {
          "output_type": "stream",
          "text": [
            "172.28.0.2\n"
          ],
          "name": "stdout"
        }
      ]
    },
    {
      "cell_type": "markdown",
      "metadata": {
        "id": "qoK9KFo6dbyb",
        "colab_type": "text"
      },
      "source": [
        "Pyrouge and ROUGE installation"
      ]
    },
    {
      "cell_type": "markdown",
      "metadata": {
        "id": "g25gNXrdeyzb",
        "colab_type": "text"
      },
      "source": [
        "Download ROUGE-1.5.5 "
      ]
    },
    {
      "cell_type": "code",
      "metadata": {
        "id": "aT8DzgfkHznY",
        "colab_type": "code",
        "colab": {}
      },
      "source": [
        "!git clone https://github.com/andersjo/pyrouge.git"
      ],
      "execution_count": null,
      "outputs": []
    },
    {
      "cell_type": "code",
      "metadata": {
        "id": "aS4o9ICAIgMI",
        "colab_type": "code",
        "colab": {}
      },
      "source": [
        "cd pyrouge/tools/ROUGE-1.5.5"
      ],
      "execution_count": null,
      "outputs": []
    },
    {
      "cell_type": "markdown",
      "metadata": {
        "id": "CzrVss3ie3Ga",
        "colab_type": "text"
      },
      "source": [
        "Check if Perl is installed else install it."
      ]
    },
    {
      "cell_type": "code",
      "metadata": {
        "id": "FLmkHY62Illx",
        "colab_type": "code",
        "colab": {}
      },
      "source": [
        "pip install perl"
      ],
      "execution_count": null,
      "outputs": []
    },
    {
      "cell_type": "code",
      "metadata": {
        "id": "WAYAWS6DI1ST",
        "colab_type": "code",
        "colab": {}
      },
      "source": [
        "!export ROUGE_EVAL_HOME=\"/content/flask-summary/PreSumm/pyrouge/tools/ROUGE-1.5.5/data/\""
      ],
      "execution_count": 11,
      "outputs": []
    },
    {
      "cell_type": "code",
      "metadata": {
        "id": "OdT2ISEsI6Wl",
        "colab_type": "code",
        "colab": {}
      },
      "source": [
        "cd data/WordNet-2.0-Exceptions/"
      ],
      "execution_count": null,
      "outputs": []
    },
    {
      "cell_type": "markdown",
      "metadata": {
        "id": "TU_QtH_9fJSd",
        "colab_type": "text"
      },
      "source": [
        "For installing XML:DOM(this is a requirement for ROUGE to work) we install synaptic package manager"
      ]
    },
    {
      "cell_type": "code",
      "metadata": {
        "id": "ZpMduBN1JQBu",
        "colab_type": "code",
        "colab": {}
      },
      "source": [
        "!apt-get install synaptic"
      ],
      "execution_count": null,
      "outputs": []
    },
    {
      "cell_type": "code",
      "metadata": {
        "id": "_RebP5U-JTmX",
        "colab_type": "code",
        "colab": {}
      },
      "source": [
        "!./buildExeptionDB.pl . exc WordNet-2.0.exc.db"
      ],
      "execution_count": null,
      "outputs": []
    },
    {
      "cell_type": "markdown",
      "metadata": {
        "id": "LO6qIvgaggWp",
        "colab_type": "text"
      },
      "source": [
        " To avoid any WordNet exceptions, run these commands."
      ]
    },
    {
      "cell_type": "code",
      "metadata": {
        "id": "ARNG2pGVLcas",
        "colab_type": "code",
        "colab": {}
      },
      "source": [
        "cd  /content/flask/PreSumm/pyrouge/tools/ROUGE-1.5.5/data"
      ],
      "execution_count": null,
      "outputs": []
    },
    {
      "cell_type": "code",
      "metadata": {
        "id": "tNGLVlQgLkAq",
        "colab_type": "code",
        "colab": {}
      },
      "source": [
        "rm WordNet-2.0.exc.db"
      ],
      "execution_count": 16,
      "outputs": []
    },
    {
      "cell_type": "code",
      "metadata": {
        "id": "NGFgwvZILoKy",
        "colab_type": "code",
        "colab": {}
      },
      "source": [
        "!ln -s WordNet-2.0-Exceptions/WordNet-2.0.exc.db WordNet-2.0.exc.db"
      ],
      "execution_count": 17,
      "outputs": []
    },
    {
      "cell_type": "code",
      "metadata": {
        "id": "aPow0XsvLsTs",
        "colab_type": "code",
        "colab": {}
      },
      "source": [
        "!apt-get install libxml-dom-perl"
      ],
      "execution_count": null,
      "outputs": []
    },
    {
      "cell_type": "markdown",
      "metadata": {
        "id": "z5ip9V3Ifdpp",
        "colab_type": "text"
      },
      "source": [
        "ROUGE is now installed, hurray! Let move to pyrouge insatllation"
      ]
    },
    {
      "cell_type": "markdown",
      "metadata": {
        "id": "cHFUXH1xfebj",
        "colab_type": "text"
      },
      "source": [
        "pyrouge is a Python wrapper for the ROUGE summarization evaluation package. Getting ROUGE to work can require quite a bit of time. pyrouge is designed to make getting ROUGE scores easier by automatically converting your summaries into a format ROUGE understands, and automatically generating the ROUGE configuration file. Now download pyrouge."
      ]
    },
    {
      "cell_type": "code",
      "metadata": {
        "id": "amgb3oKoL1ed",
        "colab_type": "code",
        "colab": {}
      },
      "source": [
        "!git clone https://github.com/bheinzerling/pyrouge.git"
      ],
      "execution_count": null,
      "outputs": []
    },
    {
      "cell_type": "code",
      "metadata": {
        "id": "fJ8B9QGZL7Md",
        "colab_type": "code",
        "colab": {}
      },
      "source": [
        "cd pyrouge"
      ],
      "execution_count": null,
      "outputs": []
    },
    {
      "cell_type": "code",
      "metadata": {
        "id": "ygJz-9UaMM6A",
        "colab_type": "code",
        "colab": {}
      },
      "source": [
        "!sudo python setup.py install"
      ],
      "execution_count": null,
      "outputs": []
    },
    {
      "cell_type": "code",
      "metadata": {
        "id": "MPtFGH1YMR2y",
        "colab_type": "code",
        "colab": {
          "base_uri": "https://localhost:8080/",
          "height": 34
        },
        "outputId": "48618469-eb53-4612-e74b-b79554226829"
      },
      "source": [
        "!pyrouge_set_rouge_path  /content/flask/PreSumm/pyrouge/tools/ROUGE-1.5.5/"
      ],
      "execution_count": 22,
      "outputs": [
        {
          "output_type": "stream",
          "text": [
            "2020-07-22 22:06:58,620 [MainThread  ] [INFO ]  Set ROUGE home directory to /content/flask/PreSumm/pyrouge/tools/ROUGE-1.5.5/.\n"
          ],
          "name": "stdout"
        }
      ]
    },
    {
      "cell_type": "markdown",
      "metadata": {
        "id": "7aXgSmeDeWhP",
        "colab_type": "text"
      },
      "source": [
        "Test if everything’s installed by running"
      ]
    },
    {
      "cell_type": "code",
      "metadata": {
        "id": "vIqnRQX8MbAF",
        "colab_type": "code",
        "colab": {
          "base_uri": "https://localhost:8080/",
          "height": 1000
        },
        "outputId": "1172c193-b48b-4102-8e39-2d82f5483370"
      },
      "source": [
        "!python -m pyrouge.test"
      ],
      "execution_count": 23,
      "outputs": [
        {
          "output_type": "stream",
          "text": [
            "2020-07-22 22:06:59,739 [MainThread  ] [INFO ]  Written ROUGE configuration to /tmp/tmpcspndvcz/rouge_conf.xml\n",
            ".2020-07-22 22:06:59,987 [MainThread  ] [INFO ]  Processing files in data/SL2003_models_plain_text.\n",
            "2020-07-22 22:06:59,987 [MainThread  ] [INFO ]  Processing SL.P.10.R.A.SL062003-06.html.\n",
            "2020-07-22 22:06:59,987 [MainThread  ] [INFO ]  Processing SL.P.10.R.A.SL062003-18.html.\n",
            "2020-07-22 22:06:59,987 [MainThread  ] [INFO ]  Processing SL.P.10.R.A.SL062003-12.html.\n",
            "2020-07-22 22:06:59,987 [MainThread  ] [INFO ]  Processing SL.P.10.R.A.SL062003-24.html.\n",
            "2020-07-22 22:06:59,988 [MainThread  ] [INFO ]  Processing SL.P.10.R.A.SL062003-07.html.\n",
            "2020-07-22 22:06:59,988 [MainThread  ] [INFO ]  Processing SL.P.10.R.A.SL062003-09.html.\n",
            "2020-07-22 22:06:59,988 [MainThread  ] [INFO ]  Processing SL.P.10.R.A.SL062003-15.html.\n",
            "2020-07-22 22:06:59,988 [MainThread  ] [INFO ]  Processing SL.P.10.R.A.SL062003-05.html.\n",
            "2020-07-22 22:06:59,988 [MainThread  ] [INFO ]  Processing SL.P.10.R.A.SL062003-20.html.\n",
            "2020-07-22 22:06:59,988 [MainThread  ] [INFO ]  Processing SL.P.10.R.A.SL062003-11.html.\n",
            "2020-07-22 22:06:59,988 [MainThread  ] [INFO ]  Processing SL.P.10.R.A.SL062003-21.html.\n",
            "2020-07-22 22:06:59,989 [MainThread  ] [INFO ]  Processing SL.P.10.R.A.SL062003-25.html.\n",
            "2020-07-22 22:06:59,989 [MainThread  ] [INFO ]  Processing SL.P.10.R.A.SL062003-01.html.\n",
            "2020-07-22 22:06:59,989 [MainThread  ] [INFO ]  Processing SL.P.10.R.A.SL062003-14.html.\n",
            "2020-07-22 22:06:59,989 [MainThread  ] [INFO ]  Processing SL.P.10.R.A.SL062003-17.html.\n",
            "2020-07-22 22:06:59,989 [MainThread  ] [INFO ]  Processing SL.P.10.R.A.SL062003-13.html.\n",
            "2020-07-22 22:06:59,989 [MainThread  ] [INFO ]  Processing SL.P.10.R.A.SL062003-04.html.\n",
            "2020-07-22 22:06:59,990 [MainThread  ] [INFO ]  Processing SL.P.10.R.A.SL062003-19.html.\n",
            "2020-07-22 22:06:59,990 [MainThread  ] [INFO ]  Processing SL.P.10.R.A.SL062003-10.html.\n",
            "2020-07-22 22:06:59,990 [MainThread  ] [INFO ]  Processing SL.P.10.R.A.SL062003-03.html.\n",
            "2020-07-22 22:06:59,990 [MainThread  ] [INFO ]  Processing SL.P.10.R.A.SL062003-22.html.\n",
            "2020-07-22 22:06:59,990 [MainThread  ] [INFO ]  Processing SL.P.10.R.A.SL062003-23.html.\n",
            "2020-07-22 22:06:59,990 [MainThread  ] [INFO ]  Processing SL.P.10.R.A.SL062003-02.html.\n",
            "2020-07-22 22:06:59,990 [MainThread  ] [INFO ]  Processing SL.P.10.R.A.SL062003-16.html.\n",
            "2020-07-22 22:06:59,991 [MainThread  ] [INFO ]  Processing SL.P.10.R.A.SL062003-08.html.\n",
            "2020-07-22 22:06:59,991 [MainThread  ] [INFO ]  Saved processed files to /tmp/tmp68xiv516.\n",
            ".2020-07-22 22:07:00,008 [MainThread  ] [INFO ]  Written ROUGE configuration to /tmp/tmpus7f0y2g/rouge_conf.xml\n",
            "2020-07-22 22:07:00,008 [MainThread  ] [INFO ]  Running ROUGE with command /content/flask/PreSumm/pyrouge/tools/ROUGE-1.5.5/ROUGE-1.5.5.pl -e /content/flask/PreSumm/pyrouge/tools/ROUGE-1.5.5/data -c 95 -2 -1 -U -r 1000 -n 4 -w 1.2 -a -m /tmp/tmpus7f0y2g/rouge_conf.xml\n",
            ".2020-07-22 22:07:01,123 [MainThread  ] [INFO ]  Processing files in data/SL2003_models_rouge_format.\n",
            "2020-07-22 22:07:01,123 [MainThread  ] [INFO ]  Processing SL.P.10.R.A.SL062003-06.html.\n",
            "/usr/local/lib/python3.6/dist-packages/pyrouge-0.1.3-py3.6.egg/EGG-INFO/scripts/pyrouge_convert_rouge_format_to_plain_text:14: UserWarning: No parser was explicitly specified, so I'm using the best available HTML parser for this system (\"lxml\"). This usually isn't a problem, but if you run this code on another system, or in a different virtual environment, it may use a different parser and behave differently.\n",
            "\n",
            "The code that caused this warning is on line 14 of the file /usr/local/lib/python3.6/dist-packages/pyrouge-0.1.3-py3.6.egg/EGG-INFO/scripts/pyrouge_convert_rouge_format_to_plain_text. To get rid of this warning, pass the additional argument 'features=\"lxml\"' to the BeautifulSoup constructor.\n",
            "\n",
            "  soup = BeautifulSoup(html)\n",
            "2020-07-22 22:07:01,125 [MainThread  ] [INFO ]  Processing SL.P.10.R.A.SL062003-18.html.\n",
            "2020-07-22 22:07:01,125 [MainThread  ] [INFO ]  Processing SL.P.10.R.A.SL062003-12.html.\n",
            "2020-07-22 22:07:01,126 [MainThread  ] [INFO ]  Processing SL.P.10.R.A.SL062003-24.html.\n",
            "2020-07-22 22:07:01,126 [MainThread  ] [INFO ]  Processing SL.P.10.R.A.SL062003-07.html.\n",
            "2020-07-22 22:07:01,127 [MainThread  ] [INFO ]  Processing SL.P.10.R.A.SL062003-09.html.\n",
            "2020-07-22 22:07:01,127 [MainThread  ] [INFO ]  Processing SL.P.10.R.A.SL062003-15.html.\n",
            "2020-07-22 22:07:01,128 [MainThread  ] [INFO ]  Processing SL.P.10.R.A.SL062003-05.html.\n",
            "2020-07-22 22:07:01,128 [MainThread  ] [INFO ]  Processing SL.P.10.R.A.SL062003-20.html.\n",
            "2020-07-22 22:07:01,129 [MainThread  ] [INFO ]  Processing SL.P.10.R.A.SL062003-11.html.\n",
            "2020-07-22 22:07:01,129 [MainThread  ] [INFO ]  Processing SL.P.10.R.A.SL062003-21.html.\n",
            "2020-07-22 22:07:01,130 [MainThread  ] [INFO ]  Processing SL.P.10.R.A.SL062003-25.html.\n",
            "2020-07-22 22:07:01,131 [MainThread  ] [INFO ]  Processing SL.P.10.R.A.SL062003-01.html.\n",
            "2020-07-22 22:07:01,131 [MainThread  ] [INFO ]  Processing SL.P.10.R.A.SL062003-14.html.\n",
            "2020-07-22 22:07:01,132 [MainThread  ] [INFO ]  Processing SL.P.10.R.A.SL062003-17.html.\n",
            "2020-07-22 22:07:01,132 [MainThread  ] [INFO ]  Processing SL.P.10.R.A.SL062003-13.html.\n",
            "2020-07-22 22:07:01,133 [MainThread  ] [INFO ]  Processing SL.P.10.R.A.SL062003-04.html.\n",
            "2020-07-22 22:07:01,133 [MainThread  ] [INFO ]  Processing SL.P.10.R.A.SL062003-19.html.\n",
            "2020-07-22 22:07:01,134 [MainThread  ] [INFO ]  Processing SL.P.10.R.A.SL062003-10.html.\n",
            "2020-07-22 22:07:01,134 [MainThread  ] [INFO ]  Processing SL.P.10.R.A.SL062003-03.html.\n",
            "2020-07-22 22:07:01,135 [MainThread  ] [INFO ]  Processing SL.P.10.R.A.SL062003-22.html.\n",
            "2020-07-22 22:07:01,135 [MainThread  ] [INFO ]  Processing SL.P.10.R.A.SL062003-23.html.\n",
            "2020-07-22 22:07:01,136 [MainThread  ] [INFO ]  Processing SL.P.10.R.A.SL062003-02.html.\n",
            "2020-07-22 22:07:01,136 [MainThread  ] [INFO ]  Processing SL.P.10.R.A.SL062003-16.html.\n",
            "2020-07-22 22:07:01,137 [MainThread  ] [INFO ]  Processing SL.P.10.R.A.SL062003-08.html.\n",
            "2020-07-22 22:07:01,137 [MainThread  ] [INFO ]  Saved processed files to /tmp/tmpkjdz_3hx.\n",
            ".2020-07-22 22:07:01,397 [MainThread  ] [INFO ]  Writing summaries.\n",
            "2020-07-22 22:07:01,397 [MainThread  ] [INFO ]  Processing summaries. Saving system files to /tmp/tmpoi_8mzca/system and model files to /tmp/tmpoi_8mzca/model.\n",
            "2020-07-22 22:07:01,397 [MainThread  ] [INFO ]  Processing files in data/systems_plain.\n",
            "2020-07-22 22:07:01,397 [MainThread  ] [INFO ]  Processing D30005.M.100.T.A.\n",
            "2020-07-22 22:07:01,398 [MainThread  ] [INFO ]  Processing D30001.M.100.T.A.\n",
            "2020-07-22 22:07:01,398 [MainThread  ] [INFO ]  Processing D30002.M.100.T.A.\n",
            "2020-07-22 22:07:01,398 [MainThread  ] [INFO ]  Processing D30003.M.100.T.A.\n",
            "2020-07-22 22:07:01,398 [MainThread  ] [INFO ]  Saved processed files to /tmp/tmpoi_8mzca/system.\n",
            "2020-07-22 22:07:01,398 [MainThread  ] [INFO ]  Processing files in data/models_plain.\n",
            "2020-07-22 22:07:01,398 [MainThread  ] [INFO ]  Processing D30002.M.100.T.B.\n",
            "2020-07-22 22:07:01,398 [MainThread  ] [INFO ]  Processing D30001.M.100.T.C.\n",
            "2020-07-22 22:07:01,399 [MainThread  ] [INFO ]  Processing D30001.M.100.T.D.\n",
            "2020-07-22 22:07:01,399 [MainThread  ] [INFO ]  Processing D30003.M.100.T.F.\n",
            "2020-07-22 22:07:01,399 [MainThread  ] [INFO ]  Processing D30005.M.100.T.B.\n",
            "2020-07-22 22:07:01,399 [MainThread  ] [INFO ]  Processing D30001.M.100.T.B.\n",
            "2020-07-22 22:07:01,399 [MainThread  ] [INFO ]  Processing D30003.M.100.T.C.\n",
            "2020-07-22 22:07:01,399 [MainThread  ] [INFO ]  Processing D30003.M.100.T.B.\n",
            "2020-07-22 22:07:01,400 [MainThread  ] [INFO ]  Processing D30005.M.100.T.C.\n",
            "2020-07-22 22:07:01,400 [MainThread  ] [INFO ]  Processing D30002.M.100.T.C.\n",
            "2020-07-22 22:07:01,400 [MainThread  ] [INFO ]  Processing D30005.M.100.T.G.\n",
            "2020-07-22 22:07:01,400 [MainThread  ] [INFO ]  Processing D30002.M.100.T.E.\n",
            "2020-07-22 22:07:01,401 [MainThread  ] [INFO ]  Saved processed files to /tmp/tmpoi_8mzca/model.\n",
            "2020-07-22 22:07:01,401 [MainThread  ] [INFO ]  Written ROUGE configuration to /tmp/tmpkl6s8ew5/rouge_conf.xml\n",
            "2020-07-22 22:07:01,402 [MainThread  ] [INFO ]  Running ROUGE with command /content/flask/PreSumm/pyrouge/tools/ROUGE-1.5.5/ROUGE-1.5.5.pl -e /content/flask/PreSumm/pyrouge/tools/ROUGE-1.5.5/data -c 90 -2 -1 -U -r 1000 -n 2 -w 1.2 -a -m data/config_test2.xml -m /tmp/tmpkl6s8ew5/rouge_conf.xml\n",
            "..2020-07-22 22:07:02,800 [MainThread  ] [INFO ]  Writing summaries.\n",
            "2020-07-22 22:07:02,800 [MainThread  ] [INFO ]  Processing summaries. Saving system files to /tmp/tmpuhp1j2ei/system and model files to /tmp/tmpuhp1j2ei/model.\n",
            "2020-07-22 22:07:02,800 [MainThread  ] [INFO ]  Processing files in data/systems_plain.\n",
            "2020-07-22 22:07:02,800 [MainThread  ] [INFO ]  Processing D30005.M.100.T.A.\n",
            "2020-07-22 22:07:02,801 [MainThread  ] [INFO ]  Processing D30001.M.100.T.A.\n",
            "2020-07-22 22:07:02,801 [MainThread  ] [INFO ]  Processing D30002.M.100.T.A.\n",
            "2020-07-22 22:07:02,801 [MainThread  ] [INFO ]  Processing D30003.M.100.T.A.\n",
            "2020-07-22 22:07:02,801 [MainThread  ] [INFO ]  Saved processed files to /tmp/tmpuhp1j2ei/system.\n",
            "2020-07-22 22:07:02,801 [MainThread  ] [INFO ]  Processing files in data/models_plain.\n",
            "2020-07-22 22:07:02,801 [MainThread  ] [INFO ]  Processing D30002.M.100.T.B.\n",
            "2020-07-22 22:07:02,802 [MainThread  ] [INFO ]  Processing D30001.M.100.T.C.\n",
            "2020-07-22 22:07:02,802 [MainThread  ] [INFO ]  Processing D30001.M.100.T.D.\n",
            "2020-07-22 22:07:02,802 [MainThread  ] [INFO ]  Processing D30003.M.100.T.F.\n",
            "2020-07-22 22:07:02,802 [MainThread  ] [INFO ]  Processing D30005.M.100.T.B.\n",
            "2020-07-22 22:07:02,802 [MainThread  ] [INFO ]  Processing D30001.M.100.T.B.\n",
            "2020-07-22 22:07:02,802 [MainThread  ] [INFO ]  Processing D30003.M.100.T.C.\n",
            "2020-07-22 22:07:02,803 [MainThread  ] [INFO ]  Processing D30003.M.100.T.B.\n",
            "2020-07-22 22:07:02,803 [MainThread  ] [INFO ]  Processing D30005.M.100.T.C.\n",
            "2020-07-22 22:07:02,803 [MainThread  ] [INFO ]  Processing D30002.M.100.T.C.\n",
            "2020-07-22 22:07:02,803 [MainThread  ] [INFO ]  Processing D30005.M.100.T.G.\n",
            "2020-07-22 22:07:02,803 [MainThread  ] [INFO ]  Processing D30002.M.100.T.E.\n",
            "2020-07-22 22:07:02,803 [MainThread  ] [INFO ]  Saved processed files to /tmp/tmpuhp1j2ei/model.\n",
            "2020-07-22 22:07:02,804 [MainThread  ] [INFO ]  Written ROUGE configuration to /tmp/tmp31ni2d7x/rouge_conf.xml\n",
            "2020-07-22 22:07:02,805 [MainThread  ] [INFO ]  Running ROUGE with command /content/flask/PreSumm/pyrouge/tools/ROUGE-1.5.5/ROUGE-1.5.5.pl -e /content/flask/PreSumm/pyrouge/tools/ROUGE-1.5.5/data -c 95 -2 -1 -U -r 1000 -n 4 -w 1.2 -a -m /tmp/tmp31ni2d7x/rouge_conf.xml\n",
            "../tmp/tmpl7vxyfxc/config_test.xml data/config_test.xml\n",
            "...\n",
            "----------------------------------------------------------------------\n",
            "Ran 11 tests in 4.624s\n",
            "\n",
            "OK\n"
          ],
          "name": "stdout"
        }
      ]
    },
    {
      "cell_type": "markdown",
      "metadata": {
        "id": "Dihlg9MLegMF",
        "colab_type": "text"
      },
      "source": [
        "If the above command outputs “OK” , everything has been installed properly."
      ]
    },
    {
      "cell_type": "code",
      "metadata": {
        "id": "MTme75ZgM2MC",
        "colab_type": "code",
        "colab": {}
      },
      "source": [
        "%env PYTHONPATH=$PYTHONPATH:/content/flask-summary/PreSumm/src"
      ],
      "execution_count": null,
      "outputs": []
    },
    {
      "cell_type": "code",
      "metadata": {
        "id": "jX57yDv7SoCm",
        "colab_type": "code",
        "colab": {}
      },
      "source": [
        "env"
      ],
      "execution_count": null,
      "outputs": []
    },
    {
      "cell_type": "code",
      "metadata": {
        "id": "WhCaAxvuM7v6",
        "colab_type": "code",
        "colab": {}
      },
      "source": [
        "cd /content/flask"
      ],
      "execution_count": null,
      "outputs": []
    },
    {
      "cell_type": "markdown",
      "metadata": {
        "id": "vbucMqJehjWy",
        "colab_type": "text"
      },
      "source": [
        "Install pytorch_pretrained_bert"
      ]
    },
    {
      "cell_type": "code",
      "metadata": {
        "id": "3cUzJwvfNoP_",
        "colab_type": "code",
        "colab": {}
      },
      "source": [
        "!pip install pytorch_pretrained_bert"
      ],
      "execution_count": null,
      "outputs": []
    },
    {
      "cell_type": "markdown",
      "metadata": {
        "id": "VBS6GOz0hpYy",
        "colab_type": "text"
      },
      "source": [
        "Install transformers and pytransformer"
      ]
    },
    {
      "cell_type": "code",
      "metadata": {
        "id": "tU-swCL4ZyY_",
        "colab_type": "code",
        "colab": {}
      },
      "source": [
        "!pip install transformers --user"
      ],
      "execution_count": null,
      "outputs": []
    },
    {
      "cell_type": "code",
      "metadata": {
        "id": "MytRUd0qOTR-",
        "colab_type": "code",
        "colab": {}
      },
      "source": [
        "!pip install pytorch-transformers"
      ],
      "execution_count": null,
      "outputs": []
    },
    {
      "cell_type": "markdown",
      "metadata": {
        "id": "OzHqKaL8hwld",
        "colab_type": "text"
      },
      "source": [
        "install tensorboardX"
      ]
    },
    {
      "cell_type": "code",
      "metadata": {
        "id": "9IABRSjgWtgo",
        "colab_type": "code",
        "colab": {}
      },
      "source": [
        "!pip install tensorboardX"
      ],
      "execution_count": null,
      "outputs": []
    },
    {
      "cell_type": "code",
      "metadata": {
        "id": "YFVZ7thyYEAN",
        "colab_type": "code",
        "colab": {}
      },
      "source": [
        "cd /content/flask/PreSumm/src/"
      ],
      "execution_count": null,
      "outputs": []
    },
    {
      "cell_type": "markdown",
      "metadata": {
        "id": "kAnY5mFGh9JK",
        "colab_type": "text"
      },
      "source": [
        "Add the raw file(the file need to get summary) in PreSumm/raw_data/"
      ]
    },
    {
      "cell_type": "code",
      "metadata": {
        "id": "Okq-qdSLMWWv",
        "colab_type": "code",
        "colab": {}
      },
      "source": [
        "import time\n",
        "start_time = time.time()\n",
        "!python train.py -mode test_text -text_src /content/flask/PreSumm/raw_data/new_report.raw_src -test_from /content/flask/PreSumm/models/model_step_148000.pt -task abs\n",
        "print('--- %s seconds ---' % (time.time() - start_time))"
      ],
      "execution_count": null,
      "outputs": []
    },
    {
      "cell_type": "markdown",
      "metadata": {
        "id": "xsXI4l0alw3q",
        "colab_type": "text"
      },
      "source": [
        "Suppose if you get the error something like this in the above command. Do this. Error:   File \"/content/flask-summary/PreSumm/src/models/model_builder.py\", line 217, in __init__\n",
        "    self.load_state_dict(checkpoint['model'], strict=True)                    \n",
        "    change to self.load_state_dict(checkpoint['model'], strict=False)"
      ]
    },
    {
      "cell_type": "markdown",
      "metadata": {
        "id": "5JYvJqZfiQyN",
        "colab_type": "text"
      },
      "source": [
        "Clone Remocolab to setupVNC to do the text summarization in WebServer"
      ]
    },
    {
      "cell_type": "markdown",
      "metadata": {
        "id": "jD7wDhawleQR",
        "colab_type": "text"
      },
      "source": [
        "Create an account in ngrok. Ngrok exposes local servers behind NATs and firewalls to the public internet over secure tunnels."
      ]
    },
    {
      "cell_type": "markdown",
      "metadata": {
        "id": "LeCQ1nl4ntoY",
        "colab_type": "text"
      },
      "source": [
        "It will provide VNC password and colab password. Using that open your command prompt with th colab link and type the colab password. And then in your vnc server get into localhost:1 with the provided vnc password. If suppose setting up the VNC get fails, try after sometime."
      ]
    },
    {
      "cell_type": "code",
      "metadata": {
        "id": "IZiUt8NyxB0C",
        "colab_type": "code",
        "colab": {}
      },
      "source": [
        "!pip install git+https://github.com/demotomohiro/remocolab.git\n",
        "import remocolab\n",
        "remocolab.setupVNC()"
      ],
      "execution_count": null,
      "outputs": []
    },
    {
      "cell_type": "markdown",
      "metadata": {
        "id": "HQ8tevnLii0b",
        "colab_type": "text"
      },
      "source": [
        "Install firefox in the colab linux system to access the browser"
      ]
    },
    {
      "cell_type": "code",
      "metadata": {
        "id": "vo3rNgcby7R0",
        "colab_type": "code",
        "colab": {}
      },
      "source": [
        "!sudo apt-get install firefox"
      ],
      "execution_count": null,
      "outputs": []
    },
    {
      "cell_type": "code",
      "metadata": {
        "id": "ClGF3u2D-tcQ",
        "colab_type": "code",
        "colab": {}
      },
      "source": [
        "cd /content/flask/"
      ],
      "execution_count": null,
      "outputs": []
    },
    {
      "cell_type": "code",
      "metadata": {
        "id": "TKC_X3sfTBdI",
        "colab_type": "code",
        "colab": {}
      },
      "source": [
        "!python app.py"
      ],
      "execution_count": null,
      "outputs": []
    },
    {
      "cell_type": "markdown",
      "metadata": {
        "id": "bGu8-epftzl_",
        "colab_type": "text"
      },
      "source": [
        "Example: Content"
      ]
    },
    {
      "cell_type": "markdown",
      "metadata": {
        "id": "V-sTykbkteHM",
        "colab_type": "text"
      },
      "source": [
        "![alt text](https://drive.google.com/uc?export=view&id=1vzwaiT_c9ceVg08JDomRRcCO8AiArved)"
      ]
    },
    {
      "cell_type": "markdown",
      "metadata": {
        "id": "Ypi4JE-Kv8RQ",
        "colab_type": "text"
      },
      "source": [
        "Summary"
      ]
    },
    {
      "cell_type": "markdown",
      "metadata": {
        "id": "5MdLWT37t5u2",
        "colab_type": "text"
      },
      "source": [
        "![alt text](https://drive.google.com/uc?export=view&id=17yn3N3-rOjM3wwocMT3hvAom6jcvQoWs)"
      ]
    }
  ]
}
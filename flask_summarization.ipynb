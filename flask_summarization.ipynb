{
  "nbformat": 4,
  "nbformat_minor": 0,
  "metadata": {
    "colab": {
      "name": "flask_summarization.ipynb",
      "provenance": [],
      "collapsed_sections": [],
      "mount_file_id": "1HADY1lCFigPz_wi3l_00vEMy9ySJkG2i",
      "authorship_tag": "ABX9TyMNqr1MZa62oNBYhDTuQeSp",
      "include_colab_link": true
    },
    "kernelspec": {
      "name": "python3",
      "display_name": "Python 3"
    },
    "accelerator": "GPU"
  },
  "cells": [
    {
      "cell_type": "markdown",
      "metadata": {
        "id": "view-in-github",
        "colab_type": "text"
      },
      "source": [
        "<a href=\"https://colab.research.google.com/github/thangarani/project/blob/master/flask_summarization.ipynb\" target=\"_parent\"><img src=\"https://colab.research.google.com/assets/colab-badge.svg\" alt=\"Open In Colab\"/></a>"
      ]
    },
    {
      "cell_type": "markdown",
      "metadata": {
        "id": "qQ-L10ZfurfD",
        "colab_type": "text"
      },
      "source": [
        "**Flask web app to do bert summ text summarization **"
      ]
    },
    {
      "cell_type": "markdown",
      "metadata": {
        "id": "huh8jWlavJoj",
        "colab_type": "text"
      },
      "source": [
        "Download the flask summary"
      ]
    },
    {
      "cell_type": "code",
      "metadata": {
        "id": "iXiT4HMgyguh",
        "colab_type": "code",
        "colab": {
          "base_uri": "https://localhost:8080/",
          "height": 118
        },
        "outputId": "b60adb2d-b171-479d-bcec-e47de2e5b74e"
      },
      "source": [
        "!git clone https://github.com/thangarani/flask.git"
      ],
      "execution_count": 1,
      "outputs": [
        {
          "output_type": "stream",
          "text": [
            "Cloning into 'flask'...\n",
            "remote: Enumerating objects: 72, done.\u001b[K\n",
            "remote: Counting objects: 100% (72/72), done.\u001b[K\n",
            "remote: Compressing objects: 100% (64/64), done.\u001b[K\n",
            "remote: Total 72 (delta 23), reused 0 (delta 0), pack-reused 0\u001b[K\n",
            "Unpacking objects: 100% (72/72), done.\n"
          ],
          "name": "stdout"
        }
      ]
    },
    {
      "cell_type": "code",
      "metadata": {
        "id": "paNzWWn70Y-u",
        "colab_type": "code",
        "colab": {
          "base_uri": "https://localhost:8080/",
          "height": 34
        },
        "outputId": "1048be70-8e41-42b1-ca18-42263942fd87"
      },
      "source": [
        "cd flask/"
      ],
      "execution_count": 2,
      "outputs": [
        {
          "output_type": "stream",
          "text": [
            "/content/flask\n"
          ],
          "name": "stdout"
        }
      ]
    },
    {
      "cell_type": "code",
      "metadata": {
        "id": "cBfMWAE80e9u",
        "colab_type": "code",
        "colab": {
          "base_uri": "https://localhost:8080/",
          "height": 101
        },
        "outputId": "a1422a9c-b76e-41f5-a4d0-9387a10be93d"
      },
      "source": [
        "!git clone https://github.com/nlpyang/PreSumm.git"
      ],
      "execution_count": 3,
      "outputs": [
        {
          "output_type": "stream",
          "text": [
            "Cloning into 'PreSumm'...\n",
            "remote: Enumerating objects: 417, done.\u001b[K\n",
            "remote: Total 417 (delta 0), reused 0 (delta 0), pack-reused 417\u001b[K\n",
            "Receiving objects: 100% (417/417), 13.00 MiB | 13.61 MiB/s, done.\n",
            "Resolving deltas: 100% (280/280), done.\n"
          ],
          "name": "stdout"
        }
      ]
    },
    {
      "cell_type": "markdown",
      "metadata": {
        "id": "A4VGVKzCapcS",
        "colab_type": "text"
      },
      "source": [
        "Put the model file inside PreSumm/models/"
      ]
    },
    {
      "cell_type": "code",
      "metadata": {
        "id": "FgTEs9jpFVVY",
        "colab_type": "code",
        "colab": {}
      },
      "source": [
        "cp /content/drive/My\\ Drive/Colab\\ Notebooks/model_step_148000.pt /content/flask/PreSumm/models/"
      ],
      "execution_count": 4,
      "outputs": []
    },
    {
      "cell_type": "markdown",
      "metadata": {
        "id": "jm9hFcnpbvZD",
        "colab_type": "text"
      },
      "source": [
        "cd into PreSumm folder and change the branch to dev\n"
      ]
    },
    {
      "cell_type": "code",
      "metadata": {
        "id": "taex0dnxGmeD",
        "colab_type": "code",
        "colab": {
          "base_uri": "https://localhost:8080/",
          "height": 34
        },
        "outputId": "c5becaf3-e7fd-4aa5-80ea-6d2884002d1d"
      },
      "source": [
        "cd /content/flask/PreSumm/"
      ],
      "execution_count": 5,
      "outputs": [
        {
          "output_type": "stream",
          "text": [
            "/content/flask/PreSumm\n"
          ],
          "name": "stdout"
        }
      ]
    },
    {
      "cell_type": "code",
      "metadata": {
        "id": "JvXyCP1xHZEw",
        "colab_type": "code",
        "colab": {
          "base_uri": "https://localhost:8080/",
          "height": 50
        },
        "outputId": "7a38cb53-c0b7-4728-dec1-1633366ee0e9"
      },
      "source": [
        "!git checkout dev"
      ],
      "execution_count": 6,
      "outputs": [
        {
          "output_type": "stream",
          "text": [
            "Branch 'dev' set up to track remote branch 'dev' from 'origin'.\n",
            "Switched to a new branch 'dev'\n"
          ],
          "name": "stdout"
        }
      ]
    },
    {
      "cell_type": "markdown",
      "metadata": {
        "id": "i2OzRFklcTZm",
        "colab_type": "text"
      },
      "source": [
        "Flask is in-built in Colab. Need to install ROUGE, pyrouge, pytorch-pretrained-bert, tensorboardX, pytorch-transformers. \n"
      ]
    },
    {
      "cell_type": "code",
      "metadata": {
        "id": "fUNBBbWOHjFI",
        "colab_type": "code",
        "colab": {
          "base_uri": "https://localhost:8080/",
          "height": 34
        },
        "outputId": "46d199fb-70b0-43bc-db49-ba0ea0b99c9f"
      },
      "source": [
        "import socket\n",
        "print(socket.gethostbyname(socket.getfqdn(socket.gethostname())))\n",
        "\n",
        "from flask import Flask"
      ],
      "execution_count": 7,
      "outputs": [
        {
          "output_type": "stream",
          "text": [
            "172.28.0.2\n"
          ],
          "name": "stdout"
        }
      ]
    },
    {
      "cell_type": "markdown",
      "metadata": {
        "id": "qoK9KFo6dbyb",
        "colab_type": "text"
      },
      "source": [
        "Pyrouge and ROUGE installation"
      ]
    },
    {
      "cell_type": "markdown",
      "metadata": {
        "id": "g25gNXrdeyzb",
        "colab_type": "text"
      },
      "source": [
        "Download ROUGE-1.5.5 "
      ]
    },
    {
      "cell_type": "code",
      "metadata": {
        "id": "aT8DzgfkHznY",
        "colab_type": "code",
        "colab": {
          "base_uri": "https://localhost:8080/",
          "height": 101
        },
        "outputId": "8d58d8f0-e426-48fe-b649-4d9498b31a8a"
      },
      "source": [
        "!git clone https://github.com/andersjo/pyrouge.git"
      ],
      "execution_count": 8,
      "outputs": [
        {
          "output_type": "stream",
          "text": [
            "Cloning into 'pyrouge'...\n",
            "remote: Enumerating objects: 393, done.\u001b[K\n",
            "Receiving objects:   0% (1/393)   \rReceiving objects:   1% (4/393)   \rReceiving objects:   2% (8/393)   \rReceiving objects:   3% (12/393)   \rReceiving objects:   4% (16/393)   \rReceiving objects:   5% (20/393)   \rReceiving objects:   6% (24/393)   \rReceiving objects:   7% (28/393)   \rReceiving objects:   8% (32/393)   \rReceiving objects:   9% (36/393)   \rReceiving objects:  10% (40/393)   \rReceiving objects:  11% (44/393)   \rReceiving objects:  12% (48/393)   \rReceiving objects:  13% (52/393)   \rReceiving objects:  14% (56/393)   \rReceiving objects:  15% (59/393)   \rReceiving objects:  16% (63/393)   \rReceiving objects:  17% (67/393)   \rReceiving objects:  18% (71/393)   \rReceiving objects:  19% (75/393)   \rReceiving objects:  20% (79/393)   \rReceiving objects:  21% (83/393)   \rReceiving objects:  22% (87/393)   \rReceiving objects:  23% (91/393)   \rReceiving objects:  24% (95/393)   \rReceiving objects:  25% (99/393)   \rReceiving objects:  26% (103/393)   \rReceiving objects:  27% (107/393)   \rReceiving objects:  28% (111/393)   \rReceiving objects:  29% (114/393)   \rReceiving objects:  30% (118/393)   \rReceiving objects:  31% (122/393)   \rReceiving objects:  32% (126/393)   \rReceiving objects:  33% (130/393)   \rReceiving objects:  34% (134/393)   \rReceiving objects:  35% (138/393)   \rReceiving objects:  36% (142/393)   \rReceiving objects:  37% (146/393)   \rReceiving objects:  38% (150/393)   \rReceiving objects:  39% (154/393)   \rReceiving objects:  40% (158/393)   \rReceiving objects:  41% (162/393)   \rReceiving objects:  42% (166/393)   \rReceiving objects:  43% (169/393)   \rReceiving objects:  44% (173/393)   \rReceiving objects:  45% (177/393)   \rReceiving objects:  46% (181/393)   \rReceiving objects:  47% (185/393)   \rReceiving objects:  48% (189/393)   \rReceiving objects:  49% (193/393)   \rReceiving objects:  50% (197/393)   \rReceiving objects:  51% (201/393)   \rReceiving objects:  52% (205/393)   \rReceiving objects:  53% (209/393)   \rReceiving objects:  54% (213/393)   \rReceiving objects:  55% (217/393)   \rReceiving objects:  56% (221/393)   \rReceiving objects:  57% (225/393)   \rReceiving objects:  58% (228/393)   \rReceiving objects:  59% (232/393)   \rReceiving objects:  60% (236/393)   \rReceiving objects:  61% (240/393)   \rReceiving objects:  62% (244/393)   \rReceiving objects:  63% (248/393)   \rReceiving objects:  64% (252/393)   \rReceiving objects:  65% (256/393)   \rReceiving objects:  66% (260/393)   \rReceiving objects:  67% (264/393)   \rReceiving objects:  68% (268/393)   \rReceiving objects:  69% (272/393)   \rReceiving objects:  70% (276/393)   \rReceiving objects:  71% (280/393)   \rReceiving objects:  72% (283/393)   \rReceiving objects:  73% (287/393)   \rReceiving objects:  74% (291/393)   \rReceiving objects:  75% (295/393)   \rReceiving objects:  76% (299/393)   \rReceiving objects:  77% (303/393)   \rReceiving objects:  78% (307/393)   \rReceiving objects:  79% (311/393)   \rReceiving objects:  80% (315/393)   \rReceiving objects:  81% (319/393)   \rReceiving objects:  82% (323/393)   \rReceiving objects:  83% (327/393)   \rReceiving objects:  84% (331/393)   \rReceiving objects:  85% (335/393)   \rReceiving objects:  86% (338/393)   \rReceiving objects:  87% (342/393)   \rReceiving objects:  88% (346/393)   \rReceiving objects:  89% (350/393)   \rReceiving objects:  90% (354/393)   \rReceiving objects:  91% (358/393)   \rReceiving objects:  92% (362/393)   \rReceiving objects:  93% (366/393)   \rReceiving objects:  94% (370/393)   \rReceiving objects:  95% (374/393)   \rReceiving objects:  96% (378/393)   \rremote: Total 393 (delta 0), reused 0 (delta 0), pack-reused 393\u001b[K\n",
            "Receiving objects:  97% (382/393)   \rReceiving objects:  98% (386/393)   \rReceiving objects:  99% (390/393)   \rReceiving objects: 100% (393/393)   \rReceiving objects: 100% (393/393), 298.74 KiB | 10.67 MiB/s, done.\n",
            "Resolving deltas:   0% (0/109)   \rResolving deltas:   2% (3/109)   \rResolving deltas:   4% (5/109)   \rResolving deltas:   5% (6/109)   \rResolving deltas:   6% (7/109)   \rResolving deltas:   7% (8/109)   \rResolving deltas:  10% (11/109)   \rResolving deltas:  11% (12/109)   \rResolving deltas:  13% (15/109)   \rResolving deltas:  14% (16/109)   \rResolving deltas:  15% (17/109)   \rResolving deltas:  16% (18/109)   \rResolving deltas:  18% (20/109)   \rResolving deltas:  21% (23/109)   \rResolving deltas:  22% (24/109)   \rResolving deltas:  23% (26/109)   \rResolving deltas:  25% (28/109)   \rResolving deltas:  28% (31/109)   \rResolving deltas:  29% (32/109)   \rResolving deltas:  34% (38/109)   \rResolving deltas:  35% (39/109)   \rResolving deltas:  36% (40/109)   \rResolving deltas:  39% (43/109)   \rResolving deltas:  41% (45/109)   \rResolving deltas:  43% (47/109)   \rResolving deltas:  44% (49/109)   \rResolving deltas:  46% (51/109)   \rResolving deltas:  49% (54/109)   \rResolving deltas:  50% (55/109)   \rResolving deltas:  52% (57/109)   \rResolving deltas:  54% (59/109)   \rResolving deltas:  55% (61/109)   \rResolving deltas:  56% (62/109)   \rResolving deltas:  59% (65/109)   \rResolving deltas:  60% (66/109)   \rResolving deltas:  61% (67/109)   \rResolving deltas:  62% (68/109)   \rResolving deltas:  63% (69/109)   \rResolving deltas:  64% (70/109)   \rResolving deltas:  65% (71/109)   \rResolving deltas:  66% (72/109)   \rResolving deltas:  67% (74/109)   \rResolving deltas:  68% (75/109)   \rResolving deltas:  69% (76/109)   \rResolving deltas:  71% (78/109)   \rResolving deltas:  72% (79/109)   \rResolving deltas:  73% (80/109)   \rResolving deltas:  74% (81/109)   \rResolving deltas:  75% (82/109)   \rResolving deltas:  76% (83/109)   \rResolving deltas:  77% (84/109)   \rResolving deltas:  78% (86/109)   \rResolving deltas:  79% (87/109)   \rResolving deltas:  80% (88/109)   \rResolving deltas:  81% (89/109)   \rResolving deltas:  82% (90/109)   \rResolving deltas:  84% (92/109)   \rResolving deltas:  86% (94/109)   \rResolving deltas:  87% (95/109)   \rResolving deltas:  88% (96/109)   \rResolving deltas:  89% (98/109)   \rResolving deltas:  90% (99/109)   \rResolving deltas:  91% (100/109)   \rResolving deltas:  92% (101/109)   \rResolving deltas:  93% (102/109)   \rResolving deltas:  95% (104/109)   \rResolving deltas:  99% (108/109)   \rResolving deltas: 100% (109/109)   \rResolving deltas: 100% (109/109), done.\n"
          ],
          "name": "stdout"
        }
      ]
    },
    {
      "cell_type": "code",
      "metadata": {
        "id": "aS4o9ICAIgMI",
        "colab_type": "code",
        "colab": {
          "base_uri": "https://localhost:8080/",
          "height": 34
        },
        "outputId": "d6020574-2d2d-4fd6-a517-ce34a2c30ba0"
      },
      "source": [
        "cd pyrouge/tools/ROUGE-1.5.5"
      ],
      "execution_count": 9,
      "outputs": [
        {
          "output_type": "stream",
          "text": [
            "/content/flask/PreSumm/pyrouge/tools/ROUGE-1.5.5\n"
          ],
          "name": "stdout"
        }
      ]
    },
    {
      "cell_type": "markdown",
      "metadata": {
        "id": "CzrVss3ie3Ga",
        "colab_type": "text"
      },
      "source": [
        "Check if Perl is installed else install it."
      ]
    },
    {
      "cell_type": "code",
      "metadata": {
        "id": "FLmkHY62Illx",
        "colab_type": "code",
        "colab": {
          "base_uri": "https://localhost:8080/",
          "height": 205
        },
        "outputId": "4f5f74c9-7e96-4c8b-e458-34f200497c5a"
      },
      "source": [
        "pip install perl"
      ],
      "execution_count": 10,
      "outputs": [
        {
          "output_type": "stream",
          "text": [
            "Collecting perl\n",
            "  Downloading https://files.pythonhosted.org/packages/cb/2f/d2724ee752dc50c6eb4273ab5c486ce43737866072f15bd089e449003fd2/perl-1.0.0.tar.gz\n",
            "Requirement already satisfied: six in /usr/local/lib/python3.6/dist-packages (from perl) (1.15.0)\n",
            "Building wheels for collected packages: perl\n",
            "  Building wheel for perl (setup.py) ... \u001b[?25l\u001b[?25hdone\n",
            "  Created wheel for perl: filename=perl-1.0.0-cp36-none-any.whl size=10093 sha256=c3dad1e746d6d2119ac1d9b592789f895ff1056ecc6aabb5009e53c0d0fbcd6c\n",
            "  Stored in directory: /root/.cache/pip/wheels/5e/c9/3f/8ec566a8c60d18b3587c6774df3ff96fb62175533d6bfadc6e\n",
            "Successfully built perl\n",
            "Installing collected packages: perl\n",
            "Successfully installed perl-1.0.0\n"
          ],
          "name": "stdout"
        }
      ]
    },
    {
      "cell_type": "code",
      "metadata": {
        "id": "WAYAWS6DI1ST",
        "colab_type": "code",
        "colab": {}
      },
      "source": [
        "!export ROUGE_EVAL_HOME=\"/content/flask-summary/PreSumm/pyrouge/tools/ROUGE-1.5.5/data/\""
      ],
      "execution_count": 11,
      "outputs": []
    },
    {
      "cell_type": "code",
      "metadata": {
        "id": "OdT2ISEsI6Wl",
        "colab_type": "code",
        "colab": {
          "base_uri": "https://localhost:8080/",
          "height": 34
        },
        "outputId": "5332dfe1-80b2-4022-a7e9-e56eb2c3ef4f"
      },
      "source": [
        "cd data/WordNet-2.0-Exceptions/"
      ],
      "execution_count": 12,
      "outputs": [
        {
          "output_type": "stream",
          "text": [
            "/content/flask/PreSumm/pyrouge/tools/ROUGE-1.5.5/data/WordNet-2.0-Exceptions\n"
          ],
          "name": "stdout"
        }
      ]
    },
    {
      "cell_type": "markdown",
      "metadata": {
        "id": "TU_QtH_9fJSd",
        "colab_type": "text"
      },
      "source": [
        "For installing XML:DOM(this is a requirement for ROUGE to work) we install synaptic package manager"
      ]
    },
    {
      "cell_type": "code",
      "metadata": {
        "id": "ZpMduBN1JQBu",
        "colab_type": "code",
        "colab": {}
      },
      "source": [
        "!apt-get install synaptic"
      ],
      "execution_count": null,
      "outputs": []
    },
    {
      "cell_type": "code",
      "metadata": {
        "id": "_RebP5U-JTmX",
        "colab_type": "code",
        "colab": {}
      },
      "source": [
        "!./buildExeptionDB.pl . exc WordNet-2.0.exc.db"
      ],
      "execution_count": null,
      "outputs": []
    },
    {
      "cell_type": "markdown",
      "metadata": {
        "id": "LO6qIvgaggWp",
        "colab_type": "text"
      },
      "source": [
        " To avoid any WordNet exceptions, run these commands."
      ]
    },
    {
      "cell_type": "code",
      "metadata": {
        "id": "ARNG2pGVLcas",
        "colab_type": "code",
        "colab": {
          "base_uri": "https://localhost:8080/",
          "height": 34
        },
        "outputId": "35612688-2577-4a2d-c609-93e029a80b09"
      },
      "source": [
        "cd  /content/flask/PreSumm/pyrouge/tools/ROUGE-1.5.5/data"
      ],
      "execution_count": 15,
      "outputs": [
        {
          "output_type": "stream",
          "text": [
            "/content/flask/PreSumm/pyrouge/tools/ROUGE-1.5.5/data\n"
          ],
          "name": "stdout"
        }
      ]
    },
    {
      "cell_type": "code",
      "metadata": {
        "id": "tNGLVlQgLkAq",
        "colab_type": "code",
        "colab": {}
      },
      "source": [
        "rm WordNet-2.0.exc.db"
      ],
      "execution_count": 16,
      "outputs": []
    },
    {
      "cell_type": "code",
      "metadata": {
        "id": "NGFgwvZILoKy",
        "colab_type": "code",
        "colab": {}
      },
      "source": [
        "!ln -s WordNet-2.0-Exceptions/WordNet-2.0.exc.db WordNet-2.0.exc.db"
      ],
      "execution_count": 17,
      "outputs": []
    },
    {
      "cell_type": "code",
      "metadata": {
        "id": "aPow0XsvLsTs",
        "colab_type": "code",
        "colab": {}
      },
      "source": [
        "!apt-get install libxml-dom-perl"
      ],
      "execution_count": null,
      "outputs": []
    },
    {
      "cell_type": "markdown",
      "metadata": {
        "id": "z5ip9V3Ifdpp",
        "colab_type": "text"
      },
      "source": [
        "ROUGE is now installed, hurray! Let move to pyrouge insatllation"
      ]
    },
    {
      "cell_type": "markdown",
      "metadata": {
        "id": "cHFUXH1xfebj",
        "colab_type": "text"
      },
      "source": [
        "pyrouge is a Python wrapper for the ROUGE summarization evaluation package. Getting ROUGE to work can require quite a bit of time. pyrouge is designed to make getting ROUGE scores easier by automatically converting your summaries into a format ROUGE understands, and automatically generating the ROUGE configuration file. Now download pyrouge."
      ]
    },
    {
      "cell_type": "code",
      "metadata": {
        "id": "amgb3oKoL1ed",
        "colab_type": "code",
        "colab": {
          "base_uri": "https://localhost:8080/",
          "height": 101
        },
        "outputId": "3317e470-a2aa-4854-d1e4-3f9db5392b51"
      },
      "source": [
        "!git clone https://github.com/bheinzerling/pyrouge.git"
      ],
      "execution_count": 19,
      "outputs": [
        {
          "output_type": "stream",
          "text": [
            "Cloning into 'pyrouge'...\n",
            "remote: Enumerating objects: 551, done.\u001b[K\n",
            "Receiving objects:   0% (1/551)   \rReceiving objects:   1% (6/551)   \rReceiving objects:   2% (12/551)   \rReceiving objects:   3% (17/551)   \rReceiving objects:   4% (23/551)   \rReceiving objects:   5% (28/551)   \rReceiving objects:   6% (34/551)   \rReceiving objects:   7% (39/551)   \rReceiving objects:   8% (45/551)   \rReceiving objects:   9% (50/551)   \rReceiving objects:  10% (56/551)   \rReceiving objects:  11% (61/551)   \rReceiving objects:  12% (67/551)   \rReceiving objects:  13% (72/551)   \rReceiving objects:  14% (78/551)   \rReceiving objects:  15% (83/551)   \rReceiving objects:  16% (89/551)   \rReceiving objects:  17% (94/551)   \rReceiving objects:  18% (100/551)   \rReceiving objects:  19% (105/551)   \rReceiving objects:  20% (111/551)   \rReceiving objects:  21% (116/551)   \rReceiving objects:  22% (122/551)   \rReceiving objects:  23% (127/551)   \rReceiving objects:  24% (133/551)   \rReceiving objects:  25% (138/551)   \rReceiving objects:  26% (144/551)   \rReceiving objects:  27% (149/551)   \rReceiving objects:  28% (155/551)   \rReceiving objects:  29% (160/551)   \rReceiving objects:  30% (166/551)   \rReceiving objects:  31% (171/551)   \rReceiving objects:  32% (177/551)   \rReceiving objects:  33% (182/551)   \rReceiving objects:  34% (188/551)   \rReceiving objects:  35% (193/551)   \rReceiving objects:  36% (199/551)   \rReceiving objects:  37% (204/551)   \rReceiving objects:  38% (210/551)   \rReceiving objects:  39% (215/551)   \rReceiving objects:  40% (221/551)   \rReceiving objects:  41% (226/551)   \rReceiving objects:  42% (232/551)   \rReceiving objects:  43% (237/551)   \rReceiving objects:  44% (243/551)   \rReceiving objects:  45% (248/551)   \rReceiving objects:  46% (254/551)   \rReceiving objects:  47% (259/551)   \rReceiving objects:  48% (265/551)   \rReceiving objects:  49% (270/551)   \rReceiving objects:  50% (276/551)   \rReceiving objects:  51% (282/551)   \rReceiving objects:  52% (287/551)   \rReceiving objects:  53% (293/551)   \rReceiving objects:  54% (298/551)   \rReceiving objects:  55% (304/551)   \rReceiving objects:  56% (309/551)   \rReceiving objects:  57% (315/551)   \rReceiving objects:  58% (320/551)   \rReceiving objects:  59% (326/551)   \rReceiving objects:  60% (331/551)   \rReceiving objects:  61% (337/551)   \rReceiving objects:  62% (342/551)   \rReceiving objects:  63% (348/551)   \rReceiving objects:  64% (353/551)   \rReceiving objects:  65% (359/551)   \rReceiving objects:  66% (364/551)   \rReceiving objects:  67% (370/551)   \rReceiving objects:  68% (375/551)   \rReceiving objects:  69% (381/551)   \rReceiving objects:  70% (386/551)   \rReceiving objects:  71% (392/551)   \rReceiving objects:  72% (397/551)   \rremote: Total 551 (delta 0), reused 0 (delta 0), pack-reused 551\u001b[K\n",
            "Receiving objects:  73% (403/551)   \rReceiving objects:  74% (408/551)   \rReceiving objects:  75% (414/551)   \rReceiving objects:  76% (419/551)   \rReceiving objects:  77% (425/551)   \rReceiving objects:  78% (430/551)   \rReceiving objects:  79% (436/551)   \rReceiving objects:  80% (441/551)   \rReceiving objects:  81% (447/551)   \rReceiving objects:  82% (452/551)   \rReceiving objects:  83% (458/551)   \rReceiving objects:  84% (463/551)   \rReceiving objects:  85% (469/551)   \rReceiving objects:  86% (474/551)   \rReceiving objects:  87% (480/551)   \rReceiving objects:  88% (485/551)   \rReceiving objects:  89% (491/551)   \rReceiving objects:  90% (496/551)   \rReceiving objects:  91% (502/551)   \rReceiving objects:  92% (507/551)   \rReceiving objects:  93% (513/551)   \rReceiving objects:  94% (518/551)   \rReceiving objects:  95% (524/551)   \rReceiving objects:  96% (529/551)   \rReceiving objects:  97% (535/551)   \rReceiving objects:  98% (540/551)   \rReceiving objects:  99% (546/551)   \rReceiving objects: 100% (551/551)   \rReceiving objects: 100% (551/551), 123.17 KiB | 8.21 MiB/s, done.\n",
            "Resolving deltas:   0% (0/198)   \rResolving deltas:   1% (2/198)   \rResolving deltas:   7% (15/198)   \rResolving deltas:   8% (17/198)   \rResolving deltas:  12% (24/198)   \rResolving deltas:  14% (28/198)   \rResolving deltas:  16% (32/198)   \rResolving deltas:  17% (34/198)   \rResolving deltas:  18% (37/198)   \rResolving deltas:  19% (38/198)   \rResolving deltas:  20% (41/198)   \rResolving deltas:  21% (42/198)   \rResolving deltas:  22% (44/198)   \rResolving deltas:  23% (46/198)   \rResolving deltas:  25% (50/198)   \rResolving deltas:  26% (52/198)   \rResolving deltas:  27% (54/198)   \rResolving deltas:  28% (56/198)   \rResolving deltas:  29% (58/198)   \rResolving deltas:  30% (61/198)   \rResolving deltas:  31% (62/198)   \rResolving deltas:  32% (65/198)   \rResolving deltas:  33% (66/198)   \rResolving deltas:  34% (68/198)   \rResolving deltas:  35% (70/198)   \rResolving deltas:  36% (73/198)   \rResolving deltas:  37% (74/198)   \rResolving deltas:  38% (76/198)   \rResolving deltas:  39% (78/198)   \rResolving deltas:  40% (81/198)   \rResolving deltas:  41% (82/198)   \rResolving deltas:  43% (86/198)   \rResolving deltas:  44% (89/198)   \rResolving deltas:  45% (90/198)   \rResolving deltas:  46% (92/198)   \rResolving deltas:  47% (95/198)   \rResolving deltas:  48% (97/198)   \rResolving deltas:  50% (99/198)   \rResolving deltas:  51% (101/198)   \rResolving deltas:  52% (103/198)   \rResolving deltas:  53% (105/198)   \rResolving deltas:  54% (107/198)   \rResolving deltas:  55% (109/198)   \rResolving deltas:  56% (111/198)   \rResolving deltas:  58% (115/198)   \rResolving deltas:  59% (117/198)   \rResolving deltas:  60% (119/198)   \rResolving deltas:  61% (121/198)   \rResolving deltas:  62% (123/198)   \rResolving deltas:  63% (125/198)   \rResolving deltas:  64% (128/198)   \rResolving deltas:  65% (129/198)   \rResolving deltas:  66% (131/198)   \rResolving deltas:  67% (133/198)   \rResolving deltas:  68% (135/198)   \rResolving deltas:  69% (137/198)   \rResolving deltas:  70% (139/198)   \rResolving deltas:  71% (142/198)   \rResolving deltas:  72% (144/198)   \rResolving deltas:  73% (145/198)   \rResolving deltas:  74% (147/198)   \rResolving deltas:  75% (149/198)   \rResolving deltas:  77% (154/198)   \rResolving deltas:  78% (156/198)   \rResolving deltas:  79% (158/198)   \rResolving deltas:  80% (159/198)   \rResolving deltas:  81% (162/198)   \rResolving deltas:  88% (176/198)   \rResolving deltas:  90% (179/198)   \rResolving deltas:  94% (188/198)   \rResolving deltas:  95% (190/198)   \rResolving deltas:  97% (194/198)   \rResolving deltas:  98% (196/198)   \rResolving deltas:  99% (197/198)   \rResolving deltas: 100% (198/198)   \rResolving deltas: 100% (198/198), done.\n"
          ],
          "name": "stdout"
        }
      ]
    },
    {
      "cell_type": "code",
      "metadata": {
        "id": "fJ8B9QGZL7Md",
        "colab_type": "code",
        "colab": {
          "base_uri": "https://localhost:8080/",
          "height": 34
        },
        "outputId": "11723bec-f001-4bae-a194-4af51bbee767"
      },
      "source": [
        "cd pyrouge"
      ],
      "execution_count": 20,
      "outputs": [
        {
          "output_type": "stream",
          "text": [
            "/content/flask/PreSumm/pyrouge/tools/ROUGE-1.5.5/data/pyrouge\n"
          ],
          "name": "stdout"
        }
      ]
    },
    {
      "cell_type": "code",
      "metadata": {
        "id": "ygJz-9UaMM6A",
        "colab_type": "code",
        "colab": {
          "base_uri": "https://localhost:8080/",
          "height": 1000
        },
        "outputId": "5cd1f524-8498-4278-bd8e-412424b293e6"
      },
      "source": [
        "!sudo python setup.py install"
      ],
      "execution_count": 21,
      "outputs": [
        {
          "output_type": "stream",
          "text": [
            "running install\n",
            "running bdist_egg\n",
            "running egg_info\n",
            "creating pyrouge.egg-info\n",
            "writing pyrouge.egg-info/PKG-INFO\n",
            "writing dependency_links to pyrouge.egg-info/dependency_links.txt\n",
            "writing top-level names to pyrouge.egg-info/top_level.txt\n",
            "writing manifest file 'pyrouge.egg-info/SOURCES.txt'\n",
            "writing manifest file 'pyrouge.egg-info/SOURCES.txt'\n",
            "installing library code to build/bdist.linux-x86_64/egg\n",
            "running install_lib\n",
            "running build_py\n",
            "creating build\n",
            "creating build/lib\n",
            "creating build/lib/pyrouge\n",
            "copying pyrouge/test.py -> build/lib/pyrouge\n",
            "copying pyrouge/__init__.py -> build/lib/pyrouge\n",
            "copying pyrouge/Rouge155.py -> build/lib/pyrouge\n",
            "creating build/lib/pyrouge/utils\n",
            "copying pyrouge/utils/argparsers.py -> build/lib/pyrouge/utils\n",
            "copying pyrouge/utils/__init__.py -> build/lib/pyrouge/utils\n",
            "copying pyrouge/utils/file_utils.py -> build/lib/pyrouge/utils\n",
            "copying pyrouge/utils/sentence_splitter.py -> build/lib/pyrouge/utils\n",
            "copying pyrouge/utils/log.py -> build/lib/pyrouge/utils\n",
            "copying pyrouge/utils/string_utils.py -> build/lib/pyrouge/utils\n",
            "creating build/lib/pyrouge/tests\n",
            "copying pyrouge/tests/Rouge155_test.py -> build/lib/pyrouge/tests\n",
            "copying pyrouge/tests/__init__.py -> build/lib/pyrouge/tests\n",
            "copying pyrouge/tests/__main__.py -> build/lib/pyrouge/tests\n",
            "creating build/lib/pyrouge/tests/data\n",
            "copying pyrouge/tests/data/config_test2.xml -> build/lib/pyrouge/tests/data\n",
            "copying pyrouge/tests/data/spl_test_doc -> build/lib/pyrouge/tests/data\n",
            "copying pyrouge/tests/data/spl_test_doc.html -> build/lib/pyrouge/tests/data\n",
            "copying pyrouge/tests/data/ROUGE-test_11.xml -> build/lib/pyrouge/tests/data\n",
            "copying pyrouge/tests/data/config_test.xml -> build/lib/pyrouge/tests/data\n",
            "creating build/lib/pyrouge/tests/data/models2\n",
            "copying pyrouge/tests/data/models2/D30002.M.100.T.B -> build/lib/pyrouge/tests/data/models2\n",
            "copying pyrouge/tests/data/models2/D30001.M.100.T.C -> build/lib/pyrouge/tests/data/models2\n",
            "copying pyrouge/tests/data/models2/D30001.M.100.T.D -> build/lib/pyrouge/tests/data/models2\n",
            "copying pyrouge/tests/data/models2/D30003.M.100.T.F -> build/lib/pyrouge/tests/data/models2\n",
            "copying pyrouge/tests/data/models2/D30005.M.100.T.B -> build/lib/pyrouge/tests/data/models2\n",
            "copying pyrouge/tests/data/models2/D30001.M.100.T.B -> build/lib/pyrouge/tests/data/models2\n",
            "copying pyrouge/tests/data/models2/D30003.M.100.T.C -> build/lib/pyrouge/tests/data/models2\n",
            "copying pyrouge/tests/data/models2/D30003.M.100.T.B -> build/lib/pyrouge/tests/data/models2\n",
            "copying pyrouge/tests/data/models2/D30005.M.100.T.C -> build/lib/pyrouge/tests/data/models2\n",
            "copying pyrouge/tests/data/models2/D30002.M.100.T.C -> build/lib/pyrouge/tests/data/models2\n",
            "copying pyrouge/tests/data/models2/D30005.M.100.T.G -> build/lib/pyrouge/tests/data/models2\n",
            "copying pyrouge/tests/data/models2/D30002.M.100.T.E -> build/lib/pyrouge/tests/data/models2\n",
            "creating build/lib/pyrouge/tests/data/systems\n",
            "copying pyrouge/tests/data/systems/SL.P.10.R.12.SL062003-03.html -> build/lib/pyrouge/tests/data/systems\n",
            "copying pyrouge/tests/data/systems/SL.P.10.R.14.SL062003-15.html -> build/lib/pyrouge/tests/data/systems\n",
            "copying pyrouge/tests/data/systems/SL.P.10.R.21.SL062003-20.html -> build/lib/pyrouge/tests/data/systems\n",
            "copying pyrouge/tests/data/systems/SL.P.10.R.24.SL062003-09.html -> build/lib/pyrouge/tests/data/systems\n",
            "copying pyrouge/tests/data/systems/SL.P.10.R.14.SL062003-13.html -> build/lib/pyrouge/tests/data/systems\n",
            "copying pyrouge/tests/data/systems/SL.P.10.R.12.SL062003-19.html -> build/lib/pyrouge/tests/data/systems\n",
            "copying pyrouge/tests/data/systems/SL.P.10.R.22.SL062003-01.html -> build/lib/pyrouge/tests/data/systems\n",
            "copying pyrouge/tests/data/systems/SL.P.10.R.21.SL062003-04.html -> build/lib/pyrouge/tests/data/systems\n",
            "copying pyrouge/tests/data/systems/SL.P.10.R.24.SL062003-19.html -> build/lib/pyrouge/tests/data/systems\n",
            "copying pyrouge/tests/data/systems/SL.P.10.R.11.SL062003-19.html -> build/lib/pyrouge/tests/data/systems\n",
            "copying pyrouge/tests/data/systems/SL.P.10.R.24.SL062003-22.html -> build/lib/pyrouge/tests/data/systems\n",
            "copying pyrouge/tests/data/systems/SL.P.10.R.13.SL062003-17.html -> build/lib/pyrouge/tests/data/systems\n",
            "copying pyrouge/tests/data/systems/SL.P.10.R.11.SL062003-12.html -> build/lib/pyrouge/tests/data/systems\n",
            "copying pyrouge/tests/data/systems/SL.P.10.R.11.SL062003-01.html -> build/lib/pyrouge/tests/data/systems\n",
            "copying pyrouge/tests/data/systems/SL.P.10.R.23.SL062003-03.html -> build/lib/pyrouge/tests/data/systems\n",
            "copying pyrouge/tests/data/systems/SL.P.10.R.24.SL062003-24.html -> build/lib/pyrouge/tests/data/systems\n",
            "copying pyrouge/tests/data/systems/SL.P.10.R.11.SL062003-04.html -> build/lib/pyrouge/tests/data/systems\n",
            "copying pyrouge/tests/data/systems/SL.P.10.R.14.SL062003-22.html -> build/lib/pyrouge/tests/data/systems\n",
            "copying pyrouge/tests/data/systems/SL.P.10.R.21.SL062003-10.html -> build/lib/pyrouge/tests/data/systems\n",
            "copying pyrouge/tests/data/systems/SL.P.10.R.23.SL062003-16.html -> build/lib/pyrouge/tests/data/systems\n",
            "copying pyrouge/tests/data/systems/SL.P.10.R.11.SL062003-06.html -> build/lib/pyrouge/tests/data/systems\n",
            "copying pyrouge/tests/data/systems/SL.P.10.R.11.SL062003-02.html -> build/lib/pyrouge/tests/data/systems\n",
            "copying pyrouge/tests/data/systems/SL.P.10.R.24.SL062003-12.html -> build/lib/pyrouge/tests/data/systems\n",
            "copying pyrouge/tests/data/systems/SL.P.10.R.22.SL062003-20.html -> build/lib/pyrouge/tests/data/systems\n",
            "copying pyrouge/tests/data/systems/SL.P.10.R.13.SL062003-22.html -> build/lib/pyrouge/tests/data/systems\n",
            "copying pyrouge/tests/data/systems/SL.P.10.R.14.SL062003-19.html -> build/lib/pyrouge/tests/data/systems\n",
            "copying pyrouge/tests/data/systems/SL.P.10.R.12.SL062003-23.html -> build/lib/pyrouge/tests/data/systems\n",
            "copying pyrouge/tests/data/systems/SL.P.10.R.23.SL062003-02.html -> build/lib/pyrouge/tests/data/systems\n",
            "copying pyrouge/tests/data/systems/SL.P.10.R.13.SL062003-07.html -> build/lib/pyrouge/tests/data/systems\n",
            "copying pyrouge/tests/data/systems/SL.P.10.R.22.SL062003-14.html -> build/lib/pyrouge/tests/data/systems\n",
            "copying pyrouge/tests/data/systems/SL.P.10.R.22.SL062003-16.html -> build/lib/pyrouge/tests/data/systems\n",
            "copying pyrouge/tests/data/systems/SL.P.10.R.14.SL062003-21.html -> build/lib/pyrouge/tests/data/systems\n",
            "copying pyrouge/tests/data/systems/SL.P.10.R.12.SL062003-22.html -> build/lib/pyrouge/tests/data/systems\n",
            "copying pyrouge/tests/data/systems/SL.P.10.R.12.SL062003-02.html -> build/lib/pyrouge/tests/data/systems\n",
            "copying pyrouge/tests/data/systems/SL.P.10.R.14.SL062003-17.html -> build/lib/pyrouge/tests/data/systems\n",
            "copying pyrouge/tests/data/systems/SL.P.10.R.14.SL062003-01.html -> build/lib/pyrouge/tests/data/systems\n",
            "copying pyrouge/tests/data/systems/SL.P.10.R.24.SL062003-15.html -> build/lib/pyrouge/tests/data/systems\n",
            "copying pyrouge/tests/data/systems/SL.P.10.R.23.SL062003-07.html -> build/lib/pyrouge/tests/data/systems\n",
            "copying pyrouge/tests/data/systems/SL.P.10.R.13.SL062003-16.html -> build/lib/pyrouge/tests/data/systems\n",
            "copying pyrouge/tests/data/systems/SL.P.10.R.12.SL062003-20.html -> build/lib/pyrouge/tests/data/systems\n",
            "copying pyrouge/tests/data/systems/SL.P.10.R.23.SL062003-22.html -> build/lib/pyrouge/tests/data/systems\n",
            "copying pyrouge/tests/data/systems/SL.P.10.R.24.SL062003-16.html -> build/lib/pyrouge/tests/data/systems\n",
            "copying pyrouge/tests/data/systems/SL.P.10.R.23.SL062003-10.html -> build/lib/pyrouge/tests/data/systems\n",
            "copying pyrouge/tests/data/systems/SL.P.10.R.13.SL062003-20.html -> build/lib/pyrouge/tests/data/systems\n",
            "copying pyrouge/tests/data/systems/SL.P.10.R.13.SL062003-02.html -> build/lib/pyrouge/tests/data/systems\n",
            "copying pyrouge/tests/data/systems/SL.P.10.R.11.SL062003-07.html -> build/lib/pyrouge/tests/data/systems\n",
            "copying pyrouge/tests/data/systems/SL.P.10.R.24.SL062003-06.html -> build/lib/pyrouge/tests/data/systems\n",
            "copying pyrouge/tests/data/systems/SL.P.10.R.21.SL062003-03.html -> build/lib/pyrouge/tests/data/systems\n",
            "copying pyrouge/tests/data/systems/SL.P.10.R.14.SL062003-06.html -> build/lib/pyrouge/tests/data/systems\n",
            "copying pyrouge/tests/data/systems/SL.P.10.R.21.SL062003-16.html -> build/lib/pyrouge/tests/data/systems\n",
            "copying pyrouge/tests/data/systems/SL.P.10.R.22.SL062003-02.html -> build/lib/pyrouge/tests/data/systems\n",
            "copying pyrouge/tests/data/systems/SL.P.10.R.24.SL062003-07.html -> build/lib/pyrouge/tests/data/systems\n",
            "copying pyrouge/tests/data/systems/SL.P.10.R.12.SL062003-05.html -> build/lib/pyrouge/tests/data/systems\n",
            "copying pyrouge/tests/data/systems/SL.P.10.R.24.SL062003-13.html -> build/lib/pyrouge/tests/data/systems\n",
            "copying pyrouge/tests/data/systems/SL.P.10.R.14.SL062003-24.html -> build/lib/pyrouge/tests/data/systems\n",
            "copying pyrouge/tests/data/systems/SL.P.10.R.11.SL062003-14.html -> build/lib/pyrouge/tests/data/systems\n",
            "copying pyrouge/tests/data/systems/SL.P.10.R.23.SL062003-08.html -> build/lib/pyrouge/tests/data/systems\n",
            "copying pyrouge/tests/data/systems/SL.P.10.R.22.SL062003-13.html -> build/lib/pyrouge/tests/data/systems\n",
            "copying pyrouge/tests/data/systems/SL.P.10.R.23.SL062003-05.html -> build/lib/pyrouge/tests/data/systems\n",
            "copying pyrouge/tests/data/systems/SL.P.10.R.24.SL062003-20.html -> build/lib/pyrouge/tests/data/systems\n",
            "copying pyrouge/tests/data/systems/SL.P.10.R.21.SL062003-21.html -> build/lib/pyrouge/tests/data/systems\n",
            "copying pyrouge/tests/data/systems/SL.P.10.R.12.SL062003-17.html -> build/lib/pyrouge/tests/data/systems\n",
            "copying pyrouge/tests/data/systems/SL.P.10.R.13.SL062003-18.html -> build/lib/pyrouge/tests/data/systems\n",
            "copying pyrouge/tests/data/systems/SL.P.10.R.11.SL062003-25.html -> build/lib/pyrouge/tests/data/systems\n",
            "copying pyrouge/tests/data/systems/SL.P.10.R.23.SL062003-21.html -> build/lib/pyrouge/tests/data/systems\n",
            "copying pyrouge/tests/data/systems/SL.P.10.R.21.SL062003-07.html -> build/lib/pyrouge/tests/data/systems\n",
            "copying pyrouge/tests/data/systems/SL.P.10.R.11.SL062003-03.html -> build/lib/pyrouge/tests/data/systems\n",
            "copying pyrouge/tests/data/systems/SL.P.10.R.12.SL062003-10.html -> build/lib/pyrouge/tests/data/systems\n",
            "copying pyrouge/tests/data/systems/SL.P.10.R.22.SL062003-07.html -> build/lib/pyrouge/tests/data/systems\n",
            "copying pyrouge/tests/data/systems/SL.P.10.R.23.SL062003-24.html -> build/lib/pyrouge/tests/data/systems\n",
            "copying pyrouge/tests/data/systems/SL.P.10.R.21.SL062003-08.html -> build/lib/pyrouge/tests/data/systems\n",
            "copying pyrouge/tests/data/systems/SL.P.10.R.12.SL062003-04.html -> build/lib/pyrouge/tests/data/systems\n",
            "copying pyrouge/tests/data/systems/SL.P.10.R.14.SL062003-04.html -> build/lib/pyrouge/tests/data/systems\n",
            "copying pyrouge/tests/data/systems/SL.P.10.R.13.SL062003-11.html -> build/lib/pyrouge/tests/data/systems\n",
            "copying pyrouge/tests/data/systems/SL.P.10.R.12.SL062003-14.html -> build/lib/pyrouge/tests/data/systems\n",
            "copying pyrouge/tests/data/systems/SL.P.10.R.13.SL062003-04.html -> build/lib/pyrouge/tests/data/systems\n",
            "copying pyrouge/tests/data/systems/SL.P.10.R.22.SL062003-15.html -> build/lib/pyrouge/tests/data/systems\n",
            "copying pyrouge/tests/data/systems/SL.P.10.R.21.SL062003-24.html -> build/lib/pyrouge/tests/data/systems\n",
            "copying pyrouge/tests/data/systems/SL.P.10.R.24.SL062003-23.html -> build/lib/pyrouge/tests/data/systems\n",
            "copying pyrouge/tests/data/systems/SL.P.10.R.12.SL062003-24.html -> build/lib/pyrouge/tests/data/systems\n",
            "copying pyrouge/tests/data/systems/SL.P.10.R.21.SL062003-02.html -> build/lib/pyrouge/tests/data/systems\n",
            "copying pyrouge/tests/data/systems/SL.P.10.R.21.SL062003-09.html -> build/lib/pyrouge/tests/data/systems\n",
            "copying pyrouge/tests/data/systems/SL.P.10.R.23.SL062003-01.html -> build/lib/pyrouge/tests/data/systems\n",
            "copying pyrouge/tests/data/systems/SL.P.10.R.11.SL062003-10.html -> build/lib/pyrouge/tests/data/systems\n",
            "copying pyrouge/tests/data/systems/SL.P.10.R.12.SL062003-08.html -> build/lib/pyrouge/tests/data/systems\n",
            "copying pyrouge/tests/data/systems/SL.P.10.R.11.SL062003-18.html -> build/lib/pyrouge/tests/data/systems\n",
            "copying pyrouge/tests/data/systems/SL.P.10.R.22.SL062003-05.html -> build/lib/pyrouge/tests/data/systems\n",
            "copying pyrouge/tests/data/systems/SL.P.10.R.14.SL062003-05.html -> build/lib/pyrouge/tests/data/systems\n",
            "copying pyrouge/tests/data/systems/SL.P.10.R.23.SL062003-18.html -> build/lib/pyrouge/tests/data/systems\n",
            "copying pyrouge/tests/data/systems/SL.P.10.R.14.SL062003-23.html -> build/lib/pyrouge/tests/data/systems\n",
            "copying pyrouge/tests/data/systems/SL.P.10.R.13.SL062003-06.html -> build/lib/pyrouge/tests/data/systems\n",
            "copying pyrouge/tests/data/systems/SL.P.10.R.21.SL062003-17.html -> build/lib/pyrouge/tests/data/systems\n",
            "copying pyrouge/tests/data/systems/SL.P.10.R.14.SL062003-09.html -> build/lib/pyrouge/tests/data/systems\n",
            "copying pyrouge/tests/data/systems/SL.P.10.R.14.SL062003-02.html -> build/lib/pyrouge/tests/data/systems\n",
            "copying pyrouge/tests/data/systems/SL.P.10.R.24.SL062003-08.html -> build/lib/pyrouge/tests/data/systems\n",
            "copying pyrouge/tests/data/systems/SL.P.10.R.11.SL062003-21.html -> build/lib/pyrouge/tests/data/systems\n",
            "copying pyrouge/tests/data/systems/SL.P.10.R.23.SL062003-14.html -> build/lib/pyrouge/tests/data/systems\n",
            "copying pyrouge/tests/data/systems/SL.P.10.R.23.SL062003-11.html -> build/lib/pyrouge/tests/data/systems\n",
            "copying pyrouge/tests/data/systems/SL.P.10.R.13.SL062003-09.html -> build/lib/pyrouge/tests/data/systems\n",
            "copying pyrouge/tests/data/systems/SL.P.10.R.24.SL062003-18.html -> build/lib/pyrouge/tests/data/systems\n",
            "copying pyrouge/tests/data/systems/SL.P.10.R.11.SL062003-24.html -> build/lib/pyrouge/tests/data/systems\n",
            "copying pyrouge/tests/data/systems/SL.P.10.R.21.SL062003-19.html -> build/lib/pyrouge/tests/data/systems\n",
            "copying pyrouge/tests/data/systems/SL.P.10.R.24.SL062003-17.html -> build/lib/pyrouge/tests/data/systems\n",
            "copying pyrouge/tests/data/systems/SL.P.10.R.22.SL062003-08.html -> build/lib/pyrouge/tests/data/systems\n",
            "copying pyrouge/tests/data/systems/SL.P.10.R.13.SL062003-08.html -> build/lib/pyrouge/tests/data/systems\n",
            "copying pyrouge/tests/data/systems/SL.P.10.R.11.SL062003-17.html -> build/lib/pyrouge/tests/data/systems\n",
            "copying pyrouge/tests/data/systems/SL.P.10.R.13.SL062003-10.html -> build/lib/pyrouge/tests/data/systems\n",
            "copying pyrouge/tests/data/systems/SL.P.10.R.13.SL062003-13.html -> build/lib/pyrouge/tests/data/systems\n",
            "copying pyrouge/tests/data/systems/SL.P.10.R.21.SL062003-22.html -> build/lib/pyrouge/tests/data/systems\n",
            "copying pyrouge/tests/data/systems/SL.P.10.R.13.SL062003-19.html -> build/lib/pyrouge/tests/data/systems\n",
            "copying pyrouge/tests/data/systems/SL.P.10.R.22.SL062003-23.html -> build/lib/pyrouge/tests/data/systems\n",
            "copying pyrouge/tests/data/systems/SL.P.10.R.23.SL062003-09.html -> build/lib/pyrouge/tests/data/systems\n",
            "copying pyrouge/tests/data/systems/SL.P.10.R.13.SL062003-25.html -> build/lib/pyrouge/tests/data/systems\n",
            "copying pyrouge/tests/data/systems/SL.P.10.R.13.SL062003-12.html -> build/lib/pyrouge/tests/data/systems\n",
            "copying pyrouge/tests/data/systems/SL.P.10.R.12.SL062003-25.html -> build/lib/pyrouge/tests/data/systems\n",
            "copying pyrouge/tests/data/systems/SL.P.10.R.14.SL062003-11.html -> build/lib/pyrouge/tests/data/systems\n",
            "copying pyrouge/tests/data/systems/SL.P.10.R.24.SL062003-14.html -> build/lib/pyrouge/tests/data/systems\n",
            "copying pyrouge/tests/data/systems/SL.P.10.R.14.SL062003-03.html -> build/lib/pyrouge/tests/data/systems\n",
            "copying pyrouge/tests/data/systems/SL.P.10.R.24.SL062003-02.html -> build/lib/pyrouge/tests/data/systems\n",
            "copying pyrouge/tests/data/systems/SL.P.10.R.24.SL062003-04.html -> build/lib/pyrouge/tests/data/systems\n",
            "copying pyrouge/tests/data/systems/SL.P.10.R.22.SL062003-06.html -> build/lib/pyrouge/tests/data/systems\n",
            "copying pyrouge/tests/data/systems/SL.P.10.R.12.SL062003-06.html -> build/lib/pyrouge/tests/data/systems\n",
            "copying pyrouge/tests/data/systems/SL.P.10.R.13.SL062003-21.html -> build/lib/pyrouge/tests/data/systems\n",
            "copying pyrouge/tests/data/systems/SL.P.10.R.12.SL062003-01.html -> build/lib/pyrouge/tests/data/systems\n",
            "copying pyrouge/tests/data/systems/SL.P.10.R.13.SL062003-03.html -> build/lib/pyrouge/tests/data/systems\n",
            "copying pyrouge/tests/data/systems/SL.P.10.R.22.SL062003-21.html -> build/lib/pyrouge/tests/data/systems\n",
            "copying pyrouge/tests/data/systems/SL.P.10.R.23.SL062003-13.html -> build/lib/pyrouge/tests/data/systems\n",
            "copying pyrouge/tests/data/systems/SL.P.10.R.24.SL062003-10.html -> build/lib/pyrouge/tests/data/systems\n",
            "copying pyrouge/tests/data/systems/SL.P.10.R.21.SL062003-06.html -> build/lib/pyrouge/tests/data/systems\n",
            "copying pyrouge/tests/data/systems/SL.P.10.R.12.SL062003-16.html -> build/lib/pyrouge/tests/data/systems\n",
            "copying pyrouge/tests/data/systems/SL.P.10.R.21.SL062003-01.html -> build/lib/pyrouge/tests/data/systems\n",
            "copying pyrouge/tests/data/systems/SL.P.10.R.22.SL062003-18.html -> build/lib/pyrouge/tests/data/systems\n",
            "copying pyrouge/tests/data/systems/SL.P.10.R.22.SL062003-10.html -> build/lib/pyrouge/tests/data/systems\n",
            "copying pyrouge/tests/data/systems/SL.P.10.R.21.SL062003-18.html -> build/lib/pyrouge/tests/data/systems\n",
            "copying pyrouge/tests/data/systems/SL.P.10.R.12.SL062003-18.html -> build/lib/pyrouge/tests/data/systems\n",
            "copying pyrouge/tests/data/systems/SL.P.10.R.12.SL062003-12.html -> build/lib/pyrouge/tests/data/systems\n",
            "copying pyrouge/tests/data/systems/SL.P.10.R.13.SL062003-05.html -> build/lib/pyrouge/tests/data/systems\n",
            "copying pyrouge/tests/data/systems/SL.P.10.R.24.SL062003-01.html -> build/lib/pyrouge/tests/data/systems\n",
            "copying pyrouge/tests/data/systems/SL.P.10.R.22.SL062003-25.html -> build/lib/pyrouge/tests/data/systems\n",
            "copying pyrouge/tests/data/systems/SL.P.10.R.21.SL062003-25.html -> build/lib/pyrouge/tests/data/systems\n",
            "copying pyrouge/tests/data/systems/SL.P.10.R.11.SL062003-08.html -> build/lib/pyrouge/tests/data/systems\n",
            "copying pyrouge/tests/data/systems/SL.P.10.R.13.SL062003-23.html -> build/lib/pyrouge/tests/data/systems\n",
            "copying pyrouge/tests/data/systems/SL.P.10.R.22.SL062003-04.html -> build/lib/pyrouge/tests/data/systems\n",
            "copying pyrouge/tests/data/systems/SL.P.10.R.22.SL062003-22.html -> build/lib/pyrouge/tests/data/systems\n",
            "copying pyrouge/tests/data/systems/SL.P.10.R.24.SL062003-11.html -> build/lib/pyrouge/tests/data/systems\n",
            "copying pyrouge/tests/data/systems/SL.P.10.R.11.SL062003-22.html -> build/lib/pyrouge/tests/data/systems\n",
            "copying pyrouge/tests/data/systems/SL.P.10.R.21.SL062003-05.html -> build/lib/pyrouge/tests/data/systems\n",
            "copying pyrouge/tests/data/systems/SL.P.10.R.23.SL062003-25.html -> build/lib/pyrouge/tests/data/systems\n",
            "copying pyrouge/tests/data/systems/SL.P.10.R.21.SL062003-23.html -> build/lib/pyrouge/tests/data/systems\n",
            "copying pyrouge/tests/data/systems/SL.P.10.R.14.SL062003-08.html -> build/lib/pyrouge/tests/data/systems\n",
            "copying pyrouge/tests/data/systems/SL.P.10.R.23.SL062003-19.html -> build/lib/pyrouge/tests/data/systems\n",
            "copying pyrouge/tests/data/systems/SL.P.10.R.23.SL062003-04.html -> build/lib/pyrouge/tests/data/systems\n",
            "copying pyrouge/tests/data/systems/SL.P.10.R.12.SL062003-13.html -> build/lib/pyrouge/tests/data/systems\n",
            "copying pyrouge/tests/data/systems/SL.P.10.R.23.SL062003-17.html -> build/lib/pyrouge/tests/data/systems\n",
            "copying pyrouge/tests/data/systems/SL.P.10.R.11.SL062003-13.html -> build/lib/pyrouge/tests/data/systems\n",
            "copying pyrouge/tests/data/systems/SL.P.10.R.22.SL062003-24.html -> build/lib/pyrouge/tests/data/systems\n",
            "copying pyrouge/tests/data/systems/SL.P.10.R.11.SL062003-16.html -> build/lib/pyrouge/tests/data/systems\n",
            "copying pyrouge/tests/data/systems/SL.P.10.R.14.SL062003-07.html -> build/lib/pyrouge/tests/data/systems\n",
            "copying pyrouge/tests/data/systems/SL.P.10.R.11.SL062003-11.html -> build/lib/pyrouge/tests/data/systems\n",
            "copying pyrouge/tests/data/systems/SL.P.10.R.12.SL062003-07.html -> build/lib/pyrouge/tests/data/systems\n",
            "copying pyrouge/tests/data/systems/SL.P.10.R.22.SL062003-19.html -> build/lib/pyrouge/tests/data/systems\n",
            "copying pyrouge/tests/data/systems/SL.P.10.R.12.SL062003-11.html -> build/lib/pyrouge/tests/data/systems\n",
            "copying pyrouge/tests/data/systems/SL.P.10.R.11.SL062003-05.html -> build/lib/pyrouge/tests/data/systems\n",
            "copying pyrouge/tests/data/systems/SL.P.10.R.13.SL062003-01.html -> build/lib/pyrouge/tests/data/systems\n",
            "copying pyrouge/tests/data/systems/SL.P.10.R.23.SL062003-15.html -> build/lib/pyrouge/tests/data/systems\n",
            "copying pyrouge/tests/data/systems/SL.P.10.R.14.SL062003-25.html -> build/lib/pyrouge/tests/data/systems\n",
            "copying pyrouge/tests/data/systems/SL.P.10.R.24.SL062003-25.html -> build/lib/pyrouge/tests/data/systems\n",
            "copying pyrouge/tests/data/systems/SL.P.10.R.24.SL062003-03.html -> build/lib/pyrouge/tests/data/systems\n",
            "copying pyrouge/tests/data/systems/SL.P.10.R.11.SL062003-09.html -> build/lib/pyrouge/tests/data/systems\n",
            "copying pyrouge/tests/data/systems/SL.P.10.R.11.SL062003-20.html -> build/lib/pyrouge/tests/data/systems\n",
            "copying pyrouge/tests/data/systems/SL.P.10.R.14.SL062003-20.html -> build/lib/pyrouge/tests/data/systems\n",
            "copying pyrouge/tests/data/systems/SL.P.10.R.14.SL062003-18.html -> build/lib/pyrouge/tests/data/systems\n",
            "copying pyrouge/tests/data/systems/SL.P.10.R.22.SL062003-17.html -> build/lib/pyrouge/tests/data/systems\n",
            "copying pyrouge/tests/data/systems/SL.P.10.R.23.SL062003-12.html -> build/lib/pyrouge/tests/data/systems\n",
            "copying pyrouge/tests/data/systems/SL.P.10.R.13.SL062003-14.html -> build/lib/pyrouge/tests/data/systems\n",
            "copying pyrouge/tests/data/systems/SL.P.10.R.12.SL062003-09.html -> build/lib/pyrouge/tests/data/systems\n",
            "copying pyrouge/tests/data/systems/SL.P.10.R.21.SL062003-11.html -> build/lib/pyrouge/tests/data/systems\n",
            "copying pyrouge/tests/data/systems/SL.P.10.R.14.SL062003-14.html -> build/lib/pyrouge/tests/data/systems\n",
            "copying pyrouge/tests/data/systems/SL.P.10.R.23.SL062003-06.html -> build/lib/pyrouge/tests/data/systems\n",
            "copying pyrouge/tests/data/systems/SL.P.10.R.22.SL062003-11.html -> build/lib/pyrouge/tests/data/systems\n",
            "copying pyrouge/tests/data/systems/SL.P.10.R.21.SL062003-14.html -> build/lib/pyrouge/tests/data/systems\n",
            "copying pyrouge/tests/data/systems/SL.P.10.R.13.SL062003-15.html -> build/lib/pyrouge/tests/data/systems\n",
            "copying pyrouge/tests/data/systems/SL.P.10.R.24.SL062003-05.html -> build/lib/pyrouge/tests/data/systems\n",
            "copying pyrouge/tests/data/systems/SL.P.10.R.14.SL062003-16.html -> build/lib/pyrouge/tests/data/systems\n",
            "copying pyrouge/tests/data/systems/SL.P.10.R.22.SL062003-09.html -> build/lib/pyrouge/tests/data/systems\n",
            "copying pyrouge/tests/data/systems/SL.P.10.R.11.SL062003-15.html -> build/lib/pyrouge/tests/data/systems\n",
            "copying pyrouge/tests/data/systems/SL.P.10.R.24.SL062003-21.html -> build/lib/pyrouge/tests/data/systems\n",
            "copying pyrouge/tests/data/systems/SL.P.10.R.21.SL062003-12.html -> build/lib/pyrouge/tests/data/systems\n",
            "copying pyrouge/tests/data/systems/SL.P.10.R.23.SL062003-20.html -> build/lib/pyrouge/tests/data/systems\n",
            "copying pyrouge/tests/data/systems/SL.P.10.R.23.SL062003-23.html -> build/lib/pyrouge/tests/data/systems\n",
            "copying pyrouge/tests/data/systems/SL.P.10.R.22.SL062003-12.html -> build/lib/pyrouge/tests/data/systems\n",
            "copying pyrouge/tests/data/systems/SL.P.10.R.14.SL062003-10.html -> build/lib/pyrouge/tests/data/systems\n",
            "copying pyrouge/tests/data/systems/SL.P.10.R.22.SL062003-03.html -> build/lib/pyrouge/tests/data/systems\n",
            "copying pyrouge/tests/data/systems/SL.P.10.R.12.SL062003-21.html -> build/lib/pyrouge/tests/data/systems\n",
            "copying pyrouge/tests/data/systems/SL.P.10.R.21.SL062003-15.html -> build/lib/pyrouge/tests/data/systems\n",
            "copying pyrouge/tests/data/systems/SL.P.10.R.14.SL062003-12.html -> build/lib/pyrouge/tests/data/systems\n",
            "copying pyrouge/tests/data/systems/SL.P.10.R.12.SL062003-15.html -> build/lib/pyrouge/tests/data/systems\n",
            "copying pyrouge/tests/data/systems/SL.P.10.R.13.SL062003-24.html -> build/lib/pyrouge/tests/data/systems\n",
            "copying pyrouge/tests/data/systems/SL.P.10.R.21.SL062003-13.html -> build/lib/pyrouge/tests/data/systems\n",
            "copying pyrouge/tests/data/systems/SL.P.10.R.11.SL062003-23.html -> build/lib/pyrouge/tests/data/systems\n",
            "creating build/lib/pyrouge/tests/data/systems_plain\n",
            "copying pyrouge/tests/data/systems_plain/D30005.M.100.T.A -> build/lib/pyrouge/tests/data/systems_plain\n",
            "copying pyrouge/tests/data/systems_plain/D30001.M.100.T.A -> build/lib/pyrouge/tests/data/systems_plain\n",
            "copying pyrouge/tests/data/systems_plain/D30002.M.100.T.A -> build/lib/pyrouge/tests/data/systems_plain\n",
            "copying pyrouge/tests/data/systems_plain/D30003.M.100.T.A -> build/lib/pyrouge/tests/data/systems_plain\n",
            "creating build/lib/pyrouge/tests/data/SL2003_models_plain_text\n",
            "copying pyrouge/tests/data/SL2003_models_plain_text/SL.P.10.R.A.SL062003-06.html -> build/lib/pyrouge/tests/data/SL2003_models_plain_text\n",
            "copying pyrouge/tests/data/SL2003_models_plain_text/SL.P.10.R.A.SL062003-18.html -> build/lib/pyrouge/tests/data/SL2003_models_plain_text\n",
            "copying pyrouge/tests/data/SL2003_models_plain_text/SL.P.10.R.A.SL062003-12.html -> build/lib/pyrouge/tests/data/SL2003_models_plain_text\n",
            "copying pyrouge/tests/data/SL2003_models_plain_text/SL.P.10.R.A.SL062003-24.html -> build/lib/pyrouge/tests/data/SL2003_models_plain_text\n",
            "copying pyrouge/tests/data/SL2003_models_plain_text/SL.P.10.R.A.SL062003-07.html -> build/lib/pyrouge/tests/data/SL2003_models_plain_text\n",
            "copying pyrouge/tests/data/SL2003_models_plain_text/SL.P.10.R.A.SL062003-09.html -> build/lib/pyrouge/tests/data/SL2003_models_plain_text\n",
            "copying pyrouge/tests/data/SL2003_models_plain_text/SL.P.10.R.A.SL062003-15.html -> build/lib/pyrouge/tests/data/SL2003_models_plain_text\n",
            "copying pyrouge/tests/data/SL2003_models_plain_text/SL.P.10.R.A.SL062003-05.html -> build/lib/pyrouge/tests/data/SL2003_models_plain_text\n",
            "copying pyrouge/tests/data/SL2003_models_plain_text/SL.P.10.R.A.SL062003-20.html -> build/lib/pyrouge/tests/data/SL2003_models_plain_text\n",
            "copying pyrouge/tests/data/SL2003_models_plain_text/SL.P.10.R.A.SL062003-11.html -> build/lib/pyrouge/tests/data/SL2003_models_plain_text\n",
            "copying pyrouge/tests/data/SL2003_models_plain_text/SL.P.10.R.A.SL062003-21.html -> build/lib/pyrouge/tests/data/SL2003_models_plain_text\n",
            "copying pyrouge/tests/data/SL2003_models_plain_text/SL.P.10.R.A.SL062003-25.html -> build/lib/pyrouge/tests/data/SL2003_models_plain_text\n",
            "copying pyrouge/tests/data/SL2003_models_plain_text/SL.P.10.R.A.SL062003-01.html -> build/lib/pyrouge/tests/data/SL2003_models_plain_text\n",
            "copying pyrouge/tests/data/SL2003_models_plain_text/SL.P.10.R.A.SL062003-14.html -> build/lib/pyrouge/tests/data/SL2003_models_plain_text\n",
            "copying pyrouge/tests/data/SL2003_models_plain_text/SL.P.10.R.A.SL062003-17.html -> build/lib/pyrouge/tests/data/SL2003_models_plain_text\n",
            "copying pyrouge/tests/data/SL2003_models_plain_text/SL.P.10.R.A.SL062003-13.html -> build/lib/pyrouge/tests/data/SL2003_models_plain_text\n",
            "copying pyrouge/tests/data/SL2003_models_plain_text/SL.P.10.R.A.SL062003-04.html -> build/lib/pyrouge/tests/data/SL2003_models_plain_text\n",
            "copying pyrouge/tests/data/SL2003_models_plain_text/SL.P.10.R.A.SL062003-19.html -> build/lib/pyrouge/tests/data/SL2003_models_plain_text\n",
            "copying pyrouge/tests/data/SL2003_models_plain_text/SL.P.10.R.A.SL062003-10.html -> build/lib/pyrouge/tests/data/SL2003_models_plain_text\n",
            "copying pyrouge/tests/data/SL2003_models_plain_text/SL.P.10.R.A.SL062003-03.html -> build/lib/pyrouge/tests/data/SL2003_models_plain_text\n",
            "copying pyrouge/tests/data/SL2003_models_plain_text/SL.P.10.R.A.SL062003-22.html -> build/lib/pyrouge/tests/data/SL2003_models_plain_text\n",
            "copying pyrouge/tests/data/SL2003_models_plain_text/SL.P.10.R.A.SL062003-23.html -> build/lib/pyrouge/tests/data/SL2003_models_plain_text\n",
            "copying pyrouge/tests/data/SL2003_models_plain_text/SL.P.10.R.A.SL062003-02.html -> build/lib/pyrouge/tests/data/SL2003_models_plain_text\n",
            "copying pyrouge/tests/data/SL2003_models_plain_text/SL.P.10.R.A.SL062003-16.html -> build/lib/pyrouge/tests/data/SL2003_models_plain_text\n",
            "copying pyrouge/tests/data/SL2003_models_plain_text/SL.P.10.R.A.SL062003-08.html -> build/lib/pyrouge/tests/data/SL2003_models_plain_text\n",
            "creating build/lib/pyrouge/tests/data/models\n",
            "copying pyrouge/tests/data/models/SL.P.10.R.C.SL062003-09.html -> build/lib/pyrouge/tests/data/models\n",
            "copying pyrouge/tests/data/models/SL.P.10.R.B.SL062003-16.html -> build/lib/pyrouge/tests/data/models\n",
            "copying pyrouge/tests/data/models/SL.P.10.R.A.SL062003-06.html -> build/lib/pyrouge/tests/data/models\n",
            "copying pyrouge/tests/data/models/SL.P.10.R.D.SL062003-24.html -> build/lib/pyrouge/tests/data/models\n",
            "copying pyrouge/tests/data/models/SL.P.10.R.A.SL062003-18.html -> build/lib/pyrouge/tests/data/models\n",
            "copying pyrouge/tests/data/models/SL.P.10.R.D.SL062003-18.html -> build/lib/pyrouge/tests/data/models\n",
            "copying pyrouge/tests/data/models/SL.P.10.R.B.SL062003-12.html -> build/lib/pyrouge/tests/data/models\n",
            "copying pyrouge/tests/data/models/SL.P.10.R.C.SL062003-11.html -> build/lib/pyrouge/tests/data/models\n",
            "copying pyrouge/tests/data/models/SL.P.10.R.B.SL062003-14.html -> build/lib/pyrouge/tests/data/models\n",
            "copying pyrouge/tests/data/models/SL.P.10.R.C.SL062003-14.html -> build/lib/pyrouge/tests/data/models\n",
            "copying pyrouge/tests/data/models/SL.P.10.R.D.SL062003-21.html -> build/lib/pyrouge/tests/data/models\n",
            "copying pyrouge/tests/data/models/SL.P.10.R.A.SL062003-12.html -> build/lib/pyrouge/tests/data/models\n",
            "copying pyrouge/tests/data/models/SL.P.10.R.B.SL062003-03.html -> build/lib/pyrouge/tests/data/models\n",
            "copying pyrouge/tests/data/models/SL.P.10.R.D.SL062003-08.html -> build/lib/pyrouge/tests/data/models\n",
            "copying pyrouge/tests/data/models/SL.P.10.R.C.SL062003-20.html -> build/lib/pyrouge/tests/data/models\n",
            "copying pyrouge/tests/data/models/SL.P.10.R.D.SL062003-16.html -> build/lib/pyrouge/tests/data/models\n",
            "copying pyrouge/tests/data/models/SL.P.10.R.A.SL062003-24.html -> build/lib/pyrouge/tests/data/models\n",
            "copying pyrouge/tests/data/models/SL.P.10.R.C.SL062003-03.html -> build/lib/pyrouge/tests/data/models\n",
            "copying pyrouge/tests/data/models/SL.P.10.R.B.SL062003-05.html -> build/lib/pyrouge/tests/data/models\n",
            "copying pyrouge/tests/data/models/SL.P.10.R.A.SL062003-07.html -> build/lib/pyrouge/tests/data/models\n",
            "copying pyrouge/tests/data/models/SL.P.10.R.D.SL062003-10.html -> build/lib/pyrouge/tests/data/models\n",
            "copying pyrouge/tests/data/models/SL.P.10.R.B.SL062003-24.html -> build/lib/pyrouge/tests/data/models\n",
            "copying pyrouge/tests/data/models/SL.P.10.R.C.SL062003-01.html -> build/lib/pyrouge/tests/data/models\n",
            "copying pyrouge/tests/data/models/SL.P.10.R.D.SL062003-15.html -> build/lib/pyrouge/tests/data/models\n",
            "copying pyrouge/tests/data/models/SL.P.10.R.C.SL062003-16.html -> build/lib/pyrouge/tests/data/models\n",
            "copying pyrouge/tests/data/models/SL.P.10.R.B.SL062003-20.html -> build/lib/pyrouge/tests/data/models\n",
            "copying pyrouge/tests/data/models/SL.P.10.R.A.SL062003-09.html -> build/lib/pyrouge/tests/data/models\n",
            "copying pyrouge/tests/data/models/SL.P.10.R.D.SL062003-14.html -> build/lib/pyrouge/tests/data/models\n",
            "copying pyrouge/tests/data/models/SL.P.10.R.D.SL062003-11.html -> build/lib/pyrouge/tests/data/models\n",
            "copying pyrouge/tests/data/models/SL.P.10.R.A.SL062003-15.html -> build/lib/pyrouge/tests/data/models\n",
            "copying pyrouge/tests/data/models/SL.P.10.R.D.SL062003-22.html -> build/lib/pyrouge/tests/data/models\n",
            "copying pyrouge/tests/data/models/SL.P.10.R.B.SL062003-10.html -> build/lib/pyrouge/tests/data/models\n",
            "copying pyrouge/tests/data/models/SL.P.10.R.D.SL062003-02.html -> build/lib/pyrouge/tests/data/models\n",
            "copying pyrouge/tests/data/models/SL.P.10.R.B.SL062003-01.html -> build/lib/pyrouge/tests/data/models\n",
            "copying pyrouge/tests/data/models/SL.P.10.R.D.SL062003-03.html -> build/lib/pyrouge/tests/data/models\n",
            "copying pyrouge/tests/data/models/SL.P.10.R.A.SL062003-05.html -> build/lib/pyrouge/tests/data/models\n",
            "copying pyrouge/tests/data/models/SL.P.10.R.A.SL062003-20.html -> build/lib/pyrouge/tests/data/models\n",
            "copying pyrouge/tests/data/models/SL.P.10.R.B.SL062003-06.html -> build/lib/pyrouge/tests/data/models\n",
            "copying pyrouge/tests/data/models/SL.P.10.R.C.SL062003-02.html -> build/lib/pyrouge/tests/data/models\n",
            "copying pyrouge/tests/data/models/SL.P.10.R.A.SL062003-11.html -> build/lib/pyrouge/tests/data/models\n",
            "copying pyrouge/tests/data/models/SL.P.10.R.B.SL062003-17.html -> build/lib/pyrouge/tests/data/models\n",
            "copying pyrouge/tests/data/models/SL.P.10.R.A.SL062003-21.html -> build/lib/pyrouge/tests/data/models\n",
            "copying pyrouge/tests/data/models/SL.P.10.R.D.SL062003-01.html -> build/lib/pyrouge/tests/data/models\n",
            "copying pyrouge/tests/data/models/SL.P.10.R.A.SL062003-25.html -> build/lib/pyrouge/tests/data/models\n",
            "copying pyrouge/tests/data/models/SL.P.10.R.B.SL062003-18.html -> build/lib/pyrouge/tests/data/models\n",
            "copying pyrouge/tests/data/models/SL.P.10.R.C.SL062003-06.html -> build/lib/pyrouge/tests/data/models\n",
            "copying pyrouge/tests/data/models/SL.P.10.R.D.SL062003-09.html -> build/lib/pyrouge/tests/data/models\n",
            "copying pyrouge/tests/data/models/SL.P.10.R.B.SL062003-02.html -> build/lib/pyrouge/tests/data/models\n",
            "copying pyrouge/tests/data/models/SL.P.10.R.D.SL062003-06.html -> build/lib/pyrouge/tests/data/models\n",
            "copying pyrouge/tests/data/models/SL.P.10.R.A.SL062003-01.html -> build/lib/pyrouge/tests/data/models\n",
            "copying pyrouge/tests/data/models/SL.P.10.R.C.SL062003-19.html -> build/lib/pyrouge/tests/data/models\n",
            "copying pyrouge/tests/data/models/SL.P.10.R.A.SL062003-14.html -> build/lib/pyrouge/tests/data/models\n",
            "copying pyrouge/tests/data/models/SL.P.10.R.D.SL062003-25.html -> build/lib/pyrouge/tests/data/models\n",
            "copying pyrouge/tests/data/models/SL.P.10.R.C.SL062003-25.html -> build/lib/pyrouge/tests/data/models\n",
            "copying pyrouge/tests/data/models/SL.P.10.R.B.SL062003-09.html -> build/lib/pyrouge/tests/data/models\n",
            "copying pyrouge/tests/data/models/SL.P.10.R.D.SL062003-12.html -> build/lib/pyrouge/tests/data/models\n",
            "copying pyrouge/tests/data/models/SL.P.10.R.C.SL062003-18.html -> build/lib/pyrouge/tests/data/models\n",
            "copying pyrouge/tests/data/models/SL.P.10.R.A.SL062003-17.html -> build/lib/pyrouge/tests/data/models\n",
            "copying pyrouge/tests/data/models/SL.P.10.R.C.SL062003-21.html -> build/lib/pyrouge/tests/data/models\n",
            "copying pyrouge/tests/data/models/SL.P.10.R.C.SL062003-15.html -> build/lib/pyrouge/tests/data/models\n",
            "copying pyrouge/tests/data/models/SL.P.10.R.C.SL062003-10.html -> build/lib/pyrouge/tests/data/models\n",
            "copying pyrouge/tests/data/models/SL.P.10.R.B.SL062003-19.html -> build/lib/pyrouge/tests/data/models\n",
            "copying pyrouge/tests/data/models/SL.P.10.R.D.SL062003-04.html -> build/lib/pyrouge/tests/data/models\n",
            "copying pyrouge/tests/data/models/SL.P.10.R.B.SL062003-25.html -> build/lib/pyrouge/tests/data/models\n",
            "copying pyrouge/tests/data/models/SL.P.10.R.B.SL062003-23.html -> build/lib/pyrouge/tests/data/models\n",
            "copying pyrouge/tests/data/models/SL.P.10.R.D.SL062003-13.html -> build/lib/pyrouge/tests/data/models\n",
            "copying pyrouge/tests/data/models/SL.P.10.R.A.SL062003-13.html -> build/lib/pyrouge/tests/data/models\n",
            "copying pyrouge/tests/data/models/SL.P.10.R.C.SL062003-24.html -> build/lib/pyrouge/tests/data/models\n",
            "copying pyrouge/tests/data/models/SL.P.10.R.A.SL062003-04.html -> build/lib/pyrouge/tests/data/models\n",
            "copying pyrouge/tests/data/models/SL.P.10.R.A.SL062003-19.html -> build/lib/pyrouge/tests/data/models\n",
            "copying pyrouge/tests/data/models/SL.P.10.R.C.SL062003-12.html -> build/lib/pyrouge/tests/data/models\n",
            "copying pyrouge/tests/data/models/SL.P.10.R.B.SL062003-08.html -> build/lib/pyrouge/tests/data/models\n",
            "copying pyrouge/tests/data/models/SL.P.10.R.D.SL062003-19.html -> build/lib/pyrouge/tests/data/models\n",
            "copying pyrouge/tests/data/models/SL.P.10.R.B.SL062003-22.html -> build/lib/pyrouge/tests/data/models\n",
            "copying pyrouge/tests/data/models/SL.P.10.R.B.SL062003-15.html -> build/lib/pyrouge/tests/data/models\n",
            "copying pyrouge/tests/data/models/SL.P.10.R.C.SL062003-22.html -> build/lib/pyrouge/tests/data/models\n",
            "copying pyrouge/tests/data/models/SL.P.10.R.B.SL062003-21.html -> build/lib/pyrouge/tests/data/models\n",
            "copying pyrouge/tests/data/models/SL.P.10.R.D.SL062003-07.html -> build/lib/pyrouge/tests/data/models\n",
            "copying pyrouge/tests/data/models/SL.P.10.R.B.SL062003-04.html -> build/lib/pyrouge/tests/data/models\n",
            "copying pyrouge/tests/data/models/SL.P.10.R.C.SL062003-13.html -> build/lib/pyrouge/tests/data/models\n",
            "copying pyrouge/tests/data/models/SL.P.10.R.C.SL062003-05.html -> build/lib/pyrouge/tests/data/models\n",
            "copying pyrouge/tests/data/models/SL.P.10.R.A.SL062003-10.html -> build/lib/pyrouge/tests/data/models\n",
            "copying pyrouge/tests/data/models/SL.P.10.R.B.SL062003-11.html -> build/lib/pyrouge/tests/data/models\n",
            "copying pyrouge/tests/data/models/SL.P.10.R.C.SL062003-08.html -> build/lib/pyrouge/tests/data/models\n",
            "copying pyrouge/tests/data/models/SL.P.10.R.A.SL062003-03.html -> build/lib/pyrouge/tests/data/models\n",
            "copying pyrouge/tests/data/models/SL.P.10.R.D.SL062003-20.html -> build/lib/pyrouge/tests/data/models\n",
            "copying pyrouge/tests/data/models/SL.P.10.R.A.SL062003-22.html -> build/lib/pyrouge/tests/data/models\n",
            "copying pyrouge/tests/data/models/SL.P.10.R.A.SL062003-23.html -> build/lib/pyrouge/tests/data/models\n",
            "copying pyrouge/tests/data/models/SL.P.10.R.C.SL062003-17.html -> build/lib/pyrouge/tests/data/models\n",
            "copying pyrouge/tests/data/models/SL.P.10.R.D.SL062003-23.html -> build/lib/pyrouge/tests/data/models\n",
            "copying pyrouge/tests/data/models/SL.P.10.R.C.SL062003-23.html -> build/lib/pyrouge/tests/data/models\n",
            "copying pyrouge/tests/data/models/SL.P.10.R.D.SL062003-17.html -> build/lib/pyrouge/tests/data/models\n",
            "copying pyrouge/tests/data/models/SL.P.10.R.A.SL062003-02.html -> build/lib/pyrouge/tests/data/models\n",
            "copying pyrouge/tests/data/models/SL.P.10.R.B.SL062003-07.html -> build/lib/pyrouge/tests/data/models\n",
            "copying pyrouge/tests/data/models/SL.P.10.R.A.SL062003-16.html -> build/lib/pyrouge/tests/data/models\n",
            "copying pyrouge/tests/data/models/SL.P.10.R.B.SL062003-13.html -> build/lib/pyrouge/tests/data/models\n",
            "copying pyrouge/tests/data/models/SL.P.10.R.C.SL062003-04.html -> build/lib/pyrouge/tests/data/models\n",
            "copying pyrouge/tests/data/models/SL.P.10.R.A.SL062003-08.html -> build/lib/pyrouge/tests/data/models\n",
            "copying pyrouge/tests/data/models/SL.P.10.R.D.SL062003-05.html -> build/lib/pyrouge/tests/data/models\n",
            "copying pyrouge/tests/data/models/SL.P.10.R.C.SL062003-07.html -> build/lib/pyrouge/tests/data/models\n",
            "creating build/lib/pyrouge/tests/data/systems2\n",
            "copying pyrouge/tests/data/systems2/D30005.M.100.T.A -> build/lib/pyrouge/tests/data/systems2\n",
            "copying pyrouge/tests/data/systems2/D30001.M.100.T.A -> build/lib/pyrouge/tests/data/systems2\n",
            "copying pyrouge/tests/data/systems2/D30002.M.100.T.A -> build/lib/pyrouge/tests/data/systems2\n",
            "copying pyrouge/tests/data/systems2/D30003.M.100.T.A -> build/lib/pyrouge/tests/data/systems2\n",
            "creating build/lib/pyrouge/tests/data/SL2003_models_rouge_format\n",
            "copying pyrouge/tests/data/SL2003_models_rouge_format/SL.P.10.R.A.SL062003-06.html -> build/lib/pyrouge/tests/data/SL2003_models_rouge_format\n",
            "copying pyrouge/tests/data/SL2003_models_rouge_format/SL.P.10.R.A.SL062003-18.html -> build/lib/pyrouge/tests/data/SL2003_models_rouge_format\n",
            "copying pyrouge/tests/data/SL2003_models_rouge_format/SL.P.10.R.A.SL062003-12.html -> build/lib/pyrouge/tests/data/SL2003_models_rouge_format\n",
            "copying pyrouge/tests/data/SL2003_models_rouge_format/SL.P.10.R.A.SL062003-24.html -> build/lib/pyrouge/tests/data/SL2003_models_rouge_format\n",
            "copying pyrouge/tests/data/SL2003_models_rouge_format/SL.P.10.R.A.SL062003-07.html -> build/lib/pyrouge/tests/data/SL2003_models_rouge_format\n",
            "copying pyrouge/tests/data/SL2003_models_rouge_format/SL.P.10.R.A.SL062003-09.html -> build/lib/pyrouge/tests/data/SL2003_models_rouge_format\n",
            "copying pyrouge/tests/data/SL2003_models_rouge_format/SL.P.10.R.A.SL062003-15.html -> build/lib/pyrouge/tests/data/SL2003_models_rouge_format\n",
            "copying pyrouge/tests/data/SL2003_models_rouge_format/SL.P.10.R.A.SL062003-05.html -> build/lib/pyrouge/tests/data/SL2003_models_rouge_format\n",
            "copying pyrouge/tests/data/SL2003_models_rouge_format/SL.P.10.R.A.SL062003-20.html -> build/lib/pyrouge/tests/data/SL2003_models_rouge_format\n",
            "copying pyrouge/tests/data/SL2003_models_rouge_format/SL.P.10.R.A.SL062003-11.html -> build/lib/pyrouge/tests/data/SL2003_models_rouge_format\n",
            "copying pyrouge/tests/data/SL2003_models_rouge_format/SL.P.10.R.A.SL062003-21.html -> build/lib/pyrouge/tests/data/SL2003_models_rouge_format\n",
            "copying pyrouge/tests/data/SL2003_models_rouge_format/SL.P.10.R.A.SL062003-25.html -> build/lib/pyrouge/tests/data/SL2003_models_rouge_format\n",
            "copying pyrouge/tests/data/SL2003_models_rouge_format/SL.P.10.R.A.SL062003-01.html -> build/lib/pyrouge/tests/data/SL2003_models_rouge_format\n",
            "copying pyrouge/tests/data/SL2003_models_rouge_format/SL.P.10.R.A.SL062003-14.html -> build/lib/pyrouge/tests/data/SL2003_models_rouge_format\n",
            "copying pyrouge/tests/data/SL2003_models_rouge_format/SL.P.10.R.A.SL062003-17.html -> build/lib/pyrouge/tests/data/SL2003_models_rouge_format\n",
            "copying pyrouge/tests/data/SL2003_models_rouge_format/SL.P.10.R.A.SL062003-13.html -> build/lib/pyrouge/tests/data/SL2003_models_rouge_format\n",
            "copying pyrouge/tests/data/SL2003_models_rouge_format/SL.P.10.R.A.SL062003-04.html -> build/lib/pyrouge/tests/data/SL2003_models_rouge_format\n",
            "copying pyrouge/tests/data/SL2003_models_rouge_format/SL.P.10.R.A.SL062003-19.html -> build/lib/pyrouge/tests/data/SL2003_models_rouge_format\n",
            "copying pyrouge/tests/data/SL2003_models_rouge_format/SL.P.10.R.A.SL062003-10.html -> build/lib/pyrouge/tests/data/SL2003_models_rouge_format\n",
            "copying pyrouge/tests/data/SL2003_models_rouge_format/SL.P.10.R.A.SL062003-03.html -> build/lib/pyrouge/tests/data/SL2003_models_rouge_format\n",
            "copying pyrouge/tests/data/SL2003_models_rouge_format/SL.P.10.R.A.SL062003-22.html -> build/lib/pyrouge/tests/data/SL2003_models_rouge_format\n",
            "copying pyrouge/tests/data/SL2003_models_rouge_format/SL.P.10.R.A.SL062003-23.html -> build/lib/pyrouge/tests/data/SL2003_models_rouge_format\n",
            "copying pyrouge/tests/data/SL2003_models_rouge_format/SL.P.10.R.A.SL062003-02.html -> build/lib/pyrouge/tests/data/SL2003_models_rouge_format\n",
            "copying pyrouge/tests/data/SL2003_models_rouge_format/SL.P.10.R.A.SL062003-16.html -> build/lib/pyrouge/tests/data/SL2003_models_rouge_format\n",
            "copying pyrouge/tests/data/SL2003_models_rouge_format/SL.P.10.R.A.SL062003-08.html -> build/lib/pyrouge/tests/data/SL2003_models_rouge_format\n",
            "creating build/lib/pyrouge/tests/data/models_plain\n",
            "copying pyrouge/tests/data/models_plain/D30002.M.100.T.B -> build/lib/pyrouge/tests/data/models_plain\n",
            "copying pyrouge/tests/data/models_plain/D30001.M.100.T.C -> build/lib/pyrouge/tests/data/models_plain\n",
            "copying pyrouge/tests/data/models_plain/D30001.M.100.T.D -> build/lib/pyrouge/tests/data/models_plain\n",
            "copying pyrouge/tests/data/models_plain/D30003.M.100.T.F -> build/lib/pyrouge/tests/data/models_plain\n",
            "copying pyrouge/tests/data/models_plain/D30005.M.100.T.B -> build/lib/pyrouge/tests/data/models_plain\n",
            "copying pyrouge/tests/data/models_plain/D30001.M.100.T.B -> build/lib/pyrouge/tests/data/models_plain\n",
            "copying pyrouge/tests/data/models_plain/D30003.M.100.T.C -> build/lib/pyrouge/tests/data/models_plain\n",
            "copying pyrouge/tests/data/models_plain/D30003.M.100.T.B -> build/lib/pyrouge/tests/data/models_plain\n",
            "copying pyrouge/tests/data/models_plain/D30005.M.100.T.C -> build/lib/pyrouge/tests/data/models_plain\n",
            "copying pyrouge/tests/data/models_plain/D30002.M.100.T.C -> build/lib/pyrouge/tests/data/models_plain\n",
            "copying pyrouge/tests/data/models_plain/D30005.M.100.T.G -> build/lib/pyrouge/tests/data/models_plain\n",
            "copying pyrouge/tests/data/models_plain/D30002.M.100.T.E -> build/lib/pyrouge/tests/data/models_plain\n",
            "creating build/lib/pyrouge/tests/data/m\n",
            "copying pyrouge/tests/data/m/D30002.M.100.T.B -> build/lib/pyrouge/tests/data/m\n",
            "copying pyrouge/tests/data/m/D30001.M.100.T.C -> build/lib/pyrouge/tests/data/m\n",
            "copying pyrouge/tests/data/m/D30001.M.100.T.D -> build/lib/pyrouge/tests/data/m\n",
            "copying pyrouge/tests/data/m/D30003.M.100.T.F -> build/lib/pyrouge/tests/data/m\n",
            "copying pyrouge/tests/data/m/D30005.M.100.T.B -> build/lib/pyrouge/tests/data/m\n",
            "copying pyrouge/tests/data/m/D30001.M.100.T.B -> build/lib/pyrouge/tests/data/m\n",
            "copying pyrouge/tests/data/m/D30003.M.100.T.C -> build/lib/pyrouge/tests/data/m\n",
            "copying pyrouge/tests/data/m/D30003.M.100.T.B -> build/lib/pyrouge/tests/data/m\n",
            "copying pyrouge/tests/data/m/D30005.M.100.T.C -> build/lib/pyrouge/tests/data/m\n",
            "copying pyrouge/tests/data/m/D30002.M.100.T.C -> build/lib/pyrouge/tests/data/m\n",
            "copying pyrouge/tests/data/m/D30005.M.100.T.G -> build/lib/pyrouge/tests/data/m\n",
            "copying pyrouge/tests/data/m/D30002.M.100.T.E -> build/lib/pyrouge/tests/data/m\n",
            "creating build/bdist.linux-x86_64\n",
            "creating build/bdist.linux-x86_64/egg\n",
            "creating build/bdist.linux-x86_64/egg/pyrouge\n",
            "copying build/lib/pyrouge/test.py -> build/bdist.linux-x86_64/egg/pyrouge\n",
            "creating build/bdist.linux-x86_64/egg/pyrouge/utils\n",
            "copying build/lib/pyrouge/utils/argparsers.py -> build/bdist.linux-x86_64/egg/pyrouge/utils\n",
            "copying build/lib/pyrouge/utils/__init__.py -> build/bdist.linux-x86_64/egg/pyrouge/utils\n",
            "copying build/lib/pyrouge/utils/file_utils.py -> build/bdist.linux-x86_64/egg/pyrouge/utils\n",
            "copying build/lib/pyrouge/utils/sentence_splitter.py -> build/bdist.linux-x86_64/egg/pyrouge/utils\n",
            "copying build/lib/pyrouge/utils/log.py -> build/bdist.linux-x86_64/egg/pyrouge/utils\n",
            "copying build/lib/pyrouge/utils/string_utils.py -> build/bdist.linux-x86_64/egg/pyrouge/utils\n",
            "copying build/lib/pyrouge/__init__.py -> build/bdist.linux-x86_64/egg/pyrouge\n",
            "copying build/lib/pyrouge/Rouge155.py -> build/bdist.linux-x86_64/egg/pyrouge\n",
            "creating build/bdist.linux-x86_64/egg/pyrouge/tests\n",
            "copying build/lib/pyrouge/tests/Rouge155_test.py -> build/bdist.linux-x86_64/egg/pyrouge/tests\n",
            "creating build/bdist.linux-x86_64/egg/pyrouge/tests/data\n",
            "copying build/lib/pyrouge/tests/data/config_test2.xml -> build/bdist.linux-x86_64/egg/pyrouge/tests/data\n",
            "creating build/bdist.linux-x86_64/egg/pyrouge/tests/data/models2\n",
            "copying build/lib/pyrouge/tests/data/models2/D30002.M.100.T.B -> build/bdist.linux-x86_64/egg/pyrouge/tests/data/models2\n",
            "copying build/lib/pyrouge/tests/data/models2/D30001.M.100.T.C -> build/bdist.linux-x86_64/egg/pyrouge/tests/data/models2\n",
            "copying build/lib/pyrouge/tests/data/models2/D30001.M.100.T.D -> build/bdist.linux-x86_64/egg/pyrouge/tests/data/models2\n",
            "copying build/lib/pyrouge/tests/data/models2/D30003.M.100.T.F -> build/bdist.linux-x86_64/egg/pyrouge/tests/data/models2\n",
            "copying build/lib/pyrouge/tests/data/models2/D30005.M.100.T.B -> build/bdist.linux-x86_64/egg/pyrouge/tests/data/models2\n",
            "copying build/lib/pyrouge/tests/data/models2/D30001.M.100.T.B -> build/bdist.linux-x86_64/egg/pyrouge/tests/data/models2\n",
            "copying build/lib/pyrouge/tests/data/models2/D30003.M.100.T.C -> build/bdist.linux-x86_64/egg/pyrouge/tests/data/models2\n",
            "copying build/lib/pyrouge/tests/data/models2/D30003.M.100.T.B -> build/bdist.linux-x86_64/egg/pyrouge/tests/data/models2\n",
            "copying build/lib/pyrouge/tests/data/models2/D30005.M.100.T.C -> build/bdist.linux-x86_64/egg/pyrouge/tests/data/models2\n",
            "copying build/lib/pyrouge/tests/data/models2/D30002.M.100.T.C -> build/bdist.linux-x86_64/egg/pyrouge/tests/data/models2\n",
            "copying build/lib/pyrouge/tests/data/models2/D30005.M.100.T.G -> build/bdist.linux-x86_64/egg/pyrouge/tests/data/models2\n",
            "copying build/lib/pyrouge/tests/data/models2/D30002.M.100.T.E -> build/bdist.linux-x86_64/egg/pyrouge/tests/data/models2\n",
            "copying build/lib/pyrouge/tests/data/spl_test_doc -> build/bdist.linux-x86_64/egg/pyrouge/tests/data\n",
            "creating build/bdist.linux-x86_64/egg/pyrouge/tests/data/systems\n",
            "copying build/lib/pyrouge/tests/data/systems/SL.P.10.R.12.SL062003-03.html -> build/bdist.linux-x86_64/egg/pyrouge/tests/data/systems\n",
            "copying build/lib/pyrouge/tests/data/systems/SL.P.10.R.14.SL062003-15.html -> build/bdist.linux-x86_64/egg/pyrouge/tests/data/systems\n",
            "copying build/lib/pyrouge/tests/data/systems/SL.P.10.R.21.SL062003-20.html -> build/bdist.linux-x86_64/egg/pyrouge/tests/data/systems\n",
            "copying build/lib/pyrouge/tests/data/systems/SL.P.10.R.24.SL062003-09.html -> build/bdist.linux-x86_64/egg/pyrouge/tests/data/systems\n",
            "copying build/lib/pyrouge/tests/data/systems/SL.P.10.R.14.SL062003-13.html -> build/bdist.linux-x86_64/egg/pyrouge/tests/data/systems\n",
            "copying build/lib/pyrouge/tests/data/systems/SL.P.10.R.12.SL062003-19.html -> build/bdist.linux-x86_64/egg/pyrouge/tests/data/systems\n",
            "copying build/lib/pyrouge/tests/data/systems/SL.P.10.R.22.SL062003-01.html -> build/bdist.linux-x86_64/egg/pyrouge/tests/data/systems\n",
            "copying build/lib/pyrouge/tests/data/systems/SL.P.10.R.21.SL062003-04.html -> build/bdist.linux-x86_64/egg/pyrouge/tests/data/systems\n",
            "copying build/lib/pyrouge/tests/data/systems/SL.P.10.R.24.SL062003-19.html -> build/bdist.linux-x86_64/egg/pyrouge/tests/data/systems\n",
            "copying build/lib/pyrouge/tests/data/systems/SL.P.10.R.11.SL062003-19.html -> build/bdist.linux-x86_64/egg/pyrouge/tests/data/systems\n",
            "copying build/lib/pyrouge/tests/data/systems/SL.P.10.R.24.SL062003-22.html -> build/bdist.linux-x86_64/egg/pyrouge/tests/data/systems\n",
            "copying build/lib/pyrouge/tests/data/systems/SL.P.10.R.13.SL062003-17.html -> build/bdist.linux-x86_64/egg/pyrouge/tests/data/systems\n",
            "copying build/lib/pyrouge/tests/data/systems/SL.P.10.R.11.SL062003-12.html -> build/bdist.linux-x86_64/egg/pyrouge/tests/data/systems\n",
            "copying build/lib/pyrouge/tests/data/systems/SL.P.10.R.11.SL062003-01.html -> build/bdist.linux-x86_64/egg/pyrouge/tests/data/systems\n",
            "copying build/lib/pyrouge/tests/data/systems/SL.P.10.R.23.SL062003-03.html -> build/bdist.linux-x86_64/egg/pyrouge/tests/data/systems\n",
            "copying build/lib/pyrouge/tests/data/systems/SL.P.10.R.24.SL062003-24.html -> build/bdist.linux-x86_64/egg/pyrouge/tests/data/systems\n",
            "copying build/lib/pyrouge/tests/data/systems/SL.P.10.R.11.SL062003-04.html -> build/bdist.linux-x86_64/egg/pyrouge/tests/data/systems\n",
            "copying build/lib/pyrouge/tests/data/systems/SL.P.10.R.14.SL062003-22.html -> build/bdist.linux-x86_64/egg/pyrouge/tests/data/systems\n",
            "copying build/lib/pyrouge/tests/data/systems/SL.P.10.R.21.SL062003-10.html -> build/bdist.linux-x86_64/egg/pyrouge/tests/data/systems\n",
            "copying build/lib/pyrouge/tests/data/systems/SL.P.10.R.23.SL062003-16.html -> build/bdist.linux-x86_64/egg/pyrouge/tests/data/systems\n",
            "copying build/lib/pyrouge/tests/data/systems/SL.P.10.R.11.SL062003-06.html -> build/bdist.linux-x86_64/egg/pyrouge/tests/data/systems\n",
            "copying build/lib/pyrouge/tests/data/systems/SL.P.10.R.11.SL062003-02.html -> build/bdist.linux-x86_64/egg/pyrouge/tests/data/systems\n",
            "copying build/lib/pyrouge/tests/data/systems/SL.P.10.R.24.SL062003-12.html -> build/bdist.linux-x86_64/egg/pyrouge/tests/data/systems\n",
            "copying build/lib/pyrouge/tests/data/systems/SL.P.10.R.22.SL062003-20.html -> build/bdist.linux-x86_64/egg/pyrouge/tests/data/systems\n",
            "copying build/lib/pyrouge/tests/data/systems/SL.P.10.R.13.SL062003-22.html -> build/bdist.linux-x86_64/egg/pyrouge/tests/data/systems\n",
            "copying build/lib/pyrouge/tests/data/systems/SL.P.10.R.14.SL062003-19.html -> build/bdist.linux-x86_64/egg/pyrouge/tests/data/systems\n",
            "copying build/lib/pyrouge/tests/data/systems/SL.P.10.R.12.SL062003-23.html -> build/bdist.linux-x86_64/egg/pyrouge/tests/data/systems\n",
            "copying build/lib/pyrouge/tests/data/systems/SL.P.10.R.23.SL062003-02.html -> build/bdist.linux-x86_64/egg/pyrouge/tests/data/systems\n",
            "copying build/lib/pyrouge/tests/data/systems/SL.P.10.R.13.SL062003-07.html -> build/bdist.linux-x86_64/egg/pyrouge/tests/data/systems\n",
            "copying build/lib/pyrouge/tests/data/systems/SL.P.10.R.22.SL062003-14.html -> build/bdist.linux-x86_64/egg/pyrouge/tests/data/systems\n",
            "copying build/lib/pyrouge/tests/data/systems/SL.P.10.R.22.SL062003-16.html -> build/bdist.linux-x86_64/egg/pyrouge/tests/data/systems\n",
            "copying build/lib/pyrouge/tests/data/systems/SL.P.10.R.14.SL062003-21.html -> build/bdist.linux-x86_64/egg/pyrouge/tests/data/systems\n",
            "copying build/lib/pyrouge/tests/data/systems/SL.P.10.R.12.SL062003-22.html -> build/bdist.linux-x86_64/egg/pyrouge/tests/data/systems\n",
            "copying build/lib/pyrouge/tests/data/systems/SL.P.10.R.12.SL062003-02.html -> build/bdist.linux-x86_64/egg/pyrouge/tests/data/systems\n",
            "copying build/lib/pyrouge/tests/data/systems/SL.P.10.R.14.SL062003-17.html -> build/bdist.linux-x86_64/egg/pyrouge/tests/data/systems\n",
            "copying build/lib/pyrouge/tests/data/systems/SL.P.10.R.14.SL062003-01.html -> build/bdist.linux-x86_64/egg/pyrouge/tests/data/systems\n",
            "copying build/lib/pyrouge/tests/data/systems/SL.P.10.R.24.SL062003-15.html -> build/bdist.linux-x86_64/egg/pyrouge/tests/data/systems\n",
            "copying build/lib/pyrouge/tests/data/systems/SL.P.10.R.23.SL062003-07.html -> build/bdist.linux-x86_64/egg/pyrouge/tests/data/systems\n",
            "copying build/lib/pyrouge/tests/data/systems/SL.P.10.R.13.SL062003-16.html -> build/bdist.linux-x86_64/egg/pyrouge/tests/data/systems\n",
            "copying build/lib/pyrouge/tests/data/systems/SL.P.10.R.12.SL062003-20.html -> build/bdist.linux-x86_64/egg/pyrouge/tests/data/systems\n",
            "copying build/lib/pyrouge/tests/data/systems/SL.P.10.R.23.SL062003-22.html -> build/bdist.linux-x86_64/egg/pyrouge/tests/data/systems\n",
            "copying build/lib/pyrouge/tests/data/systems/SL.P.10.R.24.SL062003-16.html -> build/bdist.linux-x86_64/egg/pyrouge/tests/data/systems\n",
            "copying build/lib/pyrouge/tests/data/systems/SL.P.10.R.23.SL062003-10.html -> build/bdist.linux-x86_64/egg/pyrouge/tests/data/systems\n",
            "copying build/lib/pyrouge/tests/data/systems/SL.P.10.R.13.SL062003-20.html -> build/bdist.linux-x86_64/egg/pyrouge/tests/data/systems\n",
            "copying build/lib/pyrouge/tests/data/systems/SL.P.10.R.13.SL062003-02.html -> build/bdist.linux-x86_64/egg/pyrouge/tests/data/systems\n",
            "copying build/lib/pyrouge/tests/data/systems/SL.P.10.R.11.SL062003-07.html -> build/bdist.linux-x86_64/egg/pyrouge/tests/data/systems\n",
            "copying build/lib/pyrouge/tests/data/systems/SL.P.10.R.24.SL062003-06.html -> build/bdist.linux-x86_64/egg/pyrouge/tests/data/systems\n",
            "copying build/lib/pyrouge/tests/data/systems/SL.P.10.R.21.SL062003-03.html -> build/bdist.linux-x86_64/egg/pyrouge/tests/data/systems\n",
            "copying build/lib/pyrouge/tests/data/systems/SL.P.10.R.14.SL062003-06.html -> build/bdist.linux-x86_64/egg/pyrouge/tests/data/systems\n",
            "copying build/lib/pyrouge/tests/data/systems/SL.P.10.R.21.SL062003-16.html -> build/bdist.linux-x86_64/egg/pyrouge/tests/data/systems\n",
            "copying build/lib/pyrouge/tests/data/systems/SL.P.10.R.22.SL062003-02.html -> build/bdist.linux-x86_64/egg/pyrouge/tests/data/systems\n",
            "copying build/lib/pyrouge/tests/data/systems/SL.P.10.R.24.SL062003-07.html -> build/bdist.linux-x86_64/egg/pyrouge/tests/data/systems\n",
            "copying build/lib/pyrouge/tests/data/systems/SL.P.10.R.12.SL062003-05.html -> build/bdist.linux-x86_64/egg/pyrouge/tests/data/systems\n",
            "copying build/lib/pyrouge/tests/data/systems/SL.P.10.R.24.SL062003-13.html -> build/bdist.linux-x86_64/egg/pyrouge/tests/data/systems\n",
            "copying build/lib/pyrouge/tests/data/systems/SL.P.10.R.14.SL062003-24.html -> build/bdist.linux-x86_64/egg/pyrouge/tests/data/systems\n",
            "copying build/lib/pyrouge/tests/data/systems/SL.P.10.R.11.SL062003-14.html -> build/bdist.linux-x86_64/egg/pyrouge/tests/data/systems\n",
            "copying build/lib/pyrouge/tests/data/systems/SL.P.10.R.23.SL062003-08.html -> build/bdist.linux-x86_64/egg/pyrouge/tests/data/systems\n",
            "copying build/lib/pyrouge/tests/data/systems/SL.P.10.R.22.SL062003-13.html -> build/bdist.linux-x86_64/egg/pyrouge/tests/data/systems\n",
            "copying build/lib/pyrouge/tests/data/systems/SL.P.10.R.23.SL062003-05.html -> build/bdist.linux-x86_64/egg/pyrouge/tests/data/systems\n",
            "copying build/lib/pyrouge/tests/data/systems/SL.P.10.R.24.SL062003-20.html -> build/bdist.linux-x86_64/egg/pyrouge/tests/data/systems\n",
            "copying build/lib/pyrouge/tests/data/systems/SL.P.10.R.21.SL062003-21.html -> build/bdist.linux-x86_64/egg/pyrouge/tests/data/systems\n",
            "copying build/lib/pyrouge/tests/data/systems/SL.P.10.R.12.SL062003-17.html -> build/bdist.linux-x86_64/egg/pyrouge/tests/data/systems\n",
            "copying build/lib/pyrouge/tests/data/systems/SL.P.10.R.13.SL062003-18.html -> build/bdist.linux-x86_64/egg/pyrouge/tests/data/systems\n",
            "copying build/lib/pyrouge/tests/data/systems/SL.P.10.R.11.SL062003-25.html -> build/bdist.linux-x86_64/egg/pyrouge/tests/data/systems\n",
            "copying build/lib/pyrouge/tests/data/systems/SL.P.10.R.23.SL062003-21.html -> build/bdist.linux-x86_64/egg/pyrouge/tests/data/systems\n",
            "copying build/lib/pyrouge/tests/data/systems/SL.P.10.R.21.SL062003-07.html -> build/bdist.linux-x86_64/egg/pyrouge/tests/data/systems\n",
            "copying build/lib/pyrouge/tests/data/systems/SL.P.10.R.11.SL062003-03.html -> build/bdist.linux-x86_64/egg/pyrouge/tests/data/systems\n",
            "copying build/lib/pyrouge/tests/data/systems/SL.P.10.R.12.SL062003-10.html -> build/bdist.linux-x86_64/egg/pyrouge/tests/data/systems\n",
            "copying build/lib/pyrouge/tests/data/systems/SL.P.10.R.22.SL062003-07.html -> build/bdist.linux-x86_64/egg/pyrouge/tests/data/systems\n",
            "copying build/lib/pyrouge/tests/data/systems/SL.P.10.R.23.SL062003-24.html -> build/bdist.linux-x86_64/egg/pyrouge/tests/data/systems\n",
            "copying build/lib/pyrouge/tests/data/systems/SL.P.10.R.21.SL062003-08.html -> build/bdist.linux-x86_64/egg/pyrouge/tests/data/systems\n",
            "copying build/lib/pyrouge/tests/data/systems/SL.P.10.R.12.SL062003-04.html -> build/bdist.linux-x86_64/egg/pyrouge/tests/data/systems\n",
            "copying build/lib/pyrouge/tests/data/systems/SL.P.10.R.14.SL062003-04.html -> build/bdist.linux-x86_64/egg/pyrouge/tests/data/systems\n",
            "copying build/lib/pyrouge/tests/data/systems/SL.P.10.R.13.SL062003-11.html -> build/bdist.linux-x86_64/egg/pyrouge/tests/data/systems\n",
            "copying build/lib/pyrouge/tests/data/systems/SL.P.10.R.12.SL062003-14.html -> build/bdist.linux-x86_64/egg/pyrouge/tests/data/systems\n",
            "copying build/lib/pyrouge/tests/data/systems/SL.P.10.R.13.SL062003-04.html -> build/bdist.linux-x86_64/egg/pyrouge/tests/data/systems\n",
            "copying build/lib/pyrouge/tests/data/systems/SL.P.10.R.22.SL062003-15.html -> build/bdist.linux-x86_64/egg/pyrouge/tests/data/systems\n",
            "copying build/lib/pyrouge/tests/data/systems/SL.P.10.R.21.SL062003-24.html -> build/bdist.linux-x86_64/egg/pyrouge/tests/data/systems\n",
            "copying build/lib/pyrouge/tests/data/systems/SL.P.10.R.24.SL062003-23.html -> build/bdist.linux-x86_64/egg/pyrouge/tests/data/systems\n",
            "copying build/lib/pyrouge/tests/data/systems/SL.P.10.R.12.SL062003-24.html -> build/bdist.linux-x86_64/egg/pyrouge/tests/data/systems\n",
            "copying build/lib/pyrouge/tests/data/systems/SL.P.10.R.21.SL062003-02.html -> build/bdist.linux-x86_64/egg/pyrouge/tests/data/systems\n",
            "copying build/lib/pyrouge/tests/data/systems/SL.P.10.R.21.SL062003-09.html -> build/bdist.linux-x86_64/egg/pyrouge/tests/data/systems\n",
            "copying build/lib/pyrouge/tests/data/systems/SL.P.10.R.23.SL062003-01.html -> build/bdist.linux-x86_64/egg/pyrouge/tests/data/systems\n",
            "copying build/lib/pyrouge/tests/data/systems/SL.P.10.R.11.SL062003-10.html -> build/bdist.linux-x86_64/egg/pyrouge/tests/data/systems\n",
            "copying build/lib/pyrouge/tests/data/systems/SL.P.10.R.12.SL062003-08.html -> build/bdist.linux-x86_64/egg/pyrouge/tests/data/systems\n",
            "copying build/lib/pyrouge/tests/data/systems/SL.P.10.R.11.SL062003-18.html -> build/bdist.linux-x86_64/egg/pyrouge/tests/data/systems\n",
            "copying build/lib/pyrouge/tests/data/systems/SL.P.10.R.22.SL062003-05.html -> build/bdist.linux-x86_64/egg/pyrouge/tests/data/systems\n",
            "copying build/lib/pyrouge/tests/data/systems/SL.P.10.R.14.SL062003-05.html -> build/bdist.linux-x86_64/egg/pyrouge/tests/data/systems\n",
            "copying build/lib/pyrouge/tests/data/systems/SL.P.10.R.23.SL062003-18.html -> build/bdist.linux-x86_64/egg/pyrouge/tests/data/systems\n",
            "copying build/lib/pyrouge/tests/data/systems/SL.P.10.R.14.SL062003-23.html -> build/bdist.linux-x86_64/egg/pyrouge/tests/data/systems\n",
            "copying build/lib/pyrouge/tests/data/systems/SL.P.10.R.13.SL062003-06.html -> build/bdist.linux-x86_64/egg/pyrouge/tests/data/systems\n",
            "copying build/lib/pyrouge/tests/data/systems/SL.P.10.R.21.SL062003-17.html -> build/bdist.linux-x86_64/egg/pyrouge/tests/data/systems\n",
            "copying build/lib/pyrouge/tests/data/systems/SL.P.10.R.14.SL062003-09.html -> build/bdist.linux-x86_64/egg/pyrouge/tests/data/systems\n",
            "copying build/lib/pyrouge/tests/data/systems/SL.P.10.R.14.SL062003-02.html -> build/bdist.linux-x86_64/egg/pyrouge/tests/data/systems\n",
            "copying build/lib/pyrouge/tests/data/systems/SL.P.10.R.24.SL062003-08.html -> build/bdist.linux-x86_64/egg/pyrouge/tests/data/systems\n",
            "copying build/lib/pyrouge/tests/data/systems/SL.P.10.R.11.SL062003-21.html -> build/bdist.linux-x86_64/egg/pyrouge/tests/data/systems\n",
            "copying build/lib/pyrouge/tests/data/systems/SL.P.10.R.23.SL062003-14.html -> build/bdist.linux-x86_64/egg/pyrouge/tests/data/systems\n",
            "copying build/lib/pyrouge/tests/data/systems/SL.P.10.R.23.SL062003-11.html -> build/bdist.linux-x86_64/egg/pyrouge/tests/data/systems\n",
            "copying build/lib/pyrouge/tests/data/systems/SL.P.10.R.13.SL062003-09.html -> build/bdist.linux-x86_64/egg/pyrouge/tests/data/systems\n",
            "copying build/lib/pyrouge/tests/data/systems/SL.P.10.R.24.SL062003-18.html -> build/bdist.linux-x86_64/egg/pyrouge/tests/data/systems\n",
            "copying build/lib/pyrouge/tests/data/systems/SL.P.10.R.11.SL062003-24.html -> build/bdist.linux-x86_64/egg/pyrouge/tests/data/systems\n",
            "copying build/lib/pyrouge/tests/data/systems/SL.P.10.R.21.SL062003-19.html -> build/bdist.linux-x86_64/egg/pyrouge/tests/data/systems\n",
            "copying build/lib/pyrouge/tests/data/systems/SL.P.10.R.24.SL062003-17.html -> build/bdist.linux-x86_64/egg/pyrouge/tests/data/systems\n",
            "copying build/lib/pyrouge/tests/data/systems/SL.P.10.R.22.SL062003-08.html -> build/bdist.linux-x86_64/egg/pyrouge/tests/data/systems\n",
            "copying build/lib/pyrouge/tests/data/systems/SL.P.10.R.13.SL062003-08.html -> build/bdist.linux-x86_64/egg/pyrouge/tests/data/systems\n",
            "copying build/lib/pyrouge/tests/data/systems/SL.P.10.R.11.SL062003-17.html -> build/bdist.linux-x86_64/egg/pyrouge/tests/data/systems\n",
            "copying build/lib/pyrouge/tests/data/systems/SL.P.10.R.13.SL062003-10.html -> build/bdist.linux-x86_64/egg/pyrouge/tests/data/systems\n",
            "copying build/lib/pyrouge/tests/data/systems/SL.P.10.R.13.SL062003-13.html -> build/bdist.linux-x86_64/egg/pyrouge/tests/data/systems\n",
            "copying build/lib/pyrouge/tests/data/systems/SL.P.10.R.21.SL062003-22.html -> build/bdist.linux-x86_64/egg/pyrouge/tests/data/systems\n",
            "copying build/lib/pyrouge/tests/data/systems/SL.P.10.R.13.SL062003-19.html -> build/bdist.linux-x86_64/egg/pyrouge/tests/data/systems\n",
            "copying build/lib/pyrouge/tests/data/systems/SL.P.10.R.22.SL062003-23.html -> build/bdist.linux-x86_64/egg/pyrouge/tests/data/systems\n",
            "copying build/lib/pyrouge/tests/data/systems/SL.P.10.R.23.SL062003-09.html -> build/bdist.linux-x86_64/egg/pyrouge/tests/data/systems\n",
            "copying build/lib/pyrouge/tests/data/systems/SL.P.10.R.13.SL062003-25.html -> build/bdist.linux-x86_64/egg/pyrouge/tests/data/systems\n",
            "copying build/lib/pyrouge/tests/data/systems/SL.P.10.R.13.SL062003-12.html -> build/bdist.linux-x86_64/egg/pyrouge/tests/data/systems\n",
            "copying build/lib/pyrouge/tests/data/systems/SL.P.10.R.12.SL062003-25.html -> build/bdist.linux-x86_64/egg/pyrouge/tests/data/systems\n",
            "copying build/lib/pyrouge/tests/data/systems/SL.P.10.R.14.SL062003-11.html -> build/bdist.linux-x86_64/egg/pyrouge/tests/data/systems\n",
            "copying build/lib/pyrouge/tests/data/systems/SL.P.10.R.24.SL062003-14.html -> build/bdist.linux-x86_64/egg/pyrouge/tests/data/systems\n",
            "copying build/lib/pyrouge/tests/data/systems/SL.P.10.R.14.SL062003-03.html -> build/bdist.linux-x86_64/egg/pyrouge/tests/data/systems\n",
            "copying build/lib/pyrouge/tests/data/systems/SL.P.10.R.24.SL062003-02.html -> build/bdist.linux-x86_64/egg/pyrouge/tests/data/systems\n",
            "copying build/lib/pyrouge/tests/data/systems/SL.P.10.R.24.SL062003-04.html -> build/bdist.linux-x86_64/egg/pyrouge/tests/data/systems\n",
            "copying build/lib/pyrouge/tests/data/systems/SL.P.10.R.22.SL062003-06.html -> build/bdist.linux-x86_64/egg/pyrouge/tests/data/systems\n",
            "copying build/lib/pyrouge/tests/data/systems/SL.P.10.R.12.SL062003-06.html -> build/bdist.linux-x86_64/egg/pyrouge/tests/data/systems\n",
            "copying build/lib/pyrouge/tests/data/systems/SL.P.10.R.13.SL062003-21.html -> build/bdist.linux-x86_64/egg/pyrouge/tests/data/systems\n",
            "copying build/lib/pyrouge/tests/data/systems/SL.P.10.R.12.SL062003-01.html -> build/bdist.linux-x86_64/egg/pyrouge/tests/data/systems\n",
            "copying build/lib/pyrouge/tests/data/systems/SL.P.10.R.13.SL062003-03.html -> build/bdist.linux-x86_64/egg/pyrouge/tests/data/systems\n",
            "copying build/lib/pyrouge/tests/data/systems/SL.P.10.R.22.SL062003-21.html -> build/bdist.linux-x86_64/egg/pyrouge/tests/data/systems\n",
            "copying build/lib/pyrouge/tests/data/systems/SL.P.10.R.23.SL062003-13.html -> build/bdist.linux-x86_64/egg/pyrouge/tests/data/systems\n",
            "copying build/lib/pyrouge/tests/data/systems/SL.P.10.R.24.SL062003-10.html -> build/bdist.linux-x86_64/egg/pyrouge/tests/data/systems\n",
            "copying build/lib/pyrouge/tests/data/systems/SL.P.10.R.21.SL062003-06.html -> build/bdist.linux-x86_64/egg/pyrouge/tests/data/systems\n",
            "copying build/lib/pyrouge/tests/data/systems/SL.P.10.R.12.SL062003-16.html -> build/bdist.linux-x86_64/egg/pyrouge/tests/data/systems\n",
            "copying build/lib/pyrouge/tests/data/systems/SL.P.10.R.21.SL062003-01.html -> build/bdist.linux-x86_64/egg/pyrouge/tests/data/systems\n",
            "copying build/lib/pyrouge/tests/data/systems/SL.P.10.R.22.SL062003-18.html -> build/bdist.linux-x86_64/egg/pyrouge/tests/data/systems\n",
            "copying build/lib/pyrouge/tests/data/systems/SL.P.10.R.22.SL062003-10.html -> build/bdist.linux-x86_64/egg/pyrouge/tests/data/systems\n",
            "copying build/lib/pyrouge/tests/data/systems/SL.P.10.R.21.SL062003-18.html -> build/bdist.linux-x86_64/egg/pyrouge/tests/data/systems\n",
            "copying build/lib/pyrouge/tests/data/systems/SL.P.10.R.12.SL062003-18.html -> build/bdist.linux-x86_64/egg/pyrouge/tests/data/systems\n",
            "copying build/lib/pyrouge/tests/data/systems/SL.P.10.R.12.SL062003-12.html -> build/bdist.linux-x86_64/egg/pyrouge/tests/data/systems\n",
            "copying build/lib/pyrouge/tests/data/systems/SL.P.10.R.13.SL062003-05.html -> build/bdist.linux-x86_64/egg/pyrouge/tests/data/systems\n",
            "copying build/lib/pyrouge/tests/data/systems/SL.P.10.R.24.SL062003-01.html -> build/bdist.linux-x86_64/egg/pyrouge/tests/data/systems\n",
            "copying build/lib/pyrouge/tests/data/systems/SL.P.10.R.22.SL062003-25.html -> build/bdist.linux-x86_64/egg/pyrouge/tests/data/systems\n",
            "copying build/lib/pyrouge/tests/data/systems/SL.P.10.R.21.SL062003-25.html -> build/bdist.linux-x86_64/egg/pyrouge/tests/data/systems\n",
            "copying build/lib/pyrouge/tests/data/systems/SL.P.10.R.11.SL062003-08.html -> build/bdist.linux-x86_64/egg/pyrouge/tests/data/systems\n",
            "copying build/lib/pyrouge/tests/data/systems/SL.P.10.R.13.SL062003-23.html -> build/bdist.linux-x86_64/egg/pyrouge/tests/data/systems\n",
            "copying build/lib/pyrouge/tests/data/systems/SL.P.10.R.22.SL062003-04.html -> build/bdist.linux-x86_64/egg/pyrouge/tests/data/systems\n",
            "copying build/lib/pyrouge/tests/data/systems/SL.P.10.R.22.SL062003-22.html -> build/bdist.linux-x86_64/egg/pyrouge/tests/data/systems\n",
            "copying build/lib/pyrouge/tests/data/systems/SL.P.10.R.24.SL062003-11.html -> build/bdist.linux-x86_64/egg/pyrouge/tests/data/systems\n",
            "copying build/lib/pyrouge/tests/data/systems/SL.P.10.R.11.SL062003-22.html -> build/bdist.linux-x86_64/egg/pyrouge/tests/data/systems\n",
            "copying build/lib/pyrouge/tests/data/systems/SL.P.10.R.21.SL062003-05.html -> build/bdist.linux-x86_64/egg/pyrouge/tests/data/systems\n",
            "copying build/lib/pyrouge/tests/data/systems/SL.P.10.R.23.SL062003-25.html -> build/bdist.linux-x86_64/egg/pyrouge/tests/data/systems\n",
            "copying build/lib/pyrouge/tests/data/systems/SL.P.10.R.21.SL062003-23.html -> build/bdist.linux-x86_64/egg/pyrouge/tests/data/systems\n",
            "copying build/lib/pyrouge/tests/data/systems/SL.P.10.R.14.SL062003-08.html -> build/bdist.linux-x86_64/egg/pyrouge/tests/data/systems\n",
            "copying build/lib/pyrouge/tests/data/systems/SL.P.10.R.23.SL062003-19.html -> build/bdist.linux-x86_64/egg/pyrouge/tests/data/systems\n",
            "copying build/lib/pyrouge/tests/data/systems/SL.P.10.R.23.SL062003-04.html -> build/bdist.linux-x86_64/egg/pyrouge/tests/data/systems\n",
            "copying build/lib/pyrouge/tests/data/systems/SL.P.10.R.12.SL062003-13.html -> build/bdist.linux-x86_64/egg/pyrouge/tests/data/systems\n",
            "copying build/lib/pyrouge/tests/data/systems/SL.P.10.R.23.SL062003-17.html -> build/bdist.linux-x86_64/egg/pyrouge/tests/data/systems\n",
            "copying build/lib/pyrouge/tests/data/systems/SL.P.10.R.11.SL062003-13.html -> build/bdist.linux-x86_64/egg/pyrouge/tests/data/systems\n",
            "copying build/lib/pyrouge/tests/data/systems/SL.P.10.R.22.SL062003-24.html -> build/bdist.linux-x86_64/egg/pyrouge/tests/data/systems\n",
            "copying build/lib/pyrouge/tests/data/systems/SL.P.10.R.11.SL062003-16.html -> build/bdist.linux-x86_64/egg/pyrouge/tests/data/systems\n",
            "copying build/lib/pyrouge/tests/data/systems/SL.P.10.R.14.SL062003-07.html -> build/bdist.linux-x86_64/egg/pyrouge/tests/data/systems\n",
            "copying build/lib/pyrouge/tests/data/systems/SL.P.10.R.11.SL062003-11.html -> build/bdist.linux-x86_64/egg/pyrouge/tests/data/systems\n",
            "copying build/lib/pyrouge/tests/data/systems/SL.P.10.R.12.SL062003-07.html -> build/bdist.linux-x86_64/egg/pyrouge/tests/data/systems\n",
            "copying build/lib/pyrouge/tests/data/systems/SL.P.10.R.22.SL062003-19.html -> build/bdist.linux-x86_64/egg/pyrouge/tests/data/systems\n",
            "copying build/lib/pyrouge/tests/data/systems/SL.P.10.R.12.SL062003-11.html -> build/bdist.linux-x86_64/egg/pyrouge/tests/data/systems\n",
            "copying build/lib/pyrouge/tests/data/systems/SL.P.10.R.11.SL062003-05.html -> build/bdist.linux-x86_64/egg/pyrouge/tests/data/systems\n",
            "copying build/lib/pyrouge/tests/data/systems/SL.P.10.R.13.SL062003-01.html -> build/bdist.linux-x86_64/egg/pyrouge/tests/data/systems\n",
            "copying build/lib/pyrouge/tests/data/systems/SL.P.10.R.23.SL062003-15.html -> build/bdist.linux-x86_64/egg/pyrouge/tests/data/systems\n",
            "copying build/lib/pyrouge/tests/data/systems/SL.P.10.R.14.SL062003-25.html -> build/bdist.linux-x86_64/egg/pyrouge/tests/data/systems\n",
            "copying build/lib/pyrouge/tests/data/systems/SL.P.10.R.24.SL062003-25.html -> build/bdist.linux-x86_64/egg/pyrouge/tests/data/systems\n",
            "copying build/lib/pyrouge/tests/data/systems/SL.P.10.R.24.SL062003-03.html -> build/bdist.linux-x86_64/egg/pyrouge/tests/data/systems\n",
            "copying build/lib/pyrouge/tests/data/systems/SL.P.10.R.11.SL062003-09.html -> build/bdist.linux-x86_64/egg/pyrouge/tests/data/systems\n",
            "copying build/lib/pyrouge/tests/data/systems/SL.P.10.R.11.SL062003-20.html -> build/bdist.linux-x86_64/egg/pyrouge/tests/data/systems\n",
            "copying build/lib/pyrouge/tests/data/systems/SL.P.10.R.14.SL062003-20.html -> build/bdist.linux-x86_64/egg/pyrouge/tests/data/systems\n",
            "copying build/lib/pyrouge/tests/data/systems/SL.P.10.R.14.SL062003-18.html -> build/bdist.linux-x86_64/egg/pyrouge/tests/data/systems\n",
            "copying build/lib/pyrouge/tests/data/systems/SL.P.10.R.22.SL062003-17.html -> build/bdist.linux-x86_64/egg/pyrouge/tests/data/systems\n",
            "copying build/lib/pyrouge/tests/data/systems/SL.P.10.R.23.SL062003-12.html -> build/bdist.linux-x86_64/egg/pyrouge/tests/data/systems\n",
            "copying build/lib/pyrouge/tests/data/systems/SL.P.10.R.13.SL062003-14.html -> build/bdist.linux-x86_64/egg/pyrouge/tests/data/systems\n",
            "copying build/lib/pyrouge/tests/data/systems/SL.P.10.R.12.SL062003-09.html -> build/bdist.linux-x86_64/egg/pyrouge/tests/data/systems\n",
            "copying build/lib/pyrouge/tests/data/systems/SL.P.10.R.21.SL062003-11.html -> build/bdist.linux-x86_64/egg/pyrouge/tests/data/systems\n",
            "copying build/lib/pyrouge/tests/data/systems/SL.P.10.R.14.SL062003-14.html -> build/bdist.linux-x86_64/egg/pyrouge/tests/data/systems\n",
            "copying build/lib/pyrouge/tests/data/systems/SL.P.10.R.23.SL062003-06.html -> build/bdist.linux-x86_64/egg/pyrouge/tests/data/systems\n",
            "copying build/lib/pyrouge/tests/data/systems/SL.P.10.R.22.SL062003-11.html -> build/bdist.linux-x86_64/egg/pyrouge/tests/data/systems\n",
            "copying build/lib/pyrouge/tests/data/systems/SL.P.10.R.21.SL062003-14.html -> build/bdist.linux-x86_64/egg/pyrouge/tests/data/systems\n",
            "copying build/lib/pyrouge/tests/data/systems/SL.P.10.R.13.SL062003-15.html -> build/bdist.linux-x86_64/egg/pyrouge/tests/data/systems\n",
            "copying build/lib/pyrouge/tests/data/systems/SL.P.10.R.24.SL062003-05.html -> build/bdist.linux-x86_64/egg/pyrouge/tests/data/systems\n",
            "copying build/lib/pyrouge/tests/data/systems/SL.P.10.R.14.SL062003-16.html -> build/bdist.linux-x86_64/egg/pyrouge/tests/data/systems\n",
            "copying build/lib/pyrouge/tests/data/systems/SL.P.10.R.22.SL062003-09.html -> build/bdist.linux-x86_64/egg/pyrouge/tests/data/systems\n",
            "copying build/lib/pyrouge/tests/data/systems/SL.P.10.R.11.SL062003-15.html -> build/bdist.linux-x86_64/egg/pyrouge/tests/data/systems\n",
            "copying build/lib/pyrouge/tests/data/systems/SL.P.10.R.24.SL062003-21.html -> build/bdist.linux-x86_64/egg/pyrouge/tests/data/systems\n",
            "copying build/lib/pyrouge/tests/data/systems/SL.P.10.R.21.SL062003-12.html -> build/bdist.linux-x86_64/egg/pyrouge/tests/data/systems\n",
            "copying build/lib/pyrouge/tests/data/systems/SL.P.10.R.23.SL062003-20.html -> build/bdist.linux-x86_64/egg/pyrouge/tests/data/systems\n",
            "copying build/lib/pyrouge/tests/data/systems/SL.P.10.R.23.SL062003-23.html -> build/bdist.linux-x86_64/egg/pyrouge/tests/data/systems\n",
            "copying build/lib/pyrouge/tests/data/systems/SL.P.10.R.22.SL062003-12.html -> build/bdist.linux-x86_64/egg/pyrouge/tests/data/systems\n",
            "copying build/lib/pyrouge/tests/data/systems/SL.P.10.R.14.SL062003-10.html -> build/bdist.linux-x86_64/egg/pyrouge/tests/data/systems\n",
            "copying build/lib/pyrouge/tests/data/systems/SL.P.10.R.22.SL062003-03.html -> build/bdist.linux-x86_64/egg/pyrouge/tests/data/systems\n",
            "copying build/lib/pyrouge/tests/data/systems/SL.P.10.R.12.SL062003-21.html -> build/bdist.linux-x86_64/egg/pyrouge/tests/data/systems\n",
            "copying build/lib/pyrouge/tests/data/systems/SL.P.10.R.21.SL062003-15.html -> build/bdist.linux-x86_64/egg/pyrouge/tests/data/systems\n",
            "copying build/lib/pyrouge/tests/data/systems/SL.P.10.R.14.SL062003-12.html -> build/bdist.linux-x86_64/egg/pyrouge/tests/data/systems\n",
            "copying build/lib/pyrouge/tests/data/systems/SL.P.10.R.12.SL062003-15.html -> build/bdist.linux-x86_64/egg/pyrouge/tests/data/systems\n",
            "copying build/lib/pyrouge/tests/data/systems/SL.P.10.R.13.SL062003-24.html -> build/bdist.linux-x86_64/egg/pyrouge/tests/data/systems\n",
            "copying build/lib/pyrouge/tests/data/systems/SL.P.10.R.21.SL062003-13.html -> build/bdist.linux-x86_64/egg/pyrouge/tests/data/systems\n",
            "copying build/lib/pyrouge/tests/data/systems/SL.P.10.R.11.SL062003-23.html -> build/bdist.linux-x86_64/egg/pyrouge/tests/data/systems\n",
            "creating build/bdist.linux-x86_64/egg/pyrouge/tests/data/systems_plain\n",
            "copying build/lib/pyrouge/tests/data/systems_plain/D30005.M.100.T.A -> build/bdist.linux-x86_64/egg/pyrouge/tests/data/systems_plain\n",
            "copying build/lib/pyrouge/tests/data/systems_plain/D30001.M.100.T.A -> build/bdist.linux-x86_64/egg/pyrouge/tests/data/systems_plain\n",
            "copying build/lib/pyrouge/tests/data/systems_plain/D30002.M.100.T.A -> build/bdist.linux-x86_64/egg/pyrouge/tests/data/systems_plain\n",
            "copying build/lib/pyrouge/tests/data/systems_plain/D30003.M.100.T.A -> build/bdist.linux-x86_64/egg/pyrouge/tests/data/systems_plain\n",
            "copying build/lib/pyrouge/tests/data/spl_test_doc.html -> build/bdist.linux-x86_64/egg/pyrouge/tests/data\n",
            "creating build/bdist.linux-x86_64/egg/pyrouge/tests/data/SL2003_models_plain_text\n",
            "copying build/lib/pyrouge/tests/data/SL2003_models_plain_text/SL.P.10.R.A.SL062003-06.html -> build/bdist.linux-x86_64/egg/pyrouge/tests/data/SL2003_models_plain_text\n",
            "copying build/lib/pyrouge/tests/data/SL2003_models_plain_text/SL.P.10.R.A.SL062003-18.html -> build/bdist.linux-x86_64/egg/pyrouge/tests/data/SL2003_models_plain_text\n",
            "copying build/lib/pyrouge/tests/data/SL2003_models_plain_text/SL.P.10.R.A.SL062003-12.html -> build/bdist.linux-x86_64/egg/pyrouge/tests/data/SL2003_models_plain_text\n",
            "copying build/lib/pyrouge/tests/data/SL2003_models_plain_text/SL.P.10.R.A.SL062003-24.html -> build/bdist.linux-x86_64/egg/pyrouge/tests/data/SL2003_models_plain_text\n",
            "copying build/lib/pyrouge/tests/data/SL2003_models_plain_text/SL.P.10.R.A.SL062003-07.html -> build/bdist.linux-x86_64/egg/pyrouge/tests/data/SL2003_models_plain_text\n",
            "copying build/lib/pyrouge/tests/data/SL2003_models_plain_text/SL.P.10.R.A.SL062003-09.html -> build/bdist.linux-x86_64/egg/pyrouge/tests/data/SL2003_models_plain_text\n",
            "copying build/lib/pyrouge/tests/data/SL2003_models_plain_text/SL.P.10.R.A.SL062003-15.html -> build/bdist.linux-x86_64/egg/pyrouge/tests/data/SL2003_models_plain_text\n",
            "copying build/lib/pyrouge/tests/data/SL2003_models_plain_text/SL.P.10.R.A.SL062003-05.html -> build/bdist.linux-x86_64/egg/pyrouge/tests/data/SL2003_models_plain_text\n",
            "copying build/lib/pyrouge/tests/data/SL2003_models_plain_text/SL.P.10.R.A.SL062003-20.html -> build/bdist.linux-x86_64/egg/pyrouge/tests/data/SL2003_models_plain_text\n",
            "copying build/lib/pyrouge/tests/data/SL2003_models_plain_text/SL.P.10.R.A.SL062003-11.html -> build/bdist.linux-x86_64/egg/pyrouge/tests/data/SL2003_models_plain_text\n",
            "copying build/lib/pyrouge/tests/data/SL2003_models_plain_text/SL.P.10.R.A.SL062003-21.html -> build/bdist.linux-x86_64/egg/pyrouge/tests/data/SL2003_models_plain_text\n",
            "copying build/lib/pyrouge/tests/data/SL2003_models_plain_text/SL.P.10.R.A.SL062003-25.html -> build/bdist.linux-x86_64/egg/pyrouge/tests/data/SL2003_models_plain_text\n",
            "copying build/lib/pyrouge/tests/data/SL2003_models_plain_text/SL.P.10.R.A.SL062003-01.html -> build/bdist.linux-x86_64/egg/pyrouge/tests/data/SL2003_models_plain_text\n",
            "copying build/lib/pyrouge/tests/data/SL2003_models_plain_text/SL.P.10.R.A.SL062003-14.html -> build/bdist.linux-x86_64/egg/pyrouge/tests/data/SL2003_models_plain_text\n",
            "copying build/lib/pyrouge/tests/data/SL2003_models_plain_text/SL.P.10.R.A.SL062003-17.html -> build/bdist.linux-x86_64/egg/pyrouge/tests/data/SL2003_models_plain_text\n",
            "copying build/lib/pyrouge/tests/data/SL2003_models_plain_text/SL.P.10.R.A.SL062003-13.html -> build/bdist.linux-x86_64/egg/pyrouge/tests/data/SL2003_models_plain_text\n",
            "copying build/lib/pyrouge/tests/data/SL2003_models_plain_text/SL.P.10.R.A.SL062003-04.html -> build/bdist.linux-x86_64/egg/pyrouge/tests/data/SL2003_models_plain_text\n",
            "copying build/lib/pyrouge/tests/data/SL2003_models_plain_text/SL.P.10.R.A.SL062003-19.html -> build/bdist.linux-x86_64/egg/pyrouge/tests/data/SL2003_models_plain_text\n",
            "copying build/lib/pyrouge/tests/data/SL2003_models_plain_text/SL.P.10.R.A.SL062003-10.html -> build/bdist.linux-x86_64/egg/pyrouge/tests/data/SL2003_models_plain_text\n",
            "copying build/lib/pyrouge/tests/data/SL2003_models_plain_text/SL.P.10.R.A.SL062003-03.html -> build/bdist.linux-x86_64/egg/pyrouge/tests/data/SL2003_models_plain_text\n",
            "copying build/lib/pyrouge/tests/data/SL2003_models_plain_text/SL.P.10.R.A.SL062003-22.html -> build/bdist.linux-x86_64/egg/pyrouge/tests/data/SL2003_models_plain_text\n",
            "copying build/lib/pyrouge/tests/data/SL2003_models_plain_text/SL.P.10.R.A.SL062003-23.html -> build/bdist.linux-x86_64/egg/pyrouge/tests/data/SL2003_models_plain_text\n",
            "copying build/lib/pyrouge/tests/data/SL2003_models_plain_text/SL.P.10.R.A.SL062003-02.html -> build/bdist.linux-x86_64/egg/pyrouge/tests/data/SL2003_models_plain_text\n",
            "copying build/lib/pyrouge/tests/data/SL2003_models_plain_text/SL.P.10.R.A.SL062003-16.html -> build/bdist.linux-x86_64/egg/pyrouge/tests/data/SL2003_models_plain_text\n",
            "copying build/lib/pyrouge/tests/data/SL2003_models_plain_text/SL.P.10.R.A.SL062003-08.html -> build/bdist.linux-x86_64/egg/pyrouge/tests/data/SL2003_models_plain_text\n",
            "copying build/lib/pyrouge/tests/data/ROUGE-test_11.xml -> build/bdist.linux-x86_64/egg/pyrouge/tests/data\n",
            "copying build/lib/pyrouge/tests/data/config_test.xml -> build/bdist.linux-x86_64/egg/pyrouge/tests/data\n",
            "creating build/bdist.linux-x86_64/egg/pyrouge/tests/data/models\n",
            "copying build/lib/pyrouge/tests/data/models/SL.P.10.R.C.SL062003-09.html -> build/bdist.linux-x86_64/egg/pyrouge/tests/data/models\n",
            "copying build/lib/pyrouge/tests/data/models/SL.P.10.R.B.SL062003-16.html -> build/bdist.linux-x86_64/egg/pyrouge/tests/data/models\n",
            "copying build/lib/pyrouge/tests/data/models/SL.P.10.R.A.SL062003-06.html -> build/bdist.linux-x86_64/egg/pyrouge/tests/data/models\n",
            "copying build/lib/pyrouge/tests/data/models/SL.P.10.R.D.SL062003-24.html -> build/bdist.linux-x86_64/egg/pyrouge/tests/data/models\n",
            "copying build/lib/pyrouge/tests/data/models/SL.P.10.R.A.SL062003-18.html -> build/bdist.linux-x86_64/egg/pyrouge/tests/data/models\n",
            "copying build/lib/pyrouge/tests/data/models/SL.P.10.R.D.SL062003-18.html -> build/bdist.linux-x86_64/egg/pyrouge/tests/data/models\n",
            "copying build/lib/pyrouge/tests/data/models/SL.P.10.R.B.SL062003-12.html -> build/bdist.linux-x86_64/egg/pyrouge/tests/data/models\n",
            "copying build/lib/pyrouge/tests/data/models/SL.P.10.R.C.SL062003-11.html -> build/bdist.linux-x86_64/egg/pyrouge/tests/data/models\n",
            "copying build/lib/pyrouge/tests/data/models/SL.P.10.R.B.SL062003-14.html -> build/bdist.linux-x86_64/egg/pyrouge/tests/data/models\n",
            "copying build/lib/pyrouge/tests/data/models/SL.P.10.R.C.SL062003-14.html -> build/bdist.linux-x86_64/egg/pyrouge/tests/data/models\n",
            "copying build/lib/pyrouge/tests/data/models/SL.P.10.R.D.SL062003-21.html -> build/bdist.linux-x86_64/egg/pyrouge/tests/data/models\n",
            "copying build/lib/pyrouge/tests/data/models/SL.P.10.R.A.SL062003-12.html -> build/bdist.linux-x86_64/egg/pyrouge/tests/data/models\n",
            "copying build/lib/pyrouge/tests/data/models/SL.P.10.R.B.SL062003-03.html -> build/bdist.linux-x86_64/egg/pyrouge/tests/data/models\n",
            "copying build/lib/pyrouge/tests/data/models/SL.P.10.R.D.SL062003-08.html -> build/bdist.linux-x86_64/egg/pyrouge/tests/data/models\n",
            "copying build/lib/pyrouge/tests/data/models/SL.P.10.R.C.SL062003-20.html -> build/bdist.linux-x86_64/egg/pyrouge/tests/data/models\n",
            "copying build/lib/pyrouge/tests/data/models/SL.P.10.R.D.SL062003-16.html -> build/bdist.linux-x86_64/egg/pyrouge/tests/data/models\n",
            "copying build/lib/pyrouge/tests/data/models/SL.P.10.R.A.SL062003-24.html -> build/bdist.linux-x86_64/egg/pyrouge/tests/data/models\n",
            "copying build/lib/pyrouge/tests/data/models/SL.P.10.R.C.SL062003-03.html -> build/bdist.linux-x86_64/egg/pyrouge/tests/data/models\n",
            "copying build/lib/pyrouge/tests/data/models/SL.P.10.R.B.SL062003-05.html -> build/bdist.linux-x86_64/egg/pyrouge/tests/data/models\n",
            "copying build/lib/pyrouge/tests/data/models/SL.P.10.R.A.SL062003-07.html -> build/bdist.linux-x86_64/egg/pyrouge/tests/data/models\n",
            "copying build/lib/pyrouge/tests/data/models/SL.P.10.R.D.SL062003-10.html -> build/bdist.linux-x86_64/egg/pyrouge/tests/data/models\n",
            "copying build/lib/pyrouge/tests/data/models/SL.P.10.R.B.SL062003-24.html -> build/bdist.linux-x86_64/egg/pyrouge/tests/data/models\n",
            "copying build/lib/pyrouge/tests/data/models/SL.P.10.R.C.SL062003-01.html -> build/bdist.linux-x86_64/egg/pyrouge/tests/data/models\n",
            "copying build/lib/pyrouge/tests/data/models/SL.P.10.R.D.SL062003-15.html -> build/bdist.linux-x86_64/egg/pyrouge/tests/data/models\n",
            "copying build/lib/pyrouge/tests/data/models/SL.P.10.R.C.SL062003-16.html -> build/bdist.linux-x86_64/egg/pyrouge/tests/data/models\n",
            "copying build/lib/pyrouge/tests/data/models/SL.P.10.R.B.SL062003-20.html -> build/bdist.linux-x86_64/egg/pyrouge/tests/data/models\n",
            "copying build/lib/pyrouge/tests/data/models/SL.P.10.R.A.SL062003-09.html -> build/bdist.linux-x86_64/egg/pyrouge/tests/data/models\n",
            "copying build/lib/pyrouge/tests/data/models/SL.P.10.R.D.SL062003-14.html -> build/bdist.linux-x86_64/egg/pyrouge/tests/data/models\n",
            "copying build/lib/pyrouge/tests/data/models/SL.P.10.R.D.SL062003-11.html -> build/bdist.linux-x86_64/egg/pyrouge/tests/data/models\n",
            "copying build/lib/pyrouge/tests/data/models/SL.P.10.R.A.SL062003-15.html -> build/bdist.linux-x86_64/egg/pyrouge/tests/data/models\n",
            "copying build/lib/pyrouge/tests/data/models/SL.P.10.R.D.SL062003-22.html -> build/bdist.linux-x86_64/egg/pyrouge/tests/data/models\n",
            "copying build/lib/pyrouge/tests/data/models/SL.P.10.R.B.SL062003-10.html -> build/bdist.linux-x86_64/egg/pyrouge/tests/data/models\n",
            "copying build/lib/pyrouge/tests/data/models/SL.P.10.R.D.SL062003-02.html -> build/bdist.linux-x86_64/egg/pyrouge/tests/data/models\n",
            "copying build/lib/pyrouge/tests/data/models/SL.P.10.R.B.SL062003-01.html -> build/bdist.linux-x86_64/egg/pyrouge/tests/data/models\n",
            "copying build/lib/pyrouge/tests/data/models/SL.P.10.R.D.SL062003-03.html -> build/bdist.linux-x86_64/egg/pyrouge/tests/data/models\n",
            "copying build/lib/pyrouge/tests/data/models/SL.P.10.R.A.SL062003-05.html -> build/bdist.linux-x86_64/egg/pyrouge/tests/data/models\n",
            "copying build/lib/pyrouge/tests/data/models/SL.P.10.R.A.SL062003-20.html -> build/bdist.linux-x86_64/egg/pyrouge/tests/data/models\n",
            "copying build/lib/pyrouge/tests/data/models/SL.P.10.R.B.SL062003-06.html -> build/bdist.linux-x86_64/egg/pyrouge/tests/data/models\n",
            "copying build/lib/pyrouge/tests/data/models/SL.P.10.R.C.SL062003-02.html -> build/bdist.linux-x86_64/egg/pyrouge/tests/data/models\n",
            "copying build/lib/pyrouge/tests/data/models/SL.P.10.R.A.SL062003-11.html -> build/bdist.linux-x86_64/egg/pyrouge/tests/data/models\n",
            "copying build/lib/pyrouge/tests/data/models/SL.P.10.R.B.SL062003-17.html -> build/bdist.linux-x86_64/egg/pyrouge/tests/data/models\n",
            "copying build/lib/pyrouge/tests/data/models/SL.P.10.R.A.SL062003-21.html -> build/bdist.linux-x86_64/egg/pyrouge/tests/data/models\n",
            "copying build/lib/pyrouge/tests/data/models/SL.P.10.R.D.SL062003-01.html -> build/bdist.linux-x86_64/egg/pyrouge/tests/data/models\n",
            "copying build/lib/pyrouge/tests/data/models/SL.P.10.R.A.SL062003-25.html -> build/bdist.linux-x86_64/egg/pyrouge/tests/data/models\n",
            "copying build/lib/pyrouge/tests/data/models/SL.P.10.R.B.SL062003-18.html -> build/bdist.linux-x86_64/egg/pyrouge/tests/data/models\n",
            "copying build/lib/pyrouge/tests/data/models/SL.P.10.R.C.SL062003-06.html -> build/bdist.linux-x86_64/egg/pyrouge/tests/data/models\n",
            "copying build/lib/pyrouge/tests/data/models/SL.P.10.R.D.SL062003-09.html -> build/bdist.linux-x86_64/egg/pyrouge/tests/data/models\n",
            "copying build/lib/pyrouge/tests/data/models/SL.P.10.R.B.SL062003-02.html -> build/bdist.linux-x86_64/egg/pyrouge/tests/data/models\n",
            "copying build/lib/pyrouge/tests/data/models/SL.P.10.R.D.SL062003-06.html -> build/bdist.linux-x86_64/egg/pyrouge/tests/data/models\n",
            "copying build/lib/pyrouge/tests/data/models/SL.P.10.R.A.SL062003-01.html -> build/bdist.linux-x86_64/egg/pyrouge/tests/data/models\n",
            "copying build/lib/pyrouge/tests/data/models/SL.P.10.R.C.SL062003-19.html -> build/bdist.linux-x86_64/egg/pyrouge/tests/data/models\n",
            "copying build/lib/pyrouge/tests/data/models/SL.P.10.R.A.SL062003-14.html -> build/bdist.linux-x86_64/egg/pyrouge/tests/data/models\n",
            "copying build/lib/pyrouge/tests/data/models/SL.P.10.R.D.SL062003-25.html -> build/bdist.linux-x86_64/egg/pyrouge/tests/data/models\n",
            "copying build/lib/pyrouge/tests/data/models/SL.P.10.R.C.SL062003-25.html -> build/bdist.linux-x86_64/egg/pyrouge/tests/data/models\n",
            "copying build/lib/pyrouge/tests/data/models/SL.P.10.R.B.SL062003-09.html -> build/bdist.linux-x86_64/egg/pyrouge/tests/data/models\n",
            "copying build/lib/pyrouge/tests/data/models/SL.P.10.R.D.SL062003-12.html -> build/bdist.linux-x86_64/egg/pyrouge/tests/data/models\n",
            "copying build/lib/pyrouge/tests/data/models/SL.P.10.R.C.SL062003-18.html -> build/bdist.linux-x86_64/egg/pyrouge/tests/data/models\n",
            "copying build/lib/pyrouge/tests/data/models/SL.P.10.R.A.SL062003-17.html -> build/bdist.linux-x86_64/egg/pyrouge/tests/data/models\n",
            "copying build/lib/pyrouge/tests/data/models/SL.P.10.R.C.SL062003-21.html -> build/bdist.linux-x86_64/egg/pyrouge/tests/data/models\n",
            "copying build/lib/pyrouge/tests/data/models/SL.P.10.R.C.SL062003-15.html -> build/bdist.linux-x86_64/egg/pyrouge/tests/data/models\n",
            "copying build/lib/pyrouge/tests/data/models/SL.P.10.R.C.SL062003-10.html -> build/bdist.linux-x86_64/egg/pyrouge/tests/data/models\n",
            "copying build/lib/pyrouge/tests/data/models/SL.P.10.R.B.SL062003-19.html -> build/bdist.linux-x86_64/egg/pyrouge/tests/data/models\n",
            "copying build/lib/pyrouge/tests/data/models/SL.P.10.R.D.SL062003-04.html -> build/bdist.linux-x86_64/egg/pyrouge/tests/data/models\n",
            "copying build/lib/pyrouge/tests/data/models/SL.P.10.R.B.SL062003-25.html -> build/bdist.linux-x86_64/egg/pyrouge/tests/data/models\n",
            "copying build/lib/pyrouge/tests/data/models/SL.P.10.R.B.SL062003-23.html -> build/bdist.linux-x86_64/egg/pyrouge/tests/data/models\n",
            "copying build/lib/pyrouge/tests/data/models/SL.P.10.R.D.SL062003-13.html -> build/bdist.linux-x86_64/egg/pyrouge/tests/data/models\n",
            "copying build/lib/pyrouge/tests/data/models/SL.P.10.R.A.SL062003-13.html -> build/bdist.linux-x86_64/egg/pyrouge/tests/data/models\n",
            "copying build/lib/pyrouge/tests/data/models/SL.P.10.R.C.SL062003-24.html -> build/bdist.linux-x86_64/egg/pyrouge/tests/data/models\n",
            "copying build/lib/pyrouge/tests/data/models/SL.P.10.R.A.SL062003-04.html -> build/bdist.linux-x86_64/egg/pyrouge/tests/data/models\n",
            "copying build/lib/pyrouge/tests/data/models/SL.P.10.R.A.SL062003-19.html -> build/bdist.linux-x86_64/egg/pyrouge/tests/data/models\n",
            "copying build/lib/pyrouge/tests/data/models/SL.P.10.R.C.SL062003-12.html -> build/bdist.linux-x86_64/egg/pyrouge/tests/data/models\n",
            "copying build/lib/pyrouge/tests/data/models/SL.P.10.R.B.SL062003-08.html -> build/bdist.linux-x86_64/egg/pyrouge/tests/data/models\n",
            "copying build/lib/pyrouge/tests/data/models/SL.P.10.R.D.SL062003-19.html -> build/bdist.linux-x86_64/egg/pyrouge/tests/data/models\n",
            "copying build/lib/pyrouge/tests/data/models/SL.P.10.R.B.SL062003-22.html -> build/bdist.linux-x86_64/egg/pyrouge/tests/data/models\n",
            "copying build/lib/pyrouge/tests/data/models/SL.P.10.R.B.SL062003-15.html -> build/bdist.linux-x86_64/egg/pyrouge/tests/data/models\n",
            "copying build/lib/pyrouge/tests/data/models/SL.P.10.R.C.SL062003-22.html -> build/bdist.linux-x86_64/egg/pyrouge/tests/data/models\n",
            "copying build/lib/pyrouge/tests/data/models/SL.P.10.R.B.SL062003-21.html -> build/bdist.linux-x86_64/egg/pyrouge/tests/data/models\n",
            "copying build/lib/pyrouge/tests/data/models/SL.P.10.R.D.SL062003-07.html -> build/bdist.linux-x86_64/egg/pyrouge/tests/data/models\n",
            "copying build/lib/pyrouge/tests/data/models/SL.P.10.R.B.SL062003-04.html -> build/bdist.linux-x86_64/egg/pyrouge/tests/data/models\n",
            "copying build/lib/pyrouge/tests/data/models/SL.P.10.R.C.SL062003-13.html -> build/bdist.linux-x86_64/egg/pyrouge/tests/data/models\n",
            "copying build/lib/pyrouge/tests/data/models/SL.P.10.R.C.SL062003-05.html -> build/bdist.linux-x86_64/egg/pyrouge/tests/data/models\n",
            "copying build/lib/pyrouge/tests/data/models/SL.P.10.R.A.SL062003-10.html -> build/bdist.linux-x86_64/egg/pyrouge/tests/data/models\n",
            "copying build/lib/pyrouge/tests/data/models/SL.P.10.R.B.SL062003-11.html -> build/bdist.linux-x86_64/egg/pyrouge/tests/data/models\n",
            "copying build/lib/pyrouge/tests/data/models/SL.P.10.R.C.SL062003-08.html -> build/bdist.linux-x86_64/egg/pyrouge/tests/data/models\n",
            "copying build/lib/pyrouge/tests/data/models/SL.P.10.R.A.SL062003-03.html -> build/bdist.linux-x86_64/egg/pyrouge/tests/data/models\n",
            "copying build/lib/pyrouge/tests/data/models/SL.P.10.R.D.SL062003-20.html -> build/bdist.linux-x86_64/egg/pyrouge/tests/data/models\n",
            "copying build/lib/pyrouge/tests/data/models/SL.P.10.R.A.SL062003-22.html -> build/bdist.linux-x86_64/egg/pyrouge/tests/data/models\n",
            "copying build/lib/pyrouge/tests/data/models/SL.P.10.R.A.SL062003-23.html -> build/bdist.linux-x86_64/egg/pyrouge/tests/data/models\n",
            "copying build/lib/pyrouge/tests/data/models/SL.P.10.R.C.SL062003-17.html -> build/bdist.linux-x86_64/egg/pyrouge/tests/data/models\n",
            "copying build/lib/pyrouge/tests/data/models/SL.P.10.R.D.SL062003-23.html -> build/bdist.linux-x86_64/egg/pyrouge/tests/data/models\n",
            "copying build/lib/pyrouge/tests/data/models/SL.P.10.R.C.SL062003-23.html -> build/bdist.linux-x86_64/egg/pyrouge/tests/data/models\n",
            "copying build/lib/pyrouge/tests/data/models/SL.P.10.R.D.SL062003-17.html -> build/bdist.linux-x86_64/egg/pyrouge/tests/data/models\n",
            "copying build/lib/pyrouge/tests/data/models/SL.P.10.R.A.SL062003-02.html -> build/bdist.linux-x86_64/egg/pyrouge/tests/data/models\n",
            "copying build/lib/pyrouge/tests/data/models/SL.P.10.R.B.SL062003-07.html -> build/bdist.linux-x86_64/egg/pyrouge/tests/data/models\n",
            "copying build/lib/pyrouge/tests/data/models/SL.P.10.R.A.SL062003-16.html -> build/bdist.linux-x86_64/egg/pyrouge/tests/data/models\n",
            "copying build/lib/pyrouge/tests/data/models/SL.P.10.R.B.SL062003-13.html -> build/bdist.linux-x86_64/egg/pyrouge/tests/data/models\n",
            "copying build/lib/pyrouge/tests/data/models/SL.P.10.R.C.SL062003-04.html -> build/bdist.linux-x86_64/egg/pyrouge/tests/data/models\n",
            "copying build/lib/pyrouge/tests/data/models/SL.P.10.R.A.SL062003-08.html -> build/bdist.linux-x86_64/egg/pyrouge/tests/data/models\n",
            "copying build/lib/pyrouge/tests/data/models/SL.P.10.R.D.SL062003-05.html -> build/bdist.linux-x86_64/egg/pyrouge/tests/data/models\n",
            "copying build/lib/pyrouge/tests/data/models/SL.P.10.R.C.SL062003-07.html -> build/bdist.linux-x86_64/egg/pyrouge/tests/data/models\n",
            "creating build/bdist.linux-x86_64/egg/pyrouge/tests/data/systems2\n",
            "copying build/lib/pyrouge/tests/data/systems2/D30005.M.100.T.A -> build/bdist.linux-x86_64/egg/pyrouge/tests/data/systems2\n",
            "copying build/lib/pyrouge/tests/data/systems2/D30001.M.100.T.A -> build/bdist.linux-x86_64/egg/pyrouge/tests/data/systems2\n",
            "copying build/lib/pyrouge/tests/data/systems2/D30002.M.100.T.A -> build/bdist.linux-x86_64/egg/pyrouge/tests/data/systems2\n",
            "copying build/lib/pyrouge/tests/data/systems2/D30003.M.100.T.A -> build/bdist.linux-x86_64/egg/pyrouge/tests/data/systems2\n",
            "creating build/bdist.linux-x86_64/egg/pyrouge/tests/data/SL2003_models_rouge_format\n",
            "copying build/lib/pyrouge/tests/data/SL2003_models_rouge_format/SL.P.10.R.A.SL062003-06.html -> build/bdist.linux-x86_64/egg/pyrouge/tests/data/SL2003_models_rouge_format\n",
            "copying build/lib/pyrouge/tests/data/SL2003_models_rouge_format/SL.P.10.R.A.SL062003-18.html -> build/bdist.linux-x86_64/egg/pyrouge/tests/data/SL2003_models_rouge_format\n",
            "copying build/lib/pyrouge/tests/data/SL2003_models_rouge_format/SL.P.10.R.A.SL062003-12.html -> build/bdist.linux-x86_64/egg/pyrouge/tests/data/SL2003_models_rouge_format\n",
            "copying build/lib/pyrouge/tests/data/SL2003_models_rouge_format/SL.P.10.R.A.SL062003-24.html -> build/bdist.linux-x86_64/egg/pyrouge/tests/data/SL2003_models_rouge_format\n",
            "copying build/lib/pyrouge/tests/data/SL2003_models_rouge_format/SL.P.10.R.A.SL062003-07.html -> build/bdist.linux-x86_64/egg/pyrouge/tests/data/SL2003_models_rouge_format\n",
            "copying build/lib/pyrouge/tests/data/SL2003_models_rouge_format/SL.P.10.R.A.SL062003-09.html -> build/bdist.linux-x86_64/egg/pyrouge/tests/data/SL2003_models_rouge_format\n",
            "copying build/lib/pyrouge/tests/data/SL2003_models_rouge_format/SL.P.10.R.A.SL062003-15.html -> build/bdist.linux-x86_64/egg/pyrouge/tests/data/SL2003_models_rouge_format\n",
            "copying build/lib/pyrouge/tests/data/SL2003_models_rouge_format/SL.P.10.R.A.SL062003-05.html -> build/bdist.linux-x86_64/egg/pyrouge/tests/data/SL2003_models_rouge_format\n",
            "copying build/lib/pyrouge/tests/data/SL2003_models_rouge_format/SL.P.10.R.A.SL062003-20.html -> build/bdist.linux-x86_64/egg/pyrouge/tests/data/SL2003_models_rouge_format\n",
            "copying build/lib/pyrouge/tests/data/SL2003_models_rouge_format/SL.P.10.R.A.SL062003-11.html -> build/bdist.linux-x86_64/egg/pyrouge/tests/data/SL2003_models_rouge_format\n",
            "copying build/lib/pyrouge/tests/data/SL2003_models_rouge_format/SL.P.10.R.A.SL062003-21.html -> build/bdist.linux-x86_64/egg/pyrouge/tests/data/SL2003_models_rouge_format\n",
            "copying build/lib/pyrouge/tests/data/SL2003_models_rouge_format/SL.P.10.R.A.SL062003-25.html -> build/bdist.linux-x86_64/egg/pyrouge/tests/data/SL2003_models_rouge_format\n",
            "copying build/lib/pyrouge/tests/data/SL2003_models_rouge_format/SL.P.10.R.A.SL062003-01.html -> build/bdist.linux-x86_64/egg/pyrouge/tests/data/SL2003_models_rouge_format\n",
            "copying build/lib/pyrouge/tests/data/SL2003_models_rouge_format/SL.P.10.R.A.SL062003-14.html -> build/bdist.linux-x86_64/egg/pyrouge/tests/data/SL2003_models_rouge_format\n",
            "copying build/lib/pyrouge/tests/data/SL2003_models_rouge_format/SL.P.10.R.A.SL062003-17.html -> build/bdist.linux-x86_64/egg/pyrouge/tests/data/SL2003_models_rouge_format\n",
            "copying build/lib/pyrouge/tests/data/SL2003_models_rouge_format/SL.P.10.R.A.SL062003-13.html -> build/bdist.linux-x86_64/egg/pyrouge/tests/data/SL2003_models_rouge_format\n",
            "copying build/lib/pyrouge/tests/data/SL2003_models_rouge_format/SL.P.10.R.A.SL062003-04.html -> build/bdist.linux-x86_64/egg/pyrouge/tests/data/SL2003_models_rouge_format\n",
            "copying build/lib/pyrouge/tests/data/SL2003_models_rouge_format/SL.P.10.R.A.SL062003-19.html -> build/bdist.linux-x86_64/egg/pyrouge/tests/data/SL2003_models_rouge_format\n",
            "copying build/lib/pyrouge/tests/data/SL2003_models_rouge_format/SL.P.10.R.A.SL062003-10.html -> build/bdist.linux-x86_64/egg/pyrouge/tests/data/SL2003_models_rouge_format\n",
            "copying build/lib/pyrouge/tests/data/SL2003_models_rouge_format/SL.P.10.R.A.SL062003-03.html -> build/bdist.linux-x86_64/egg/pyrouge/tests/data/SL2003_models_rouge_format\n",
            "copying build/lib/pyrouge/tests/data/SL2003_models_rouge_format/SL.P.10.R.A.SL062003-22.html -> build/bdist.linux-x86_64/egg/pyrouge/tests/data/SL2003_models_rouge_format\n",
            "copying build/lib/pyrouge/tests/data/SL2003_models_rouge_format/SL.P.10.R.A.SL062003-23.html -> build/bdist.linux-x86_64/egg/pyrouge/tests/data/SL2003_models_rouge_format\n",
            "copying build/lib/pyrouge/tests/data/SL2003_models_rouge_format/SL.P.10.R.A.SL062003-02.html -> build/bdist.linux-x86_64/egg/pyrouge/tests/data/SL2003_models_rouge_format\n",
            "copying build/lib/pyrouge/tests/data/SL2003_models_rouge_format/SL.P.10.R.A.SL062003-16.html -> build/bdist.linux-x86_64/egg/pyrouge/tests/data/SL2003_models_rouge_format\n",
            "copying build/lib/pyrouge/tests/data/SL2003_models_rouge_format/SL.P.10.R.A.SL062003-08.html -> build/bdist.linux-x86_64/egg/pyrouge/tests/data/SL2003_models_rouge_format\n",
            "creating build/bdist.linux-x86_64/egg/pyrouge/tests/data/models_plain\n",
            "copying build/lib/pyrouge/tests/data/models_plain/D30002.M.100.T.B -> build/bdist.linux-x86_64/egg/pyrouge/tests/data/models_plain\n",
            "copying build/lib/pyrouge/tests/data/models_plain/D30001.M.100.T.C -> build/bdist.linux-x86_64/egg/pyrouge/tests/data/models_plain\n",
            "copying build/lib/pyrouge/tests/data/models_plain/D30001.M.100.T.D -> build/bdist.linux-x86_64/egg/pyrouge/tests/data/models_plain\n",
            "copying build/lib/pyrouge/tests/data/models_plain/D30003.M.100.T.F -> build/bdist.linux-x86_64/egg/pyrouge/tests/data/models_plain\n",
            "copying build/lib/pyrouge/tests/data/models_plain/D30005.M.100.T.B -> build/bdist.linux-x86_64/egg/pyrouge/tests/data/models_plain\n",
            "copying build/lib/pyrouge/tests/data/models_plain/D30001.M.100.T.B -> build/bdist.linux-x86_64/egg/pyrouge/tests/data/models_plain\n",
            "copying build/lib/pyrouge/tests/data/models_plain/D30003.M.100.T.C -> build/bdist.linux-x86_64/egg/pyrouge/tests/data/models_plain\n",
            "copying build/lib/pyrouge/tests/data/models_plain/D30003.M.100.T.B -> build/bdist.linux-x86_64/egg/pyrouge/tests/data/models_plain\n",
            "copying build/lib/pyrouge/tests/data/models_plain/D30005.M.100.T.C -> build/bdist.linux-x86_64/egg/pyrouge/tests/data/models_plain\n",
            "copying build/lib/pyrouge/tests/data/models_plain/D30002.M.100.T.C -> build/bdist.linux-x86_64/egg/pyrouge/tests/data/models_plain\n",
            "copying build/lib/pyrouge/tests/data/models_plain/D30005.M.100.T.G -> build/bdist.linux-x86_64/egg/pyrouge/tests/data/models_plain\n",
            "copying build/lib/pyrouge/tests/data/models_plain/D30002.M.100.T.E -> build/bdist.linux-x86_64/egg/pyrouge/tests/data/models_plain\n",
            "creating build/bdist.linux-x86_64/egg/pyrouge/tests/data/m\n",
            "copying build/lib/pyrouge/tests/data/m/D30002.M.100.T.B -> build/bdist.linux-x86_64/egg/pyrouge/tests/data/m\n",
            "copying build/lib/pyrouge/tests/data/m/D30001.M.100.T.C -> build/bdist.linux-x86_64/egg/pyrouge/tests/data/m\n",
            "copying build/lib/pyrouge/tests/data/m/D30001.M.100.T.D -> build/bdist.linux-x86_64/egg/pyrouge/tests/data/m\n",
            "copying build/lib/pyrouge/tests/data/m/D30003.M.100.T.F -> build/bdist.linux-x86_64/egg/pyrouge/tests/data/m\n",
            "copying build/lib/pyrouge/tests/data/m/D30005.M.100.T.B -> build/bdist.linux-x86_64/egg/pyrouge/tests/data/m\n",
            "copying build/lib/pyrouge/tests/data/m/D30001.M.100.T.B -> build/bdist.linux-x86_64/egg/pyrouge/tests/data/m\n",
            "copying build/lib/pyrouge/tests/data/m/D30003.M.100.T.C -> build/bdist.linux-x86_64/egg/pyrouge/tests/data/m\n",
            "copying build/lib/pyrouge/tests/data/m/D30003.M.100.T.B -> build/bdist.linux-x86_64/egg/pyrouge/tests/data/m\n",
            "copying build/lib/pyrouge/tests/data/m/D30005.M.100.T.C -> build/bdist.linux-x86_64/egg/pyrouge/tests/data/m\n",
            "copying build/lib/pyrouge/tests/data/m/D30002.M.100.T.C -> build/bdist.linux-x86_64/egg/pyrouge/tests/data/m\n",
            "copying build/lib/pyrouge/tests/data/m/D30005.M.100.T.G -> build/bdist.linux-x86_64/egg/pyrouge/tests/data/m\n",
            "copying build/lib/pyrouge/tests/data/m/D30002.M.100.T.E -> build/bdist.linux-x86_64/egg/pyrouge/tests/data/m\n",
            "copying build/lib/pyrouge/tests/__init__.py -> build/bdist.linux-x86_64/egg/pyrouge/tests\n",
            "copying build/lib/pyrouge/tests/__main__.py -> build/bdist.linux-x86_64/egg/pyrouge/tests\n",
            "byte-compiling build/bdist.linux-x86_64/egg/pyrouge/test.py to test.cpython-36.pyc\n",
            "byte-compiling build/bdist.linux-x86_64/egg/pyrouge/utils/argparsers.py to argparsers.cpython-36.pyc\n",
            "byte-compiling build/bdist.linux-x86_64/egg/pyrouge/utils/__init__.py to __init__.cpython-36.pyc\n",
            "byte-compiling build/bdist.linux-x86_64/egg/pyrouge/utils/file_utils.py to file_utils.cpython-36.pyc\n",
            "byte-compiling build/bdist.linux-x86_64/egg/pyrouge/utils/sentence_splitter.py to sentence_splitter.cpython-36.pyc\n",
            "byte-compiling build/bdist.linux-x86_64/egg/pyrouge/utils/log.py to log.cpython-36.pyc\n",
            "byte-compiling build/bdist.linux-x86_64/egg/pyrouge/utils/string_utils.py to string_utils.cpython-36.pyc\n",
            "byte-compiling build/bdist.linux-x86_64/egg/pyrouge/__init__.py to __init__.cpython-36.pyc\n",
            "byte-compiling build/bdist.linux-x86_64/egg/pyrouge/Rouge155.py to Rouge155.cpython-36.pyc\n",
            "byte-compiling build/bdist.linux-x86_64/egg/pyrouge/tests/Rouge155_test.py to Rouge155_test.cpython-36.pyc\n",
            "byte-compiling build/bdist.linux-x86_64/egg/pyrouge/tests/__init__.py to __init__.cpython-36.pyc\n",
            "byte-compiling build/bdist.linux-x86_64/egg/pyrouge/tests/__main__.py to __main__.cpython-36.pyc\n",
            "creating build/bdist.linux-x86_64/egg/EGG-INFO\n",
            "installing scripts to build/bdist.linux-x86_64/egg/EGG-INFO/scripts\n",
            "running install_scripts\n",
            "running build_scripts\n",
            "creating build/scripts-3.6\n",
            "copying and adjusting bin/pyrouge_convert_rouge_format_to_plain_text -> build/scripts-3.6\n",
            "copying and adjusting bin/pyrouge_write_config_file -> build/scripts-3.6\n",
            "copying and adjusting bin/pyrouge_evaluate_rouge_format_files -> build/scripts-3.6\n",
            "copying and adjusting bin/pyrouge_convert_plain_text_to_rouge_format -> build/scripts-3.6\n",
            "copying and adjusting bin/pyrouge_evaluate_plain_text_files -> build/scripts-3.6\n",
            "copying and adjusting bin/pyrouge_set_rouge_path -> build/scripts-3.6\n",
            "changing mode of build/scripts-3.6/pyrouge_convert_rouge_format_to_plain_text from 644 to 755\n",
            "changing mode of build/scripts-3.6/pyrouge_write_config_file from 644 to 755\n",
            "changing mode of build/scripts-3.6/pyrouge_evaluate_rouge_format_files from 644 to 755\n",
            "changing mode of build/scripts-3.6/pyrouge_convert_plain_text_to_rouge_format from 644 to 755\n",
            "changing mode of build/scripts-3.6/pyrouge_evaluate_plain_text_files from 644 to 755\n",
            "changing mode of build/scripts-3.6/pyrouge_set_rouge_path from 644 to 755\n",
            "creating build/bdist.linux-x86_64/egg/EGG-INFO/scripts\n",
            "copying build/scripts-3.6/pyrouge_convert_rouge_format_to_plain_text -> build/bdist.linux-x86_64/egg/EGG-INFO/scripts\n",
            "copying build/scripts-3.6/pyrouge_write_config_file -> build/bdist.linux-x86_64/egg/EGG-INFO/scripts\n",
            "copying build/scripts-3.6/pyrouge_evaluate_rouge_format_files -> build/bdist.linux-x86_64/egg/EGG-INFO/scripts\n",
            "copying build/scripts-3.6/pyrouge_convert_plain_text_to_rouge_format -> build/bdist.linux-x86_64/egg/EGG-INFO/scripts\n",
            "copying build/scripts-3.6/pyrouge_evaluate_plain_text_files -> build/bdist.linux-x86_64/egg/EGG-INFO/scripts\n",
            "copying build/scripts-3.6/pyrouge_set_rouge_path -> build/bdist.linux-x86_64/egg/EGG-INFO/scripts\n",
            "changing mode of build/bdist.linux-x86_64/egg/EGG-INFO/scripts/pyrouge_convert_rouge_format_to_plain_text to 755\n",
            "changing mode of build/bdist.linux-x86_64/egg/EGG-INFO/scripts/pyrouge_write_config_file to 755\n",
            "changing mode of build/bdist.linux-x86_64/egg/EGG-INFO/scripts/pyrouge_evaluate_rouge_format_files to 755\n",
            "changing mode of build/bdist.linux-x86_64/egg/EGG-INFO/scripts/pyrouge_convert_plain_text_to_rouge_format to 755\n",
            "changing mode of build/bdist.linux-x86_64/egg/EGG-INFO/scripts/pyrouge_evaluate_plain_text_files to 755\n",
            "changing mode of build/bdist.linux-x86_64/egg/EGG-INFO/scripts/pyrouge_set_rouge_path to 755\n",
            "copying pyrouge.egg-info/PKG-INFO -> build/bdist.linux-x86_64/egg/EGG-INFO\n",
            "copying pyrouge.egg-info/SOURCES.txt -> build/bdist.linux-x86_64/egg/EGG-INFO\n",
            "copying pyrouge.egg-info/dependency_links.txt -> build/bdist.linux-x86_64/egg/EGG-INFO\n",
            "copying pyrouge.egg-info/top_level.txt -> build/bdist.linux-x86_64/egg/EGG-INFO\n",
            "zip_safe flag not set; analyzing archive contents...\n",
            "pyrouge.__pycache__.Rouge155.cpython-36: module references __file__\n",
            "pyrouge.tests.__pycache__.Rouge155_test.cpython-36: module references __file__\n",
            "creating dist\n",
            "creating 'dist/pyrouge-0.1.3-py3.6.egg' and adding 'build/bdist.linux-x86_64/egg' to it\n",
            "removing 'build/bdist.linux-x86_64/egg' (and everything under it)\n",
            "Processing pyrouge-0.1.3-py3.6.egg\n",
            "creating /usr/local/lib/python3.6/dist-packages/pyrouge-0.1.3-py3.6.egg\n",
            "Extracting pyrouge-0.1.3-py3.6.egg to /usr/local/lib/python3.6/dist-packages\n",
            "Adding pyrouge 0.1.3 to easy-install.pth file\n",
            "Installing pyrouge_convert_rouge_format_to_plain_text script to /usr/local/bin\n",
            "Installing pyrouge_write_config_file script to /usr/local/bin\n",
            "Installing pyrouge_evaluate_rouge_format_files script to /usr/local/bin\n",
            "Installing pyrouge_convert_plain_text_to_rouge_format script to /usr/local/bin\n",
            "Installing pyrouge_evaluate_plain_text_files script to /usr/local/bin\n",
            "Installing pyrouge_set_rouge_path script to /usr/local/bin\n",
            "\n",
            "Installed /usr/local/lib/python3.6/dist-packages/pyrouge-0.1.3-py3.6.egg\n",
            "Processing dependencies for pyrouge==0.1.3\n",
            "Finished processing dependencies for pyrouge==0.1.3\n"
          ],
          "name": "stdout"
        }
      ]
    },
    {
      "cell_type": "code",
      "metadata": {
        "id": "MPtFGH1YMR2y",
        "colab_type": "code",
        "colab": {
          "base_uri": "https://localhost:8080/",
          "height": 34
        },
        "outputId": "48618469-eb53-4612-e74b-b79554226829"
      },
      "source": [
        "!pyrouge_set_rouge_path  /content/flask/PreSumm/pyrouge/tools/ROUGE-1.5.5/"
      ],
      "execution_count": 22,
      "outputs": [
        {
          "output_type": "stream",
          "text": [
            "2020-07-22 22:06:58,620 [MainThread  ] [INFO ]  Set ROUGE home directory to /content/flask/PreSumm/pyrouge/tools/ROUGE-1.5.5/.\n"
          ],
          "name": "stdout"
        }
      ]
    },
    {
      "cell_type": "markdown",
      "metadata": {
        "id": "7aXgSmeDeWhP",
        "colab_type": "text"
      },
      "source": [
        "Test if everything’s installed by running"
      ]
    },
    {
      "cell_type": "code",
      "metadata": {
        "id": "vIqnRQX8MbAF",
        "colab_type": "code",
        "colab": {
          "base_uri": "https://localhost:8080/",
          "height": 1000
        },
        "outputId": "1172c193-b48b-4102-8e39-2d82f5483370"
      },
      "source": [
        "!python -m pyrouge.test"
      ],
      "execution_count": 23,
      "outputs": [
        {
          "output_type": "stream",
          "text": [
            "2020-07-22 22:06:59,739 [MainThread  ] [INFO ]  Written ROUGE configuration to /tmp/tmpcspndvcz/rouge_conf.xml\n",
            ".2020-07-22 22:06:59,987 [MainThread  ] [INFO ]  Processing files in data/SL2003_models_plain_text.\n",
            "2020-07-22 22:06:59,987 [MainThread  ] [INFO ]  Processing SL.P.10.R.A.SL062003-06.html.\n",
            "2020-07-22 22:06:59,987 [MainThread  ] [INFO ]  Processing SL.P.10.R.A.SL062003-18.html.\n",
            "2020-07-22 22:06:59,987 [MainThread  ] [INFO ]  Processing SL.P.10.R.A.SL062003-12.html.\n",
            "2020-07-22 22:06:59,987 [MainThread  ] [INFO ]  Processing SL.P.10.R.A.SL062003-24.html.\n",
            "2020-07-22 22:06:59,988 [MainThread  ] [INFO ]  Processing SL.P.10.R.A.SL062003-07.html.\n",
            "2020-07-22 22:06:59,988 [MainThread  ] [INFO ]  Processing SL.P.10.R.A.SL062003-09.html.\n",
            "2020-07-22 22:06:59,988 [MainThread  ] [INFO ]  Processing SL.P.10.R.A.SL062003-15.html.\n",
            "2020-07-22 22:06:59,988 [MainThread  ] [INFO ]  Processing SL.P.10.R.A.SL062003-05.html.\n",
            "2020-07-22 22:06:59,988 [MainThread  ] [INFO ]  Processing SL.P.10.R.A.SL062003-20.html.\n",
            "2020-07-22 22:06:59,988 [MainThread  ] [INFO ]  Processing SL.P.10.R.A.SL062003-11.html.\n",
            "2020-07-22 22:06:59,988 [MainThread  ] [INFO ]  Processing SL.P.10.R.A.SL062003-21.html.\n",
            "2020-07-22 22:06:59,989 [MainThread  ] [INFO ]  Processing SL.P.10.R.A.SL062003-25.html.\n",
            "2020-07-22 22:06:59,989 [MainThread  ] [INFO ]  Processing SL.P.10.R.A.SL062003-01.html.\n",
            "2020-07-22 22:06:59,989 [MainThread  ] [INFO ]  Processing SL.P.10.R.A.SL062003-14.html.\n",
            "2020-07-22 22:06:59,989 [MainThread  ] [INFO ]  Processing SL.P.10.R.A.SL062003-17.html.\n",
            "2020-07-22 22:06:59,989 [MainThread  ] [INFO ]  Processing SL.P.10.R.A.SL062003-13.html.\n",
            "2020-07-22 22:06:59,989 [MainThread  ] [INFO ]  Processing SL.P.10.R.A.SL062003-04.html.\n",
            "2020-07-22 22:06:59,990 [MainThread  ] [INFO ]  Processing SL.P.10.R.A.SL062003-19.html.\n",
            "2020-07-22 22:06:59,990 [MainThread  ] [INFO ]  Processing SL.P.10.R.A.SL062003-10.html.\n",
            "2020-07-22 22:06:59,990 [MainThread  ] [INFO ]  Processing SL.P.10.R.A.SL062003-03.html.\n",
            "2020-07-22 22:06:59,990 [MainThread  ] [INFO ]  Processing SL.P.10.R.A.SL062003-22.html.\n",
            "2020-07-22 22:06:59,990 [MainThread  ] [INFO ]  Processing SL.P.10.R.A.SL062003-23.html.\n",
            "2020-07-22 22:06:59,990 [MainThread  ] [INFO ]  Processing SL.P.10.R.A.SL062003-02.html.\n",
            "2020-07-22 22:06:59,990 [MainThread  ] [INFO ]  Processing SL.P.10.R.A.SL062003-16.html.\n",
            "2020-07-22 22:06:59,991 [MainThread  ] [INFO ]  Processing SL.P.10.R.A.SL062003-08.html.\n",
            "2020-07-22 22:06:59,991 [MainThread  ] [INFO ]  Saved processed files to /tmp/tmp68xiv516.\n",
            ".2020-07-22 22:07:00,008 [MainThread  ] [INFO ]  Written ROUGE configuration to /tmp/tmpus7f0y2g/rouge_conf.xml\n",
            "2020-07-22 22:07:00,008 [MainThread  ] [INFO ]  Running ROUGE with command /content/flask/PreSumm/pyrouge/tools/ROUGE-1.5.5/ROUGE-1.5.5.pl -e /content/flask/PreSumm/pyrouge/tools/ROUGE-1.5.5/data -c 95 -2 -1 -U -r 1000 -n 4 -w 1.2 -a -m /tmp/tmpus7f0y2g/rouge_conf.xml\n",
            ".2020-07-22 22:07:01,123 [MainThread  ] [INFO ]  Processing files in data/SL2003_models_rouge_format.\n",
            "2020-07-22 22:07:01,123 [MainThread  ] [INFO ]  Processing SL.P.10.R.A.SL062003-06.html.\n",
            "/usr/local/lib/python3.6/dist-packages/pyrouge-0.1.3-py3.6.egg/EGG-INFO/scripts/pyrouge_convert_rouge_format_to_plain_text:14: UserWarning: No parser was explicitly specified, so I'm using the best available HTML parser for this system (\"lxml\"). This usually isn't a problem, but if you run this code on another system, or in a different virtual environment, it may use a different parser and behave differently.\n",
            "\n",
            "The code that caused this warning is on line 14 of the file /usr/local/lib/python3.6/dist-packages/pyrouge-0.1.3-py3.6.egg/EGG-INFO/scripts/pyrouge_convert_rouge_format_to_plain_text. To get rid of this warning, pass the additional argument 'features=\"lxml\"' to the BeautifulSoup constructor.\n",
            "\n",
            "  soup = BeautifulSoup(html)\n",
            "2020-07-22 22:07:01,125 [MainThread  ] [INFO ]  Processing SL.P.10.R.A.SL062003-18.html.\n",
            "2020-07-22 22:07:01,125 [MainThread  ] [INFO ]  Processing SL.P.10.R.A.SL062003-12.html.\n",
            "2020-07-22 22:07:01,126 [MainThread  ] [INFO ]  Processing SL.P.10.R.A.SL062003-24.html.\n",
            "2020-07-22 22:07:01,126 [MainThread  ] [INFO ]  Processing SL.P.10.R.A.SL062003-07.html.\n",
            "2020-07-22 22:07:01,127 [MainThread  ] [INFO ]  Processing SL.P.10.R.A.SL062003-09.html.\n",
            "2020-07-22 22:07:01,127 [MainThread  ] [INFO ]  Processing SL.P.10.R.A.SL062003-15.html.\n",
            "2020-07-22 22:07:01,128 [MainThread  ] [INFO ]  Processing SL.P.10.R.A.SL062003-05.html.\n",
            "2020-07-22 22:07:01,128 [MainThread  ] [INFO ]  Processing SL.P.10.R.A.SL062003-20.html.\n",
            "2020-07-22 22:07:01,129 [MainThread  ] [INFO ]  Processing SL.P.10.R.A.SL062003-11.html.\n",
            "2020-07-22 22:07:01,129 [MainThread  ] [INFO ]  Processing SL.P.10.R.A.SL062003-21.html.\n",
            "2020-07-22 22:07:01,130 [MainThread  ] [INFO ]  Processing SL.P.10.R.A.SL062003-25.html.\n",
            "2020-07-22 22:07:01,131 [MainThread  ] [INFO ]  Processing SL.P.10.R.A.SL062003-01.html.\n",
            "2020-07-22 22:07:01,131 [MainThread  ] [INFO ]  Processing SL.P.10.R.A.SL062003-14.html.\n",
            "2020-07-22 22:07:01,132 [MainThread  ] [INFO ]  Processing SL.P.10.R.A.SL062003-17.html.\n",
            "2020-07-22 22:07:01,132 [MainThread  ] [INFO ]  Processing SL.P.10.R.A.SL062003-13.html.\n",
            "2020-07-22 22:07:01,133 [MainThread  ] [INFO ]  Processing SL.P.10.R.A.SL062003-04.html.\n",
            "2020-07-22 22:07:01,133 [MainThread  ] [INFO ]  Processing SL.P.10.R.A.SL062003-19.html.\n",
            "2020-07-22 22:07:01,134 [MainThread  ] [INFO ]  Processing SL.P.10.R.A.SL062003-10.html.\n",
            "2020-07-22 22:07:01,134 [MainThread  ] [INFO ]  Processing SL.P.10.R.A.SL062003-03.html.\n",
            "2020-07-22 22:07:01,135 [MainThread  ] [INFO ]  Processing SL.P.10.R.A.SL062003-22.html.\n",
            "2020-07-22 22:07:01,135 [MainThread  ] [INFO ]  Processing SL.P.10.R.A.SL062003-23.html.\n",
            "2020-07-22 22:07:01,136 [MainThread  ] [INFO ]  Processing SL.P.10.R.A.SL062003-02.html.\n",
            "2020-07-22 22:07:01,136 [MainThread  ] [INFO ]  Processing SL.P.10.R.A.SL062003-16.html.\n",
            "2020-07-22 22:07:01,137 [MainThread  ] [INFO ]  Processing SL.P.10.R.A.SL062003-08.html.\n",
            "2020-07-22 22:07:01,137 [MainThread  ] [INFO ]  Saved processed files to /tmp/tmpkjdz_3hx.\n",
            ".2020-07-22 22:07:01,397 [MainThread  ] [INFO ]  Writing summaries.\n",
            "2020-07-22 22:07:01,397 [MainThread  ] [INFO ]  Processing summaries. Saving system files to /tmp/tmpoi_8mzca/system and model files to /tmp/tmpoi_8mzca/model.\n",
            "2020-07-22 22:07:01,397 [MainThread  ] [INFO ]  Processing files in data/systems_plain.\n",
            "2020-07-22 22:07:01,397 [MainThread  ] [INFO ]  Processing D30005.M.100.T.A.\n",
            "2020-07-22 22:07:01,398 [MainThread  ] [INFO ]  Processing D30001.M.100.T.A.\n",
            "2020-07-22 22:07:01,398 [MainThread  ] [INFO ]  Processing D30002.M.100.T.A.\n",
            "2020-07-22 22:07:01,398 [MainThread  ] [INFO ]  Processing D30003.M.100.T.A.\n",
            "2020-07-22 22:07:01,398 [MainThread  ] [INFO ]  Saved processed files to /tmp/tmpoi_8mzca/system.\n",
            "2020-07-22 22:07:01,398 [MainThread  ] [INFO ]  Processing files in data/models_plain.\n",
            "2020-07-22 22:07:01,398 [MainThread  ] [INFO ]  Processing D30002.M.100.T.B.\n",
            "2020-07-22 22:07:01,398 [MainThread  ] [INFO ]  Processing D30001.M.100.T.C.\n",
            "2020-07-22 22:07:01,399 [MainThread  ] [INFO ]  Processing D30001.M.100.T.D.\n",
            "2020-07-22 22:07:01,399 [MainThread  ] [INFO ]  Processing D30003.M.100.T.F.\n",
            "2020-07-22 22:07:01,399 [MainThread  ] [INFO ]  Processing D30005.M.100.T.B.\n",
            "2020-07-22 22:07:01,399 [MainThread  ] [INFO ]  Processing D30001.M.100.T.B.\n",
            "2020-07-22 22:07:01,399 [MainThread  ] [INFO ]  Processing D30003.M.100.T.C.\n",
            "2020-07-22 22:07:01,399 [MainThread  ] [INFO ]  Processing D30003.M.100.T.B.\n",
            "2020-07-22 22:07:01,400 [MainThread  ] [INFO ]  Processing D30005.M.100.T.C.\n",
            "2020-07-22 22:07:01,400 [MainThread  ] [INFO ]  Processing D30002.M.100.T.C.\n",
            "2020-07-22 22:07:01,400 [MainThread  ] [INFO ]  Processing D30005.M.100.T.G.\n",
            "2020-07-22 22:07:01,400 [MainThread  ] [INFO ]  Processing D30002.M.100.T.E.\n",
            "2020-07-22 22:07:01,401 [MainThread  ] [INFO ]  Saved processed files to /tmp/tmpoi_8mzca/model.\n",
            "2020-07-22 22:07:01,401 [MainThread  ] [INFO ]  Written ROUGE configuration to /tmp/tmpkl6s8ew5/rouge_conf.xml\n",
            "2020-07-22 22:07:01,402 [MainThread  ] [INFO ]  Running ROUGE with command /content/flask/PreSumm/pyrouge/tools/ROUGE-1.5.5/ROUGE-1.5.5.pl -e /content/flask/PreSumm/pyrouge/tools/ROUGE-1.5.5/data -c 90 -2 -1 -U -r 1000 -n 2 -w 1.2 -a -m data/config_test2.xml -m /tmp/tmpkl6s8ew5/rouge_conf.xml\n",
            "..2020-07-22 22:07:02,800 [MainThread  ] [INFO ]  Writing summaries.\n",
            "2020-07-22 22:07:02,800 [MainThread  ] [INFO ]  Processing summaries. Saving system files to /tmp/tmpuhp1j2ei/system and model files to /tmp/tmpuhp1j2ei/model.\n",
            "2020-07-22 22:07:02,800 [MainThread  ] [INFO ]  Processing files in data/systems_plain.\n",
            "2020-07-22 22:07:02,800 [MainThread  ] [INFO ]  Processing D30005.M.100.T.A.\n",
            "2020-07-22 22:07:02,801 [MainThread  ] [INFO ]  Processing D30001.M.100.T.A.\n",
            "2020-07-22 22:07:02,801 [MainThread  ] [INFO ]  Processing D30002.M.100.T.A.\n",
            "2020-07-22 22:07:02,801 [MainThread  ] [INFO ]  Processing D30003.M.100.T.A.\n",
            "2020-07-22 22:07:02,801 [MainThread  ] [INFO ]  Saved processed files to /tmp/tmpuhp1j2ei/system.\n",
            "2020-07-22 22:07:02,801 [MainThread  ] [INFO ]  Processing files in data/models_plain.\n",
            "2020-07-22 22:07:02,801 [MainThread  ] [INFO ]  Processing D30002.M.100.T.B.\n",
            "2020-07-22 22:07:02,802 [MainThread  ] [INFO ]  Processing D30001.M.100.T.C.\n",
            "2020-07-22 22:07:02,802 [MainThread  ] [INFO ]  Processing D30001.M.100.T.D.\n",
            "2020-07-22 22:07:02,802 [MainThread  ] [INFO ]  Processing D30003.M.100.T.F.\n",
            "2020-07-22 22:07:02,802 [MainThread  ] [INFO ]  Processing D30005.M.100.T.B.\n",
            "2020-07-22 22:07:02,802 [MainThread  ] [INFO ]  Processing D30001.M.100.T.B.\n",
            "2020-07-22 22:07:02,802 [MainThread  ] [INFO ]  Processing D30003.M.100.T.C.\n",
            "2020-07-22 22:07:02,803 [MainThread  ] [INFO ]  Processing D30003.M.100.T.B.\n",
            "2020-07-22 22:07:02,803 [MainThread  ] [INFO ]  Processing D30005.M.100.T.C.\n",
            "2020-07-22 22:07:02,803 [MainThread  ] [INFO ]  Processing D30002.M.100.T.C.\n",
            "2020-07-22 22:07:02,803 [MainThread  ] [INFO ]  Processing D30005.M.100.T.G.\n",
            "2020-07-22 22:07:02,803 [MainThread  ] [INFO ]  Processing D30002.M.100.T.E.\n",
            "2020-07-22 22:07:02,803 [MainThread  ] [INFO ]  Saved processed files to /tmp/tmpuhp1j2ei/model.\n",
            "2020-07-22 22:07:02,804 [MainThread  ] [INFO ]  Written ROUGE configuration to /tmp/tmp31ni2d7x/rouge_conf.xml\n",
            "2020-07-22 22:07:02,805 [MainThread  ] [INFO ]  Running ROUGE with command /content/flask/PreSumm/pyrouge/tools/ROUGE-1.5.5/ROUGE-1.5.5.pl -e /content/flask/PreSumm/pyrouge/tools/ROUGE-1.5.5/data -c 95 -2 -1 -U -r 1000 -n 4 -w 1.2 -a -m /tmp/tmp31ni2d7x/rouge_conf.xml\n",
            "../tmp/tmpl7vxyfxc/config_test.xml data/config_test.xml\n",
            "...\n",
            "----------------------------------------------------------------------\n",
            "Ran 11 tests in 4.624s\n",
            "\n",
            "OK\n"
          ],
          "name": "stdout"
        }
      ]
    },
    {
      "cell_type": "markdown",
      "metadata": {
        "id": "Dihlg9MLegMF",
        "colab_type": "text"
      },
      "source": [
        "If the above command outputs “OK” , everything has been installed properly."
      ]
    },
    {
      "cell_type": "code",
      "metadata": {
        "id": "MTme75ZgM2MC",
        "colab_type": "code",
        "colab": {
          "base_uri": "https://localhost:8080/",
          "height": 34
        },
        "outputId": "dfd75417-e7a3-4a47-cb86-f3416fc34ca8"
      },
      "source": [
        "%env PYTHONPATH=$PYTHONPATH:/content/flask-summary/PreSumm/src"
      ],
      "execution_count": 24,
      "outputs": [
        {
          "output_type": "stream",
          "text": [
            "env: PYTHONPATH=$PYTHONPATH:/content/flask-summary/PreSumm/src\n"
          ],
          "name": "stdout"
        }
      ]
    },
    {
      "cell_type": "code",
      "metadata": {
        "id": "jX57yDv7SoCm",
        "colab_type": "code",
        "colab": {}
      },
      "source": [
        "env"
      ],
      "execution_count": null,
      "outputs": []
    },
    {
      "cell_type": "code",
      "metadata": {
        "id": "WhCaAxvuM7v6",
        "colab_type": "code",
        "colab": {
          "base_uri": "https://localhost:8080/",
          "height": 34
        },
        "outputId": "d04f6f75-bbb8-4bad-a417-935db2ebd8c1"
      },
      "source": [
        "cd /content/flask"
      ],
      "execution_count": 26,
      "outputs": [
        {
          "output_type": "stream",
          "text": [
            "/content/flask\n"
          ],
          "name": "stdout"
        }
      ]
    },
    {
      "cell_type": "markdown",
      "metadata": {
        "id": "vbucMqJehjWy",
        "colab_type": "text"
      },
      "source": [
        "Install pytorch_pretrained_bert"
      ]
    },
    {
      "cell_type": "code",
      "metadata": {
        "id": "3cUzJwvfNoP_",
        "colab_type": "code",
        "colab": {}
      },
      "source": [
        "!pip install pytorch_pretrained_bert"
      ],
      "execution_count": null,
      "outputs": []
    },
    {
      "cell_type": "markdown",
      "metadata": {
        "id": "VBS6GOz0hpYy",
        "colab_type": "text"
      },
      "source": [
        "Install transformers and pytransformer"
      ]
    },
    {
      "cell_type": "code",
      "metadata": {
        "id": "tU-swCL4ZyY_",
        "colab_type": "code",
        "colab": {}
      },
      "source": [
        "!pip install transformers --user"
      ],
      "execution_count": null,
      "outputs": []
    },
    {
      "cell_type": "code",
      "metadata": {
        "id": "MytRUd0qOTR-",
        "colab_type": "code",
        "colab": {}
      },
      "source": [
        "!pip install pytorch-transformers"
      ],
      "execution_count": null,
      "outputs": []
    },
    {
      "cell_type": "markdown",
      "metadata": {
        "id": "OzHqKaL8hwld",
        "colab_type": "text"
      },
      "source": [
        "install tensorboardX"
      ]
    },
    {
      "cell_type": "code",
      "metadata": {
        "id": "9IABRSjgWtgo",
        "colab_type": "code",
        "colab": {}
      },
      "source": [
        "!pip install tensorboardX"
      ],
      "execution_count": null,
      "outputs": []
    },
    {
      "cell_type": "code",
      "metadata": {
        "id": "YFVZ7thyYEAN",
        "colab_type": "code",
        "colab": {
          "base_uri": "https://localhost:8080/",
          "height": 34
        },
        "outputId": "50cf520e-86e8-4bbd-8fc1-e5e4d608b41c"
      },
      "source": [
        "cd /content/flask/PreSumm/src/"
      ],
      "execution_count": 31,
      "outputs": [
        {
          "output_type": "stream",
          "text": [
            "/content/flask/PreSumm/src\n"
          ],
          "name": "stdout"
        }
      ]
    },
    {
      "cell_type": "markdown",
      "metadata": {
        "id": "kAnY5mFGh9JK",
        "colab_type": "text"
      },
      "source": [
        "Add the raw file(the file need to get summary) in PreSumm/raw_data/"
      ]
    },
    {
      "cell_type": "code",
      "metadata": {
        "id": "Okq-qdSLMWWv",
        "colab_type": "code",
        "colab": {}
      },
      "source": [
        "import time\n",
        "start_time = time.time()\n",
        "!python train.py -mode test_text -text_src /content/flask/PreSumm/raw_data/new_report.raw_src -test_from /content/flask/PreSumm/models/model_step_148000.pt -task abs\n",
        "print('--- %s seconds ---' % (time.time() - start_time))"
      ],
      "execution_count": null,
      "outputs": []
    },
    {
      "cell_type": "markdown",
      "metadata": {
        "id": "xsXI4l0alw3q",
        "colab_type": "text"
      },
      "source": [
        "Suppose if you get the error something like this in the above command. Do this. Error:   File \"/content/flask-summary/PreSumm/src/models/model_builder.py\", line 217, in __init__\n",
        "    self.load_state_dict(checkpoint['model'], strict=True)                    \n",
        "    change to self.load_state_dict(checkpoint['model'], strict=False)"
      ]
    },
    {
      "cell_type": "code",
      "metadata": {
        "id": "gJpnXgO4eIrj",
        "colab_type": "code",
        "colab": {
          "base_uri": "https://localhost:8080/",
          "height": 34
        },
        "outputId": "2986ce56-58bf-432b-989b-5e4f4edb1536"
      },
      "source": [
        "pwd "
      ],
      "execution_count": 36,
      "outputs": [
        {
          "output_type": "execute_result",
          "data": {
            "application/vnd.google.colaboratory.intrinsic+json": {
              "type": "string"
            },
            "text/plain": [
              "'/content/flask/PreSumm/src'"
            ]
          },
          "metadata": {
            "tags": []
          },
          "execution_count": 36
        }
      ]
    },
    {
      "cell_type": "markdown",
      "metadata": {
        "id": "5JYvJqZfiQyN",
        "colab_type": "text"
      },
      "source": [
        "Clone Remocolab to setupVNC to do the text summarization in WebServer"
      ]
    },
    {
      "cell_type": "markdown",
      "metadata": {
        "id": "jD7wDhawleQR",
        "colab_type": "text"
      },
      "source": [
        "Create an account in ngrok. Ngrok exposes local servers behind NATs and firewalls to the public internet over secure tunnels."
      ]
    },
    {
      "cell_type": "markdown",
      "metadata": {
        "id": "LeCQ1nl4ntoY",
        "colab_type": "text"
      },
      "source": [
        "It will provide VNC password and colab password. Using that open your command prompt with th colab link and type the colab password. And then in your vnc server get into localhost:1 with the provided vnc password. If suppose setting up the VNC get fails, try after sometime."
      ]
    },
    {
      "cell_type": "code",
      "metadata": {
        "id": "IZiUt8NyxB0C",
        "colab_type": "code",
        "colab": {}
      },
      "source": [
        "!pip install git+https://github.com/demotomohiro/remocolab.git\n",
        "import remocolab\n",
        "remocolab.setupVNC()"
      ],
      "execution_count": null,
      "outputs": []
    },
    {
      "cell_type": "markdown",
      "metadata": {
        "id": "HQ8tevnLii0b",
        "colab_type": "text"
      },
      "source": [
        "Install firefox in the colab linux system to access the browser"
      ]
    },
    {
      "cell_type": "code",
      "metadata": {
        "id": "vo3rNgcby7R0",
        "colab_type": "code",
        "colab": {}
      },
      "source": [
        "!sudo apt-get install firefox"
      ],
      "execution_count": null,
      "outputs": []
    },
    {
      "cell_type": "code",
      "metadata": {
        "id": "ClGF3u2D-tcQ",
        "colab_type": "code",
        "colab": {}
      },
      "source": [
        "cd /content/flask/"
      ],
      "execution_count": null,
      "outputs": []
    },
    {
      "cell_type": "code",
      "metadata": {
        "id": "TKC_X3sfTBdI",
        "colab_type": "code",
        "colab": {}
      },
      "source": [
        "!python app.py"
      ],
      "execution_count": null,
      "outputs": []
    },
    {
      "cell_type": "markdown",
      "metadata": {
        "id": "bGu8-epftzl_",
        "colab_type": "text"
      },
      "source": [
        "Example: Content"
      ]
    },
    {
      "cell_type": "markdown",
      "metadata": {
        "id": "V-sTykbkteHM",
        "colab_type": "text"
      },
      "source": [
        "![alt text](https://drive.google.com/uc?export=view&id=1vzwaiT_c9ceVg08JDomRRcCO8AiArved)"
      ]
    },
    {
      "cell_type": "markdown",
      "metadata": {
        "id": "Ypi4JE-Kv8RQ",
        "colab_type": "text"
      },
      "source": [
        "Summary"
      ]
    },
    {
      "cell_type": "markdown",
      "metadata": {
        "id": "5MdLWT37t5u2",
        "colab_type": "text"
      },
      "source": [
        "![alt text](https://drive.google.com/uc?export=view&id=17yn3N3-rOjM3wwocMT3hvAom6jcvQoWs)"
      ]
    }
  ]
}